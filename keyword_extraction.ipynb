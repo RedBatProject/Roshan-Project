{
  "nbformat": 4,
  "nbformat_minor": 0,
  "metadata": {
    "colab": {
      "provenance": [],
      "mount_file_id": "1jIorHfOrvrjvkCqdlFE6ragsXKbXONEy",
      "authorship_tag": "ABX9TyPETIfW4kaZG0ZdCpm/MIxC",
      "include_colab_link": true
    },
    "kernelspec": {
      "name": "python3",
      "display_name": "Python 3"
    },
    "language_info": {
      "name": "python"
    }
  },
  "cells": [
    {
      "cell_type": "markdown",
      "metadata": {
        "id": "view-in-github",
        "colab_type": "text"
      },
      "source": [
        "<a href=\"https://colab.research.google.com/github/RedBatProject/Roshan-Project/blob/main/keyword_extraction.ipynb\" target=\"_parent\"><img src=\"https://colab.research.google.com/assets/colab-badge.svg\" alt=\"Open In Colab\"/></a>"
      ]
    },
    {
      "cell_type": "code",
      "execution_count": 2,
      "metadata": {
        "id": "Mj1BY4gvNjX4"
      },
      "outputs": [],
      "source": [
        "import torch as t\n",
        "import matplotlib.pyplot as plt\n",
        "import pandas as pd\n",
        "import numpy as np\n",
        "import torch.nn.functional as F"
      ]
    },
    {
      "cell_type": "code",
      "source": [
        "df = pd.read_csv('/content/drive/MyDrive/Roshan Project/d/data_cleaned_17.csv')\n",
        "df.columns"
      ],
      "metadata": {
        "colab": {
          "base_uri": "https://localhost:8080/"
        },
        "id": "hldWuV4ZNwkv",
        "outputId": "0407e764-525b-4cba-847d-ba6e717fa76b"
      },
      "execution_count": 3,
      "outputs": [
        {
          "output_type": "execute_result",
          "data": {
            "text/plain": [
              "Index(['Unnamed: 0', 'body', 'keywords', 'cleaned_body', 'textRank',\n",
              "       'singleRank', 'topicRank', 'tf-idf', 'tf-idf-1', 'positionRank',\n",
              "       'multipartiteRank', 'yake', 'NOUN_ADJ', 'NOUN_ADJ_2', 'roshan',\n",
              "       'cleaned_roshan', 'bigthan0', 'bigthan1', 'bigthan2', 'bigthan3',\n",
              "       'bigthan4', 'bigthan5', 'bigthan6'],\n",
              "      dtype='object')"
            ]
          },
          "metadata": {},
          "execution_count": 3
        }
      ]
    },
    {
      "cell_type": "code",
      "source": [
        "# df = df[0:50]\n",
        "df = df[['NOUN_ADJ', 'keywords', 'cleaned_body']]"
      ],
      "metadata": {
        "id": "oCds0PK-OgNX"
      },
      "execution_count": 4,
      "outputs": []
    },
    {
      "cell_type": "code",
      "source": [
        "split_keywords = []\n",
        "split_body = []\n",
        "for body,keywords in zip(df['NOUN_ADJ'],df['keywords']):\n",
        "    for keyword in keywords.split(','):\n",
        "        split_keywords.append(keyword)\n",
        "        split_body.append(body)\n"
      ],
      "metadata": {
        "id": "sKEIIaYnOmF4"
      },
      "execution_count": 5,
      "outputs": []
    },
    {
      "cell_type": "code",
      "source": [
        "keywords_mean_len = []\n",
        "for keyword in split_keywords:\n",
        "    keywords_mean_len.append(len(keyword.split()))\n",
        "print(np.mean(keywords_mean_len))"
      ],
      "metadata": {
        "colab": {
          "base_uri": "https://localhost:8080/"
        },
        "id": "hKlaEnv6PE9U",
        "outputId": "80b617b1-adb0-4aa3-e16f-07aa072043fb"
      },
      "execution_count": 6,
      "outputs": [
        {
          "output_type": "stream",
          "name": "stdout",
          "text": [
            "2.1344348479158843\n"
          ]
        }
      ]
    },
    {
      "cell_type": "code",
      "source": [
        "df2 = pd.DataFrame()\n",
        "df2['text'] = split_body\n",
        "df2['keywords'] =  split_keywords"
      ],
      "metadata": {
        "id": "TJpQp6qsrtFa"
      },
      "execution_count": 7,
      "outputs": []
    },
    {
      "cell_type": "code",
      "source": [
        "df2['text'][0]"
      ],
      "metadata": {
        "colab": {
          "base_uri": "https://localhost:8080/",
          "height": 108
        },
        "id": "g21454unyick",
        "outputId": "1b61542a-b89b-4796-aff8-de786b92cdaf"
      },
      "execution_count": 8,
      "outputs": [
        {
          "output_type": "execute_result",
          "data": {
            "text/plain": [
              "'نوشتار بررسی فقه الحدیثی کتاب معانی الاخبار اثر شیخ صدوق ره روش مبانی دست پژوهش عمل کنکاش روایات نتیجه ذیل حاصل شیخ صدوق ره حیطه مبانی حیطه روش سبک بیانی تبیینی بیان مطالب فقه الحدیثی مواقعی صدوق ره مبانی روش های فقه الحدیثی نقل روایت بیان توضیح اضافاتی مسکوت می حکایت مبانی روش بیانی پاره ای مواقع بیانات اضافات دنبال روایت قید می مبانی روش تبیینی نظر جمله مبانی فقه الحدیثی شیخ صدوق اعتقاد عصمت علم انبیاء امه اطهار علیهم السلام تقدم نص عقل حفظ جایگاه عقل پذیرش رد روایات اعتقاد لزوم تقیه می تشکیل خانواده حدیثی چینش هندسی روایات تفسیر روایات قرآن روایات عنوان نمونه موارد روش های فقه الحدیثی نویسنده ذکر شواهدی راستا میداتی نتایج علمی اراه مهمترین نتایچ پژوهش مقوله ای بدیع مطابقت مبانی شیخ صدوق روش فقه الحدیثی توجه روش شیخ صدوق چینش هندسی روایات لحاظ محتوا سند هچنین ابواب ابعاد علمی سبک زیبای فقه الحدیثی نمایان می نقش شیخ صدوق تقریب مذاهب دفاع مقام ولایت امامت مذهب حقه شیعه جدال احسن مواردی شیخ صدوق رسیدن مقصود تلاش'"
            ],
            "application/vnd.google.colaboratory.intrinsic+json": {
              "type": "string"
            }
          },
          "metadata": {},
          "execution_count": 8
        }
      ]
    },
    {
      "cell_type": "code",
      "source": [
        "# /2146"
      ],
      "metadata": {
        "id": "VMzSBi0g1ayQ"
      },
      "execution_count": 9,
      "outputs": []
    },
    {
      "cell_type": "code",
      "source": [
        "# sorted(keywords_mean_len)"
      ],
      "metadata": {
        "id": "1tdlEpWmbWTm"
      },
      "execution_count": 10,
      "outputs": []
    },
    {
      "cell_type": "code",
      "source": [
        "plt.plot(range(len(keywords_mean_len)),sorted(keywords_mean_len))"
      ],
      "metadata": {
        "colab": {
          "base_uri": "https://localhost:8080/",
          "height": 447
        },
        "id": "E4Nz7_YjSFaR",
        "outputId": "bb8fc1a4-aa20-4f24-a302-f61f2c71549e"
      },
      "execution_count": 11,
      "outputs": [
        {
          "output_type": "execute_result",
          "data": {
            "text/plain": [
              "[<matplotlib.lines.Line2D at 0x7f057a2a7d00>]"
            ]
          },
          "metadata": {},
          "execution_count": 11
        },
        {
          "output_type": "display_data",
          "data": {
            "text/plain": [
              "<Figure size 640x480 with 1 Axes>"
            ],
            "image/png": "[encoded data removed]"
          },
          "metadata": {}
        }
      ]
    },
    {
      "cell_type": "code",
      "source": [
        "words = []\n",
        "for sentence in df['NOUN_ADJ']:\n",
        "    for word in sentence.split():\n",
        "        words.append(word)\n"
      ],
      "metadata": {
        "id": "ZVvFx_bVco3H"
      },
      "execution_count": 12,
      "outputs": []
    },
    {
      "cell_type": "code",
      "source": [
        "words[0:10]"
      ],
      "metadata": {
        "colab": {
          "base_uri": "https://localhost:8080/"
        },
        "id": "SZe0W1Lncp1N",
        "outputId": "c8422a3d-cd9a-4ede-c264-6816ca8fd7b5"
      },
      "execution_count": 13,
      "outputs": [
        {
          "output_type": "execute_result",
          "data": {
            "text/plain": [
              "['نوشتار',\n",
              " 'بررسی',\n",
              " 'فقه',\n",
              " 'الحدیثی',\n",
              " 'کتاب',\n",
              " 'معانی',\n",
              " 'الاخبار',\n",
              " 'اثر',\n",
              " 'شیخ',\n",
              " 'صدوق']"
            ]
          },
          "metadata": {},
          "execution_count": 13
        }
      ]
    },
    {
      "cell_type": "code",
      "source": [
        "from collections import Counter"
      ],
      "metadata": {
        "id": "q900CnG_fMaP"
      },
      "execution_count": 14,
      "outputs": []
    },
    {
      "cell_type": "code",
      "source": [
        "# Counter(words)"
      ],
      "metadata": {
        "id": "5KE7hsBbfeVg"
      },
      "execution_count": 15,
      "outputs": []
    },
    {
      "cell_type": "code",
      "source": [
        "wtoi = {}\n",
        "for i,w in enumerate(list(set(words))):\n",
        "    wtoi[w] = i+1"
      ],
      "metadata": {
        "id": "ypyabptKfHHd"
      },
      "execution_count": 16,
      "outputs": []
    },
    {
      "cell_type": "code",
      "source": [
        "np.max(list(wtoi.values()))"
      ],
      "metadata": {
        "colab": {
          "base_uri": "https://localhost:8080/"
        },
        "id": "NMDRLe_PjUmm",
        "outputId": "c357fc48-7e3f-43dc-dd6f-ce47fad11e00"
      },
      "execution_count": 17,
      "outputs": [
        {
          "output_type": "execute_result",
          "data": {
            "text/plain": [
              "9958"
            ]
          },
          "metadata": {},
          "execution_count": 17
        }
      ]
    },
    {
      "cell_type": "code",
      "source": [
        "itow = {j:i for i,j in wtoi.items()}"
      ],
      "metadata": {
        "id": "QKEzWWEFkIXW"
      },
      "execution_count": 18,
      "outputs": []
    },
    {
      "cell_type": "code",
      "source": [
        "# itow"
      ],
      "metadata": {
        "id": "48amCUtMkO9Z"
      },
      "execution_count": 19,
      "outputs": []
    },
    {
      "cell_type": "code",
      "source": [
        "dflen = df2['text'].str.split().apply(len)\n",
        "dflen_keys = df2['keywords'].str.split().apply(len)\n"
      ],
      "metadata": {
        "id": "50nfbLG3kTZz"
      },
      "execution_count": 20,
      "outputs": []
    },
    {
      "cell_type": "code",
      "source": [
        "dflen_keys"
      ],
      "metadata": {
        "colab": {
          "base_uri": "https://localhost:8080/"
        },
        "id": "x_apQpTuzvv8",
        "outputId": "ba7a5744-178e-4df1-ae44-7ee2938aa13c"
      },
      "execution_count": 21,
      "outputs": [
        {
          "output_type": "execute_result",
          "data": {
            "text/plain": [
              "0       2\n",
              "1       2\n",
              "2       3\n",
              "3       3\n",
              "4       2\n",
              "       ..\n",
              "2658    1\n",
              "2659    2\n",
              "2660    2\n",
              "2661    5\n",
              "2662    3\n",
              "Name: keywords, Length: 2663, dtype: int64"
            ]
          },
          "metadata": {},
          "execution_count": 21
        }
      ]
    },
    {
      "cell_type": "code",
      "source": [
        "maxlen = dflen.max()\n",
        "dflen_key = dflen_keys.max()"
      ],
      "metadata": {
        "id": "eEd5wPP6kgMA"
      },
      "execution_count": 22,
      "outputs": []
    },
    {
      "cell_type": "code",
      "source": [
        "dflen_key,maxlen"
      ],
      "metadata": {
        "colab": {
          "base_uri": "https://localhost:8080/"
        },
        "id": "gK8AM84grEcQ",
        "outputId": "187190e8-7a9f-4301-b256-1df96ca21bfb"
      },
      "execution_count": 23,
      "outputs": [
        {
          "output_type": "execute_result",
          "data": {
            "text/plain": [
              "(10, 479)"
            ]
          },
          "metadata": {},
          "execution_count": 23
        }
      ]
    },
    {
      "cell_type": "code",
      "source": [
        "sentencestoi = []\n",
        "\n",
        "for sentence in df2['text']:\n",
        "    sentencetoi = []\n",
        "    for word in sentence.split():\n",
        "        sentencetoi.append(wtoi[word])\n",
        "    sentencestoi.append(sentencetoi)"
      ],
      "metadata": {
        "id": "nYR32UuUkmax"
      },
      "execution_count": 24,
      "outputs": []
    },
    {
      "cell_type": "code",
      "source": [
        "for i,sentence in enumerate(sentencestoi):\n",
        "    while len(sentencestoi[i]) < maxlen:\n",
        "        sentencestoi[i].append(0)"
      ],
      "metadata": {
        "id": "xgs_du34q3fx"
      },
      "execution_count": 25,
      "outputs": []
    },
    {
      "cell_type": "code",
      "source": [
        "sentencestoi = np.array(sentencestoi)"
      ],
      "metadata": {
        "id": "BDfJqpl8lMBg"
      },
      "execution_count": 26,
      "outputs": []
    },
    {
      "cell_type": "code",
      "source": [
        "keywordstoi = []\n",
        "for keyword in df2['keywords']:\n",
        "    keywordtoi = []\n",
        "    for key in keyword.split():\n",
        "        try:\n",
        "            keywordtoi.append(wtoi[key])\n",
        "        except:\n",
        "            pass\n",
        "    keywordstoi.append(keywordtoi)"
      ],
      "metadata": {
        "id": "ottQx1NUqF1j"
      },
      "execution_count": 27,
      "outputs": []
    },
    {
      "cell_type": "code",
      "source": [
        "# keywordstoi"
      ],
      "metadata": {
        "id": "YmurS4L9zf6G"
      },
      "execution_count": 28,
      "outputs": []
    },
    {
      "cell_type": "code",
      "source": [
        "for i,keys in enumerate(keywordstoi):\n",
        "    while len(keywordstoi[i]) < dflen_key:\n",
        "        keywordstoi[i].append(0)"
      ],
      "metadata": {
        "id": "ZV49fcCnlB7R"
      },
      "execution_count": 29,
      "outputs": []
    },
    {
      "cell_type": "code",
      "source": [
        "# keywordstoi"
      ],
      "metadata": {
        "id": "VIQnJvf3zkH9"
      },
      "execution_count": 30,
      "outputs": []
    },
    {
      "cell_type": "code",
      "source": [
        "keywordstoi = np.array(keywordstoi)"
      ],
      "metadata": {
        "id": "TgtmPK_gp71a"
      },
      "execution_count": 31,
      "outputs": []
    },
    {
      "cell_type": "code",
      "source": [
        "keywordstoi.shape,sentencestoi.shape"
      ],
      "metadata": {
        "colab": {
          "base_uri": "https://localhost:8080/"
        },
        "id": "w1_0cJNrrZbO",
        "outputId": "e13f17c0-3fbd-446d-ea77-406b9b1964c0"
      },
      "execution_count": 32,
      "outputs": [
        {
          "output_type": "execute_result",
          "data": {
            "text/plain": [
              "((2663, 10), (2663, 479))"
            ]
          },
          "metadata": {},
          "execution_count": 32
        }
      ]
    },
    {
      "cell_type": "code",
      "source": [
        "keywordstoi"
      ],
      "metadata": {
        "colab": {
          "base_uri": "https://localhost:8080/"
        },
        "id": "xhJ-kd5Driei",
        "outputId": "8984d605-763c-45d7-e449-ac2ede48fe67"
      },
      "execution_count": 33,
      "outputs": [
        {
          "output_type": "execute_result",
          "data": {
            "text/plain": [
              "array([[4924,  690,    0, ...,    0,    0,    0],\n",
              "       [1365, 5763,    0, ...,    0,    0,    0],\n",
              "       [6578, 4924, 8406, ...,    0,    0,    0],\n",
              "       ...,\n",
              "       [4037, 2244,    0, ...,    0,    0,    0],\n",
              "       [9377, 5629, 4989, ...,    0,    0,    0],\n",
              "       [5197, 2244, 4899, ...,    0,    0,    0]])"
            ]
          },
          "metadata": {},
          "execution_count": 33
        }
      ]
    },
    {
      "cell_type": "markdown",
      "source": [
        "# new data"
      ],
      "metadata": {
        "id": "HlyP6EDF2AWy"
      }
    },
    {
      "cell_type": "code",
      "source": [
        "textlist = []\n",
        "keylist = []\n",
        "for texts,keys in zip(df2['text'],df2['keywords']):\n",
        "    if f' {keys} ' in texts and len(keys) > 1:\n",
        "        # if keys not in keylist:\n",
        "            # print('True',keys)\n",
        "        textlist.append(texts)\n",
        "        keylist.append(keys)\n",
        "    else:\n",
        "        pass\n",
        "        # print('False',keys)"
      ],
      "metadata": {
        "id": "CUDJUwddrp1D"
      },
      "execution_count": 34,
      "outputs": []
    },
    {
      "cell_type": "code",
      "source": [
        "fil = pd.DataFrame()\n",
        "fil['text'] = textlist\n",
        "fil['key'] = keylist\n",
        "fil"
      ],
      "metadata": {
        "colab": {
          "base_uri": "https://localhost:8080/",
          "height": 424
        },
        "id": "1APfO9pZ073L",
        "outputId": "b13b0eaf-e0aa-454f-c732-cf37034b124e"
      },
      "execution_count": 35,
      "outputs": [
        {
          "output_type": "execute_result",
          "data": {
            "text/plain": [
              "                                                   text                    key\n",
              "0     نوشتار بررسی فقه الحدیثی کتاب معانی الاخبار اث...          معانی الاخبار\n",
              "1     نوشتار بررسی فقه الحدیثی کتاب معانی الاخبار اث...        روش فقه الحدیثی\n",
              "2     نوشتار بررسی فقه الحدیثی کتاب معانی الاخبار اث...      چینش هندسی روایات\n",
              "3     نوشتار بررسی فقه الحدیثی کتاب معانی الاخبار اث...               شیخ صدوق\n",
              "4     نوشتار بررسی فقه الحدیثی کتاب معانی الاخبار اث...      مبانی فقه الحدیثی\n",
              "...                                                 ...                    ...\n",
              "1879  هدف انجام تحقیق بررسی تاثیر کیفیت زندگی کاری ر...  رفتار شهروندی سازمانی\n",
              "1880  هدف انجام تحقیق بررسی تاثیر کیفیت زندگی کاری ر...                  تواضع\n",
              "1881  هدف انجام تحقیق بررسی تاثیر کیفیت زندگی کاری ر...       کیفیت زندگی کاری\n",
              "1882  هدف پژوهش حاضر تبیین رابطه بین جهت گیری زندگی ...                کارکنان\n",
              "1883  هدف پژوهش حاضر تبیین رابطه بین جهت گیری زندگی ...       کیفیت زندگی کاری\n",
              "\n",
              "[1884 rows x 2 columns]"
            ],
            "text/html": [
              "\n",
              "  <div id=\"df-929e8502-bfcb-404e-a1c3-dd1d274c0155\" class=\"colab-df-container\">\n",
              "    <div>\n",
              "<style scoped>\n",
              "    .dataframe tbody tr th:only-of-type {\n",
              "        vertical-align: middle;\n",
              "    }\n",
              "\n",
              "    .dataframe tbody tr th {\n",
              "        vertical-align: top;\n",
              "    }\n",
              "\n",
              "    .dataframe thead th {\n",
              "        text-align: right;\n",
              "    }\n",
              "</style>\n",
              "<table border=\"1\" class=\"dataframe\">\n",
              "  <thead>\n",
              "    <tr style=\"text-align: right;\">\n",
              "      <th></th>\n",
              "      <th>text</th>\n",
              "      <th>key</th>\n",
              "    </tr>\n",
              "  </thead>\n",
              "  <tbody>\n",
              "    <tr>\n",
              "      <th>0</th>\n",
              "      <td>نوشتار بررسی فقه الحدیثی کتاب معانی الاخبار اث...</td>\n",
              "      <td>معانی الاخبار</td>\n",
              "    </tr>\n",
              "    <tr>\n",
              "      <th>1</th>\n",
              "      <td>نوشتار بررسی فقه الحدیثی کتاب معانی الاخبار اث...</td>\n",
              "      <td>روش فقه الحدیثی</td>\n",
              "    </tr>\n",
              "    <tr>\n",
              "      <th>2</th>\n",
              "      <td>نوشتار بررسی فقه الحدیثی کتاب معانی الاخبار اث...</td>\n",
              "      <td>چینش هندسی روایات</td>\n",
              "    </tr>\n",
              "    <tr>\n",
              "      <th>3</th>\n",
              "      <td>نوشتار بررسی فقه الحدیثی کتاب معانی الاخبار اث...</td>\n",
              "      <td>شیخ صدوق</td>\n",
              "    </tr>\n",
              "    <tr>\n",
              "      <th>4</th>\n",
              "      <td>نوشتار بررسی فقه الحدیثی کتاب معانی الاخبار اث...</td>\n",
              "      <td>مبانی فقه الحدیثی</td>\n",
              "    </tr>\n",
              "    <tr>\n",
              "      <th>...</th>\n",
              "      <td>...</td>\n",
              "      <td>...</td>\n",
              "    </tr>\n",
              "    <tr>\n",
              "      <th>1879</th>\n",
              "      <td>هدف انجام تحقیق بررسی تاثیر کیفیت زندگی کاری ر...</td>\n",
              "      <td>رفتار شهروندی سازمانی</td>\n",
              "    </tr>\n",
              "    <tr>\n",
              "      <th>1880</th>\n",
              "      <td>هدف انجام تحقیق بررسی تاثیر کیفیت زندگی کاری ر...</td>\n",
              "      <td>تواضع</td>\n",
              "    </tr>\n",
              "    <tr>\n",
              "      <th>1881</th>\n",
              "      <td>هدف انجام تحقیق بررسی تاثیر کیفیت زندگی کاری ر...</td>\n",
              "      <td>کیفیت زندگی کاری</td>\n",
              "    </tr>\n",
              "    <tr>\n",
              "      <th>1882</th>\n",
              "      <td>هدف پژوهش حاضر تبیین رابطه بین جهت گیری زندگی ...</td>\n",
              "      <td>کارکنان</td>\n",
              "    </tr>\n",
              "    <tr>\n",
              "      <th>1883</th>\n",
              "      <td>هدف پژوهش حاضر تبیین رابطه بین جهت گیری زندگی ...</td>\n",
              "      <td>کیفیت زندگی کاری</td>\n",
              "    </tr>\n",
              "  </tbody>\n",
              "</table>\n",
              "<p>1884 rows × 2 columns</p>\n",
              "</div>\n",
              "    <div class=\"colab-df-buttons\">\n",
              "\n",
              "  <div class=\"colab-df-container\">\n",
              "    <button class=\"colab-df-convert\" onclick=\"convertToInteractive('df-929e8502-bfcb-404e-a1c3-dd1d274c0155')\"\n",
              "            title=\"Convert this dataframe to an interactive table.\"\n",
              "            style=\"display:none;\">\n",
              "\n",
              "  <svg xmlns=\"http://www.w3.org/2000/svg\" height=\"24px\" viewBox=\"0 -960 960 960\">\n",
              "    <path d=\"M120-120v-720h720v720H120Zm60-500h600v-160H180v160Zm220 220h160v-160H400v160Zm0 220h160v-160H400v160ZM180-400h160v-160H180v160Zm440 0h160v-160H620v160ZM180-180h160v-160H180v160Zm440 0h160v-160H620v160Z\"/>\n",
              "  </svg>\n",
              "    </button>\n",
              "\n",
              "  <style>\n",
              "    .colab-df-container {\n",
              "      display:flex;\n",
              "      gap: 12px;\n",
              "    }\n",
              "\n",
              "    .colab-df-convert {\n",
              "      background-color: #E8F0FE;\n",
              "      border: none;\n",
              "      border-radius: 50%;\n",
              "      cursor: pointer;\n",
              "      display: none;\n",
              "      fill: #1967D2;\n",
              "      height: 32px;\n",
              "      padding: 0 0 0 0;\n",
              "      width: 32px;\n",
              "    }\n",
              "\n",
              "    .colab-df-convert:hover {\n",
              "      background-color: #E2EBFA;\n",
              "      box-shadow: 0px 1px 2px rgba(60, 64, 67, 0.3), 0px 1px 3px 1px rgba(60, 64, 67, 0.15);\n",
              "      fill: #174EA6;\n",
              "    }\n",
              "\n",
              "    .colab-df-buttons div {\n",
              "      margin-bottom: 4px;\n",
              "    }\n",
              "\n",
              "    [theme=dark] .colab-df-convert {\n",
              "      background-color: #3B4455;\n",
              "      fill: #D2E3FC;\n",
              "    }\n",
              "\n",
              "    [theme=dark] .colab-df-convert:hover {\n",
              "      background-color: #434B5C;\n",
              "      box-shadow: 0px 1px 3px 1px rgba(0, 0, 0, 0.15);\n",
              "      filter: drop-shadow(0px 1px 2px rgba(0, 0, 0, 0.3));\n",
              "      fill: #FFFFFF;\n",
              "    }\n",
              "  </style>\n",
              "\n",
              "    <script>\n",
              "      const buttonEl =\n",
              "        document.querySelector('#df-929e8502-bfcb-404e-a1c3-dd1d274c0155 button.colab-df-convert');\n",
              "      buttonEl.style.display =\n",
              "        google.colab.kernel.accessAllowed ? 'block' : 'none';\n",
              "\n",
              "      async function convertToInteractive(key) {\n",
              "        const element = document.querySelector('#df-929e8502-bfcb-404e-a1c3-dd1d274c0155');\n",
              "        const dataTable =\n",
              "          await google.colab.kernel.invokeFunction('convertToInteractive',\n",
              "                                                    [key], {});\n",
              "        if (!dataTable) return;\n",
              "\n",
              "        const docLinkHtml = 'Like what you see? Visit the ' +\n",
              "          '<a target=\"_blank\" href=https://colab.research.google.com/notebooks/data_table.ipynb>data table notebook</a>'\n",
              "          + ' to learn more about interactive tables.';\n",
              "        element.innerHTML = '';\n",
              "        dataTable['output_type'] = 'display_data';\n",
              "        await google.colab.output.renderOutput(dataTable, element);\n",
              "        const docLink = document.createElement('div');\n",
              "        docLink.innerHTML = docLinkHtml;\n",
              "        element.appendChild(docLink);\n",
              "      }\n",
              "    </script>\n",
              "  </div>\n",
              "\n",
              "\n",
              "<div id=\"df-bfbe5d20-cf27-4a49-87fb-519056ef8528\">\n",
              "  <button class=\"colab-df-quickchart\" onclick=\"quickchart('df-bfbe5d20-cf27-4a49-87fb-519056ef8528')\"\n",
              "            title=\"Suggest charts.\"\n",
              "            style=\"display:none;\">\n",
              "\n",
              "<svg xmlns=\"http://www.w3.org/2000/svg\" height=\"24px\"viewBox=\"0 0 24 24\"\n",
              "     width=\"24px\">\n",
              "    <g>\n",
              "        <path d=\"M19 3H5c-1.1 0-2 .9-2 2v14c0 1.1.9 2 2 2h14c1.1 0 2-.9 2-2V5c0-1.1-.9-2-2-2zM9 17H7v-7h2v7zm4 0h-2V7h2v10zm4 0h-2v-4h2v4z\"/>\n",
              "    </g>\n",
              "</svg>\n",
              "  </button>\n",
              "\n",
              "<style>\n",
              "  .colab-df-quickchart {\n",
              "      --bg-color: #E8F0FE;\n",
              "      --fill-color: #1967D2;\n",
              "      --hover-bg-color: #E2EBFA;\n",
              "      --hover-fill-color: #174EA6;\n",
              "      --disabled-fill-color: #AAA;\n",
              "      --disabled-bg-color: #DDD;\n",
              "  }\n",
              "\n",
              "  [theme=dark] .colab-df-quickchart {\n",
              "      --bg-color: #3B4455;\n",
              "      --fill-color: #D2E3FC;\n",
              "      --hover-bg-color: #434B5C;\n",
              "      --hover-fill-color: #FFFFFF;\n",
              "      --disabled-bg-color: #3B4455;\n",
              "      --disabled-fill-color: #666;\n",
              "  }\n",
              "\n",
              "  .colab-df-quickchart {\n",
              "    background-color: var(--bg-color);\n",
              "    border: none;\n",
              "    border-radius: 50%;\n",
              "    cursor: pointer;\n",
              "    display: none;\n",
              "    fill: var(--fill-color);\n",
              "    height: 32px;\n",
              "    padding: 0;\n",
              "    width: 32px;\n",
              "  }\n",
              "\n",
              "  .colab-df-quickchart:hover {\n",
              "    background-color: var(--hover-bg-color);\n",
              "    box-shadow: 0 1px 2px rgba(60, 64, 67, 0.3), 0 1px 3px 1px rgba(60, 64, 67, 0.15);\n",
              "    fill: var(--button-hover-fill-color);\n",
              "  }\n",
              "\n",
              "  .colab-df-quickchart-complete:disabled,\n",
              "  .colab-df-quickchart-complete:disabled:hover {\n",
              "    background-color: var(--disabled-bg-color);\n",
              "    fill: var(--disabled-fill-color);\n",
              "    box-shadow: none;\n",
              "  }\n",
              "\n",
              "  .colab-df-spinner {\n",
              "    border: 2px solid var(--fill-color);\n",
              "    border-color: transparent;\n",
              "    border-bottom-color: var(--fill-color);\n",
              "    animation:\n",
              "      spin 1s steps(1) infinite;\n",
              "  }\n",
              "\n",
              "  @keyframes spin {\n",
              "    0% {\n",
              "      border-color: transparent;\n",
              "      border-bottom-color: var(--fill-color);\n",
              "      border-left-color: var(--fill-color);\n",
              "    }\n",
              "    20% {\n",
              "      border-color: transparent;\n",
              "      border-left-color: var(--fill-color);\n",
              "      border-top-color: var(--fill-color);\n",
              "    }\n",
              "    30% {\n",
              "      border-color: transparent;\n",
              "      border-left-color: var(--fill-color);\n",
              "      border-top-color: var(--fill-color);\n",
              "      border-right-color: var(--fill-color);\n",
              "    }\n",
              "    40% {\n",
              "      border-color: transparent;\n",
              "      border-right-color: var(--fill-color);\n",
              "      border-top-color: var(--fill-color);\n",
              "    }\n",
              "    60% {\n",
              "      border-color: transparent;\n",
              "      border-right-color: var(--fill-color);\n",
              "    }\n",
              "    80% {\n",
              "      border-color: transparent;\n",
              "      border-right-color: var(--fill-color);\n",
              "      border-bottom-color: var(--fill-color);\n",
              "    }\n",
              "    90% {\n",
              "      border-color: transparent;\n",
              "      border-bottom-color: var(--fill-color);\n",
              "    }\n",
              "  }\n",
              "</style>\n",
              "\n",
              "  <script>\n",
              "    async function quickchart(key) {\n",
              "      const quickchartButtonEl =\n",
              "        document.querySelector('#' + key + ' button');\n",
              "      quickchartButtonEl.disabled = true;  // To prevent multiple clicks.\n",
              "      quickchartButtonEl.classList.add('colab-df-spinner');\n",
              "      try {\n",
              "        const charts = await google.colab.kernel.invokeFunction(\n",
              "            'suggestCharts', [key], {});\n",
              "      } catch (error) {\n",
              "        console.error('Error during call to suggestCharts:', error);\n",
              "      }\n",
              "      quickchartButtonEl.classList.remove('colab-df-spinner');\n",
              "      quickchartButtonEl.classList.add('colab-df-quickchart-complete');\n",
              "    }\n",
              "    (() => {\n",
              "      let quickchartButtonEl =\n",
              "        document.querySelector('#df-bfbe5d20-cf27-4a49-87fb-519056ef8528 button');\n",
              "      quickchartButtonEl.style.display =\n",
              "        google.colab.kernel.accessAllowed ? 'block' : 'none';\n",
              "    })();\n",
              "  </script>\n",
              "</div>\n",
              "    </div>\n",
              "  </div>\n"
            ]
          },
          "metadata": {},
          "execution_count": 35
        }
      ]
    },
    {
      "cell_type": "code",
      "source": [
        "fil.to_csv('/content/drive/MyDrive/Roshan Project/keywords extraction/newdata.csv',index=False)\n"
      ],
      "metadata": {
        "id": "pZf9r0R12Lv0"
      },
      "execution_count": 36,
      "outputs": []
    },
    {
      "cell_type": "code",
      "source": [
        "df2 = pd.read_csv('/content/drive/MyDrive/Roshan Project/keywords extraction/newdata.csv')\n",
        "df2"
      ],
      "metadata": {
        "colab": {
          "base_uri": "https://localhost:8080/",
          "height": 424
        },
        "id": "HYFtk7pR2XTA",
        "outputId": "c8b10a2c-a161-42d3-93dc-0439dd02badb"
      },
      "execution_count": 37,
      "outputs": [
        {
          "output_type": "execute_result",
          "data": {
            "text/plain": [
              "                                                   text                    key\n",
              "0     نوشتار بررسی فقه الحدیثی کتاب معانی الاخبار اث...          معانی الاخبار\n",
              "1     نوشتار بررسی فقه الحدیثی کتاب معانی الاخبار اث...        روش فقه الحدیثی\n",
              "2     نوشتار بررسی فقه الحدیثی کتاب معانی الاخبار اث...      چینش هندسی روایات\n",
              "3     نوشتار بررسی فقه الحدیثی کتاب معانی الاخبار اث...               شیخ صدوق\n",
              "4     نوشتار بررسی فقه الحدیثی کتاب معانی الاخبار اث...      مبانی فقه الحدیثی\n",
              "...                                                 ...                    ...\n",
              "1879  هدف انجام تحقیق بررسی تاثیر کیفیت زندگی کاری ر...  رفتار شهروندی سازمانی\n",
              "1880  هدف انجام تحقیق بررسی تاثیر کیفیت زندگی کاری ر...                  تواضع\n",
              "1881  هدف انجام تحقیق بررسی تاثیر کیفیت زندگی کاری ر...       کیفیت زندگی کاری\n",
              "1882  هدف پژوهش حاضر تبیین رابطه بین جهت گیری زندگی ...                کارکنان\n",
              "1883  هدف پژوهش حاضر تبیین رابطه بین جهت گیری زندگی ...       کیفیت زندگی کاری\n",
              "\n",
              "[1884 rows x 2 columns]"
            ],
            "text/html": [
              "\n",
              "  <div id=\"df-82c4ac01-4444-4ce5-866d-540facecd52f\" class=\"colab-df-container\">\n",
              "    <div>\n",
              "<style scoped>\n",
              "    .dataframe tbody tr th:only-of-type {\n",
              "        vertical-align: middle;\n",
              "    }\n",
              "\n",
              "    .dataframe tbody tr th {\n",
              "        vertical-align: top;\n",
              "    }\n",
              "\n",
              "    .dataframe thead th {\n",
              "        text-align: right;\n",
              "    }\n",
              "</style>\n",
              "<table border=\"1\" class=\"dataframe\">\n",
              "  <thead>\n",
              "    <tr style=\"text-align: right;\">\n",
              "      <th></th>\n",
              "      <th>text</th>\n",
              "      <th>key</th>\n",
              "    </tr>\n",
              "  </thead>\n",
              "  <tbody>\n",
              "    <tr>\n",
              "      <th>0</th>\n",
              "      <td>نوشتار بررسی فقه الحدیثی کتاب معانی الاخبار اث...</td>\n",
              "      <td>معانی الاخبار</td>\n",
              "    </tr>\n",
              "    <tr>\n",
              "      <th>1</th>\n",
              "      <td>نوشتار بررسی فقه الحدیثی کتاب معانی الاخبار اث...</td>\n",
              "      <td>روش فقه الحدیثی</td>\n",
              "    </tr>\n",
              "    <tr>\n",
              "      <th>2</th>\n",
              "      <td>نوشتار بررسی فقه الحدیثی کتاب معانی الاخبار اث...</td>\n",
              "      <td>چینش هندسی روایات</td>\n",
              "    </tr>\n",
              "    <tr>\n",
              "      <th>3</th>\n",
              "      <td>نوشتار بررسی فقه الحدیثی کتاب معانی الاخبار اث...</td>\n",
              "      <td>شیخ صدوق</td>\n",
              "    </tr>\n",
              "    <tr>\n",
              "      <th>4</th>\n",
              "      <td>نوشتار بررسی فقه الحدیثی کتاب معانی الاخبار اث...</td>\n",
              "      <td>مبانی فقه الحدیثی</td>\n",
              "    </tr>\n",
              "    <tr>\n",
              "      <th>...</th>\n",
              "      <td>...</td>\n",
              "      <td>...</td>\n",
              "    </tr>\n",
              "    <tr>\n",
              "      <th>1879</th>\n",
              "      <td>هدف انجام تحقیق بررسی تاثیر کیفیت زندگی کاری ر...</td>\n",
              "      <td>رفتار شهروندی سازمانی</td>\n",
              "    </tr>\n",
              "    <tr>\n",
              "      <th>1880</th>\n",
              "      <td>هدف انجام تحقیق بررسی تاثیر کیفیت زندگی کاری ر...</td>\n",
              "      <td>تواضع</td>\n",
              "    </tr>\n",
              "    <tr>\n",
              "      <th>1881</th>\n",
              "      <td>هدف انجام تحقیق بررسی تاثیر کیفیت زندگی کاری ر...</td>\n",
              "      <td>کیفیت زندگی کاری</td>\n",
              "    </tr>\n",
              "    <tr>\n",
              "      <th>1882</th>\n",
              "      <td>هدف پژوهش حاضر تبیین رابطه بین جهت گیری زندگی ...</td>\n",
              "      <td>کارکنان</td>\n",
              "    </tr>\n",
              "    <tr>\n",
              "      <th>1883</th>\n",
              "      <td>هدف پژوهش حاضر تبیین رابطه بین جهت گیری زندگی ...</td>\n",
              "      <td>کیفیت زندگی کاری</td>\n",
              "    </tr>\n",
              "  </tbody>\n",
              "</table>\n",
              "<p>1884 rows × 2 columns</p>\n",
              "</div>\n",
              "    <div class=\"colab-df-buttons\">\n",
              "\n",
              "  <div class=\"colab-df-container\">\n",
              "    <button class=\"colab-df-convert\" onclick=\"convertToInteractive('df-82c4ac01-4444-4ce5-866d-540facecd52f')\"\n",
              "            title=\"Convert this dataframe to an interactive table.\"\n",
              "            style=\"display:none;\">\n",
              "\n",
              "  <svg xmlns=\"http://www.w3.org/2000/svg\" height=\"24px\" viewBox=\"0 -960 960 960\">\n",
              "    <path d=\"M120-120v-720h720v720H120Zm60-500h600v-160H180v160Zm220 220h160v-160H400v160Zm0 220h160v-160H400v160ZM180-400h160v-160H180v160Zm440 0h160v-160H620v160ZM180-180h160v-160H180v160Zm440 0h160v-160H620v160Z\"/>\n",
              "  </svg>\n",
              "    </button>\n",
              "\n",
              "  <style>\n",
              "    .colab-df-container {\n",
              "      display:flex;\n",
              "      gap: 12px;\n",
              "    }\n",
              "\n",
              "    .colab-df-convert {\n",
              "      background-color: #E8F0FE;\n",
              "      border: none;\n",
              "      border-radius: 50%;\n",
              "      cursor: pointer;\n",
              "      display: none;\n",
              "      fill: #1967D2;\n",
              "      height: 32px;\n",
              "      padding: 0 0 0 0;\n",
              "      width: 32px;\n",
              "    }\n",
              "\n",
              "    .colab-df-convert:hover {\n",
              "      background-color: #E2EBFA;\n",
              "      box-shadow: 0px 1px 2px rgba(60, 64, 67, 0.3), 0px 1px 3px 1px rgba(60, 64, 67, 0.15);\n",
              "      fill: #174EA6;\n",
              "    }\n",
              "\n",
              "    .colab-df-buttons div {\n",
              "      margin-bottom: 4px;\n",
              "    }\n",
              "\n",
              "    [theme=dark] .colab-df-convert {\n",
              "      background-color: #3B4455;\n",
              "      fill: #D2E3FC;\n",
              "    }\n",
              "\n",
              "    [theme=dark] .colab-df-convert:hover {\n",
              "      background-color: #434B5C;\n",
              "      box-shadow: 0px 1px 3px 1px rgba(0, 0, 0, 0.15);\n",
              "      filter: drop-shadow(0px 1px 2px rgba(0, 0, 0, 0.3));\n",
              "      fill: #FFFFFF;\n",
              "    }\n",
              "  </style>\n",
              "\n",
              "    <script>\n",
              "      const buttonEl =\n",
              "        document.querySelector('#df-82c4ac01-4444-4ce5-866d-540facecd52f button.colab-df-convert');\n",
              "      buttonEl.style.display =\n",
              "        google.colab.kernel.accessAllowed ? 'block' : 'none';\n",
              "\n",
              "      async function convertToInteractive(key) {\n",
              "        const element = document.querySelector('#df-82c4ac01-4444-4ce5-866d-540facecd52f');\n",
              "        const dataTable =\n",
              "          await google.colab.kernel.invokeFunction('convertToInteractive',\n",
              "                                                    [key], {});\n",
              "        if (!dataTable) return;\n",
              "\n",
              "        const docLinkHtml = 'Like what you see? Visit the ' +\n",
              "          '<a target=\"_blank\" href=https://colab.research.google.com/notebooks/data_table.ipynb>data table notebook</a>'\n",
              "          + ' to learn more about interactive tables.';\n",
              "        element.innerHTML = '';\n",
              "        dataTable['output_type'] = 'display_data';\n",
              "        await google.colab.output.renderOutput(dataTable, element);\n",
              "        const docLink = document.createElement('div');\n",
              "        docLink.innerHTML = docLinkHtml;\n",
              "        element.appendChild(docLink);\n",
              "      }\n",
              "    </script>\n",
              "  </div>\n",
              "\n",
              "\n",
              "<div id=\"df-4ad7c21f-920d-4555-aa9a-c0ef16087d73\">\n",
              "  <button class=\"colab-df-quickchart\" onclick=\"quickchart('df-4ad7c21f-920d-4555-aa9a-c0ef16087d73')\"\n",
              "            title=\"Suggest charts.\"\n",
              "            style=\"display:none;\">\n",
              "\n",
              "<svg xmlns=\"http://www.w3.org/2000/svg\" height=\"24px\"viewBox=\"0 0 24 24\"\n",
              "     width=\"24px\">\n",
              "    <g>\n",
              "        <path d=\"M19 3H5c-1.1 0-2 .9-2 2v14c0 1.1.9 2 2 2h14c1.1 0 2-.9 2-2V5c0-1.1-.9-2-2-2zM9 17H7v-7h2v7zm4 0h-2V7h2v10zm4 0h-2v-4h2v4z\"/>\n",
              "    </g>\n",
              "</svg>\n",
              "  </button>\n",
              "\n",
              "<style>\n",
              "  .colab-df-quickchart {\n",
              "      --bg-color: #E8F0FE;\n",
              "      --fill-color: #1967D2;\n",
              "      --hover-bg-color: #E2EBFA;\n",
              "      --hover-fill-color: #174EA6;\n",
              "      --disabled-fill-color: #AAA;\n",
              "      --disabled-bg-color: #DDD;\n",
              "  }\n",
              "\n",
              "  [theme=dark] .colab-df-quickchart {\n",
              "      --bg-color: #3B4455;\n",
              "      --fill-color: #D2E3FC;\n",
              "      --hover-bg-color: #434B5C;\n",
              "      --hover-fill-color: #FFFFFF;\n",
              "      --disabled-bg-color: #3B4455;\n",
              "      --disabled-fill-color: #666;\n",
              "  }\n",
              "\n",
              "  .colab-df-quickchart {\n",
              "    background-color: var(--bg-color);\n",
              "    border: none;\n",
              "    border-radius: 50%;\n",
              "    cursor: pointer;\n",
              "    display: none;\n",
              "    fill: var(--fill-color);\n",
              "    height: 32px;\n",
              "    padding: 0;\n",
              "    width: 32px;\n",
              "  }\n",
              "\n",
              "  .colab-df-quickchart:hover {\n",
              "    background-color: var(--hover-bg-color);\n",
              "    box-shadow: 0 1px 2px rgba(60, 64, 67, 0.3), 0 1px 3px 1px rgba(60, 64, 67, 0.15);\n",
              "    fill: var(--button-hover-fill-color);\n",
              "  }\n",
              "\n",
              "  .colab-df-quickchart-complete:disabled,\n",
              "  .colab-df-quickchart-complete:disabled:hover {\n",
              "    background-color: var(--disabled-bg-color);\n",
              "    fill: var(--disabled-fill-color);\n",
              "    box-shadow: none;\n",
              "  }\n",
              "\n",
              "  .colab-df-spinner {\n",
              "    border: 2px solid var(--fill-color);\n",
              "    border-color: transparent;\n",
              "    border-bottom-color: var(--fill-color);\n",
              "    animation:\n",
              "      spin 1s steps(1) infinite;\n",
              "  }\n",
              "\n",
              "  @keyframes spin {\n",
              "    0% {\n",
              "      border-color: transparent;\n",
              "      border-bottom-color: var(--fill-color);\n",
              "      border-left-color: var(--fill-color);\n",
              "    }\n",
              "    20% {\n",
              "      border-color: transparent;\n",
              "      border-left-color: var(--fill-color);\n",
              "      border-top-color: var(--fill-color);\n",
              "    }\n",
              "    30% {\n",
              "      border-color: transparent;\n",
              "      border-left-color: var(--fill-color);\n",
              "      border-top-color: var(--fill-color);\n",
              "      border-right-color: var(--fill-color);\n",
              "    }\n",
              "    40% {\n",
              "      border-color: transparent;\n",
              "      border-right-color: var(--fill-color);\n",
              "      border-top-color: var(--fill-color);\n",
              "    }\n",
              "    60% {\n",
              "      border-color: transparent;\n",
              "      border-right-color: var(--fill-color);\n",
              "    }\n",
              "    80% {\n",
              "      border-color: transparent;\n",
              "      border-right-color: var(--fill-color);\n",
              "      border-bottom-color: var(--fill-color);\n",
              "    }\n",
              "    90% {\n",
              "      border-color: transparent;\n",
              "      border-bottom-color: var(--fill-color);\n",
              "    }\n",
              "  }\n",
              "</style>\n",
              "\n",
              "  <script>\n",
              "    async function quickchart(key) {\n",
              "      const quickchartButtonEl =\n",
              "        document.querySelector('#' + key + ' button');\n",
              "      quickchartButtonEl.disabled = true;  // To prevent multiple clicks.\n",
              "      quickchartButtonEl.classList.add('colab-df-spinner');\n",
              "      try {\n",
              "        const charts = await google.colab.kernel.invokeFunction(\n",
              "            'suggestCharts', [key], {});\n",
              "      } catch (error) {\n",
              "        console.error('Error during call to suggestCharts:', error);\n",
              "      }\n",
              "      quickchartButtonEl.classList.remove('colab-df-spinner');\n",
              "      quickchartButtonEl.classList.add('colab-df-quickchart-complete');\n",
              "    }\n",
              "    (() => {\n",
              "      let quickchartButtonEl =\n",
              "        document.querySelector('#df-4ad7c21f-920d-4555-aa9a-c0ef16087d73 button');\n",
              "      quickchartButtonEl.style.display =\n",
              "        google.colab.kernel.accessAllowed ? 'block' : 'none';\n",
              "    })();\n",
              "  </script>\n",
              "</div>\n",
              "    </div>\n",
              "  </div>\n"
            ]
          },
          "metadata": {},
          "execution_count": 37
        }
      ]
    },
    {
      "cell_type": "code",
      "source": [
        "df2['key']"
      ],
      "metadata": {
        "colab": {
          "base_uri": "https://localhost:8080/"
        },
        "id": "CUgTY-b53KQC",
        "outputId": "41156d11-289a-48f9-f410-cfe9544e6f3c"
      },
      "execution_count": 38,
      "outputs": [
        {
          "output_type": "execute_result",
          "data": {
            "text/plain": [
              "0               معانی الاخبار\n",
              "1             روش فقه الحدیثی\n",
              "2           چینش هندسی روایات\n",
              "3                    شیخ صدوق\n",
              "4           مبانی فقه الحدیثی\n",
              "                ...          \n",
              "1879    رفتار شهروندی سازمانی\n",
              "1880                    تواضع\n",
              "1881         کیفیت زندگی کاری\n",
              "1882                  کارکنان\n",
              "1883         کیفیت زندگی کاری\n",
              "Name: key, Length: 1884, dtype: object"
            ]
          },
          "metadata": {},
          "execution_count": 38
        }
      ]
    },
    {
      "cell_type": "code",
      "source": [
        "df2['len'] = df2['key'].str.split().apply(len)"
      ],
      "metadata": {
        "id": "YPakUNmv29hB"
      },
      "execution_count": 39,
      "outputs": []
    },
    {
      "cell_type": "code",
      "source": [
        "df2['len'].mean()"
      ],
      "metadata": {
        "colab": {
          "base_uri": "https://localhost:8080/"
        },
        "id": "4-LVqba_3e2T",
        "outputId": "135cd3d6-ce37-45e0-8393-960fd868d45e"
      },
      "execution_count": 40,
      "outputs": [
        {
          "output_type": "execute_result",
          "data": {
            "text/plain": [
              "1.9548832271762209"
            ]
          },
          "metadata": {},
          "execution_count": 40
        }
      ]
    },
    {
      "cell_type": "code",
      "source": [
        "df2 = df2[0:50]"
      ],
      "metadata": {
        "id": "C8-PGv8f5b-6"
      },
      "execution_count": 41,
      "outputs": []
    },
    {
      "cell_type": "markdown",
      "source": [
        "# start sklearn"
      ],
      "metadata": {
        "id": "6Vw0WUCJHuLf"
      }
    },
    {
      "cell_type": "code",
      "source": [
        "from sklearn.feature_extraction.text import CountVectorizer"
      ],
      "metadata": {
        "id": "uIF_T4IvHrcb"
      },
      "execution_count": 266,
      "outputs": []
    },
    {
      "cell_type": "code",
      "source": [
        "vectorizer2 = CountVectorizer(min_df=3 ,ngram_range=(1, 3))"
      ],
      "metadata": {
        "id": "U8icDnlWHrZe"
      },
      "execution_count": 268,
      "outputs": []
    },
    {
      "cell_type": "code",
      "source": [
        "X = vectorizer2.fit_transform(df2['text'])"
      ],
      "metadata": {
        "id": "MhFfotdsHrXS"
      },
      "execution_count": 269,
      "outputs": []
    },
    {
      "cell_type": "code",
      "source": [
        "x = X.toarray()"
      ],
      "metadata": {
        "id": "w9JI5vuSHrUc"
      },
      "execution_count": 270,
      "outputs": []
    },
    {
      "cell_type": "code",
      "source": [
        "vectorizer2.get_feature_names_out()"
      ],
      "metadata": {
        "colab": {
          "base_uri": "https://localhost:8080/"
        },
        "id": "SB3Psn4lIX7P",
        "outputId": "497fab34-245f-4cb6-fb58-01339019a9cd"
      },
      "execution_count": 271,
      "outputs": [
        {
          "output_type": "execute_result",
          "data": {
            "text/plain": [
              "array(['آباد', 'آباد غرب', 'آباد غرب انجام', ..., 'یی', 'یی یسن',\n",
              "       'یی یسن چن'], dtype=object)"
            ]
          },
          "metadata": {},
          "execution_count": 271
        }
      ]
    },
    {
      "cell_type": "code",
      "source": [
        "wordindex = vectorizer2.vocabulary_"
      ],
      "metadata": {
        "id": "7syvy1LcHrR_"
      },
      "execution_count": 272,
      "outputs": []
    },
    {
      "cell_type": "code",
      "source": [
        "# wordindex"
      ],
      "metadata": {
        "id": "wxCrvvVFIvav"
      },
      "execution_count": 273,
      "outputs": []
    },
    {
      "cell_type": "code",
      "source": [
        "y = vectorizer2.transform(df2['key'])\n",
        "y = y.toarray()"
      ],
      "metadata": {
        "id": "NaxPohxTHrO0"
      },
      "execution_count": 274,
      "outputs": []
    },
    {
      "cell_type": "code",
      "source": [
        "# g = vectorizer2.transform(df2['key'][0:1]).toarray()"
      ],
      "metadata": {
        "id": "iuXN2pFH7Xvi"
      },
      "execution_count": 275,
      "outputs": []
    },
    {
      "cell_type": "code",
      "source": [
        "# df2['key'][0:1]"
      ],
      "metadata": {
        "id": "-KM3vle67kbD"
      },
      "execution_count": 276,
      "outputs": []
    },
    {
      "cell_type": "code",
      "source": [
        "g"
      ],
      "metadata": {
        "colab": {
          "base_uri": "https://localhost:8080/"
        },
        "id": "wfzxBy407d6Q",
        "outputId": "544179bc-a37c-4c1f-9464-8ba142834818"
      },
      "execution_count": 277,
      "outputs": [
        {
          "output_type": "execute_result",
          "data": {
            "text/plain": [
              "<torch._C.Generator at 0x7f056e7f2130>"
            ]
          },
          "metadata": {},
          "execution_count": 277
        }
      ]
    },
    {
      "cell_type": "code",
      "source": [
        "x[np.where(x>1)] = 1\n",
        "y[np.where(y>1)] = 1\n"
      ],
      "metadata": {
        "id": "SNrwSDMDKIyK"
      },
      "execution_count": 278,
      "outputs": []
    },
    {
      "cell_type": "code",
      "source": [
        "x = t.tensor(x).float()\n",
        "y = t.tensor(y).float()"
      ],
      "metadata": {
        "id": "RY69JiSQHrMQ"
      },
      "execution_count": 279,
      "outputs": []
    },
    {
      "cell_type": "code",
      "source": [
        "y_ = t.zeros((y.shape[0],1))"
      ],
      "metadata": {
        "id": "U6_iJppO6JPp"
      },
      "execution_count": 280,
      "outputs": []
    },
    {
      "cell_type": "code",
      "source": [
        "for i,j in enumerate(y):\n",
        "    y_[i] = j.argmax()"
      ],
      "metadata": {
        "id": "nPsv9s-96WnE"
      },
      "execution_count": 281,
      "outputs": []
    },
    {
      "cell_type": "code",
      "source": [
        "y.shape"
      ],
      "metadata": {
        "colab": {
          "base_uri": "https://localhost:8080/"
        },
        "id": "LOMxPG-u6gvp",
        "outputId": "75f51fe7-3398-41d4-ab56-a28578670774"
      },
      "execution_count": 282,
      "outputs": [
        {
          "output_type": "execute_result",
          "data": {
            "text/plain": [
              "torch.Size([50, 4499])"
            ]
          },
          "metadata": {},
          "execution_count": 282
        }
      ]
    },
    {
      "cell_type": "code",
      "source": [
        "# m = embed.shape[1] * embed.shape[2]\n",
        "m = x.shape[1]\n",
        "w1 = t.randn(m,100)\n",
        "b1 = t.randn(100)"
      ],
      "metadata": {
        "id": "fqTMJ2RGLLEw"
      },
      "execution_count": 283,
      "outputs": []
    },
    {
      "cell_type": "code",
      "source": [
        "x.shape"
      ],
      "metadata": {
        "colab": {
          "base_uri": "https://localhost:8080/"
        },
        "id": "2bd2JWyeLXzs",
        "outputId": "d8036c86-75b9-42ac-eeb0-9d7615ae7e5a"
      },
      "execution_count": 284,
      "outputs": [
        {
          "output_type": "execute_result",
          "data": {
            "text/plain": [
              "torch.Size([50, 4499])"
            ]
          },
          "metadata": {},
          "execution_count": 284
        }
      ]
    },
    {
      "cell_type": "code",
      "source": [
        "w1.shape"
      ],
      "metadata": {
        "colab": {
          "base_uri": "https://localhost:8080/"
        },
        "id": "-ZVs1vH8LaNW",
        "outputId": "a311a5b6-a7cf-4dcd-c536-214ed2a5ab40"
      },
      "execution_count": 285,
      "outputs": [
        {
          "output_type": "execute_result",
          "data": {
            "text/plain": [
              "torch.Size([4499, 100])"
            ]
          },
          "metadata": {},
          "execution_count": 285
        }
      ]
    },
    {
      "cell_type": "code",
      "source": [
        "x.shape,w1.shape"
      ],
      "metadata": {
        "colab": {
          "base_uri": "https://localhost:8080/"
        },
        "id": "Nbbw9SpJ7GhG",
        "outputId": "6373a0e9-7905-4360-f133-e0bbf51025f9"
      },
      "execution_count": 286,
      "outputs": [
        {
          "output_type": "execute_result",
          "data": {
            "text/plain": [
              "(torch.Size([50, 4499]), torch.Size([4499, 100]))"
            ]
          },
          "metadata": {},
          "execution_count": 286
        }
      ]
    },
    {
      "cell_type": "code",
      "source": [
        "x @ w1"
      ],
      "metadata": {
        "colab": {
          "base_uri": "https://localhost:8080/"
        },
        "id": "ir89IJfw7BMa",
        "outputId": "0f443f3b-f539-47ac-832d-dfbb08336a13"
      },
      "execution_count": 287,
      "outputs": [
        {
          "output_type": "execute_result",
          "data": {
            "text/plain": [
              "tensor([[  3.5319, -15.6182,  35.5435,  ...,  -0.7687,  -3.7077, -15.1844],\n",
              "        [  3.5319, -15.6182,  35.5435,  ...,  -0.7687,  -3.7077, -15.1844],\n",
              "        [  3.5319, -15.6182,  35.5435,  ...,  -0.7687,  -3.7077, -15.1844],\n",
              "        ...,\n",
              "        [ -8.2826, -11.8917,   2.1256,  ..., -48.3975,  10.3715,  21.8827],\n",
              "        [ -8.2826, -11.8917,   2.1256,  ..., -48.3975,  10.3715,  21.8827],\n",
              "        [ -8.2826, -11.8917,   2.1256,  ..., -48.3975,  10.3715,  21.8827]])"
            ]
          },
          "metadata": {},
          "execution_count": 287
        }
      ]
    },
    {
      "cell_type": "code",
      "source": [
        "h1 = t.tanh((x @ w1)+ b1)\n",
        "h1"
      ],
      "metadata": {
        "colab": {
          "base_uri": "https://localhost:8080/"
        },
        "id": "_vZo2TuSLL03",
        "outputId": "d33632ed-795b-4266-f9c3-ff016287113f"
      },
      "execution_count": 288,
      "outputs": [
        {
          "output_type": "execute_result",
          "data": {
            "text/plain": [
              "tensor([[ 0.9997, -1.0000,  1.0000,  ..., -0.0672, -0.9991, -1.0000],\n",
              "        [ 0.9997, -1.0000,  1.0000,  ..., -0.0672, -0.9991, -1.0000],\n",
              "        [ 0.9997, -1.0000,  1.0000,  ..., -0.0672, -0.9991, -1.0000],\n",
              "        ...,\n",
              "        [-1.0000, -1.0000,  0.9992,  ..., -1.0000,  1.0000,  1.0000],\n",
              "        [-1.0000, -1.0000,  0.9992,  ..., -1.0000,  1.0000,  1.0000],\n",
              "        [-1.0000, -1.0000,  0.9992,  ..., -1.0000,  1.0000,  1.0000]])"
            ]
          },
          "metadata": {},
          "execution_count": 288
        }
      ]
    },
    {
      "cell_type": "code",
      "source": [
        "h1.shape"
      ],
      "metadata": {
        "colab": {
          "base_uri": "https://localhost:8080/"
        },
        "id": "u0bcQjLBLLyG",
        "outputId": "10e1c3ac-46f9-486e-dde9-88da57c6b2e7"
      },
      "execution_count": 289,
      "outputs": [
        {
          "output_type": "execute_result",
          "data": {
            "text/plain": [
              "torch.Size([50, 100])"
            ]
          },
          "metadata": {},
          "execution_count": 289
        }
      ]
    },
    {
      "cell_type": "code",
      "source": [
        "w2 = t.randn((100,x.shape[1]))\n",
        "b2 = t.randn(x.shape[1])"
      ],
      "metadata": {
        "id": "n4psKPVxLLvh"
      },
      "execution_count": 290,
      "outputs": []
    },
    {
      "cell_type": "code",
      "source": [
        "logits = h1 @ w2 + b2"
      ],
      "metadata": {
        "id": "nG7ppg2ALLtC"
      },
      "execution_count": 291,
      "outputs": []
    },
    {
      "cell_type": "code",
      "source": [
        "logits.shape"
      ],
      "metadata": {
        "colab": {
          "base_uri": "https://localhost:8080/"
        },
        "id": "7BoPtglILxtY",
        "outputId": "a7ff92ae-8e3f-4abe-9bcc-e5e9a68d9965"
      },
      "execution_count": 292,
      "outputs": [
        {
          "output_type": "execute_result",
          "data": {
            "text/plain": [
              "torch.Size([50, 4499])"
            ]
          },
          "metadata": {},
          "execution_count": 292
        }
      ]
    },
    {
      "cell_type": "code",
      "source": [
        "counts = logits.exp()\n",
        "counts"
      ],
      "metadata": {
        "colab": {
          "base_uri": "https://localhost:8080/"
        },
        "id": "U5zkOMYwLxqh",
        "outputId": "e5939405-e618-4a2b-9f11-1ad359000c78"
      },
      "execution_count": 293,
      "outputs": [
        {
          "output_type": "execute_result",
          "data": {
            "text/plain": [
              "tensor([[2.6414e+01, 4.4338e-01, 5.4963e+03,  ..., 2.0485e-02, 4.0315e+00,\n",
              "         8.3667e-02],\n",
              "        [2.6414e+01, 4.4338e-01, 5.4963e+03,  ..., 2.0485e-02, 4.0315e+00,\n",
              "         8.3667e-02],\n",
              "        [2.6414e+01, 4.4338e-01, 5.4963e+03,  ..., 2.0485e-02, 4.0315e+00,\n",
              "         8.3667e-02],\n",
              "        ...,\n",
              "        [5.6376e-13, 9.9383e-01, 1.3754e-01,  ..., 3.3299e-02, 7.9529e+03,\n",
              "         2.7192e+07],\n",
              "        [5.6376e-13, 9.9383e-01, 1.3754e-01,  ..., 3.3299e-02, 7.9529e+03,\n",
              "         2.7192e+07],\n",
              "        [5.6376e-13, 9.9383e-01, 1.3754e-01,  ..., 3.3299e-02, 7.9529e+03,\n",
              "         2.7192e+07]])"
            ]
          },
          "metadata": {},
          "execution_count": 293
        }
      ]
    },
    {
      "cell_type": "code",
      "source": [
        "prob = counts / counts.sum(1, keepdims=True)"
      ],
      "metadata": {
        "id": "8KuLivSvLxoa"
      },
      "execution_count": 296,
      "outputs": []
    },
    {
      "cell_type": "code",
      "source": [
        "prob"
      ],
      "metadata": {
        "colab": {
          "base_uri": "https://localhost:8080/"
        },
        "id": "4U-IAc6IL757",
        "outputId": "93230816-41d8-434d-b95a-fc852f9c1cdd"
      },
      "execution_count": 297,
      "outputs": [
        {
          "output_type": "execute_result",
          "data": {
            "text/plain": [
              "tensor([[2.2943e-15, 3.8513e-17, 4.7742e-13,  ..., 1.7793e-18, 3.5019e-16,\n",
              "         7.2675e-18],\n",
              "        [2.2943e-15, 3.8513e-17, 4.7742e-13,  ..., 1.7793e-18, 3.5019e-16,\n",
              "         7.2675e-18],\n",
              "        [2.2943e-15, 3.8513e-17, 4.7742e-13,  ..., 1.7793e-18, 3.5019e-16,\n",
              "         7.2675e-18],\n",
              "        ...,\n",
              "        [8.2511e-31, 1.4546e-18, 2.0131e-19,  ..., 4.8736e-20, 1.1640e-14,\n",
              "         3.9797e-11],\n",
              "        [8.2511e-31, 1.4545e-18, 2.0131e-19,  ..., 4.8736e-20, 1.1640e-14,\n",
              "         3.9797e-11],\n",
              "        [8.2511e-31, 1.4545e-18, 2.0131e-19,  ..., 4.8736e-20, 1.1640e-14,\n",
              "         3.9797e-11]])"
            ]
          },
          "metadata": {},
          "execution_count": 297
        }
      ]
    },
    {
      "cell_type": "code",
      "source": [
        "prob.shape,y.shape"
      ],
      "metadata": {
        "colab": {
          "base_uri": "https://localhost:8080/"
        },
        "id": "pBdQ61OhM34W",
        "outputId": "7bfd0949-f11e-41dd-cfee-c4fd408f6d3a"
      },
      "execution_count": 298,
      "outputs": [
        {
          "output_type": "execute_result",
          "data": {
            "text/plain": [
              "(torch.Size([50, 4499]), torch.Size([50, 4499]))"
            ]
          },
          "metadata": {},
          "execution_count": 298
        }
      ]
    },
    {
      "cell_type": "code",
      "source": [
        "# t.sum(t.tensor([[1,1,1],[1,1,1],[1,1,1]]) @ t.tensor([[1,1,1],[1,1,1],[1,1,1]]))"
      ],
      "metadata": {
        "id": "laEN_visNnc1"
      },
      "execution_count": 299,
      "outputs": []
    },
    {
      "cell_type": "code",
      "source": [
        "# prob[0] = y[0]"
      ],
      "metadata": {
        "id": "SUkU_OMQNKxZ"
      },
      "execution_count": 300,
      "outputs": []
    },
    {
      "cell_type": "code",
      "source": [
        "prob"
      ],
      "metadata": {
        "colab": {
          "base_uri": "https://localhost:8080/"
        },
        "id": "2TenJfy03SwD",
        "outputId": "ab7cd88a-ca1e-43bb-c970-6a14de079cf2"
      },
      "execution_count": 301,
      "outputs": [
        {
          "output_type": "execute_result",
          "data": {
            "text/plain": [
              "tensor([[2.2943e-15, 3.8513e-17, 4.7742e-13,  ..., 1.7793e-18, 3.5019e-16,\n",
              "         7.2675e-18],\n",
              "        [2.2943e-15, 3.8513e-17, 4.7742e-13,  ..., 1.7793e-18, 3.5019e-16,\n",
              "         7.2675e-18],\n",
              "        [2.2943e-15, 3.8513e-17, 4.7742e-13,  ..., 1.7793e-18, 3.5019e-16,\n",
              "         7.2675e-18],\n",
              "        ...,\n",
              "        [8.2511e-31, 1.4546e-18, 2.0131e-19,  ..., 4.8736e-20, 1.1640e-14,\n",
              "         3.9797e-11],\n",
              "        [8.2511e-31, 1.4545e-18, 2.0131e-19,  ..., 4.8736e-20, 1.1640e-14,\n",
              "         3.9797e-11],\n",
              "        [8.2511e-31, 1.4545e-18, 2.0131e-19,  ..., 4.8736e-20, 1.1640e-14,\n",
              "         3.9797e-11]])"
            ]
          },
          "metadata": {},
          "execution_count": 301
        }
      ]
    },
    {
      "cell_type": "code",
      "source": [
        "y[0]"
      ],
      "metadata": {
        "colab": {
          "base_uri": "https://localhost:8080/"
        },
        "id": "0-mlDkF75GFK",
        "outputId": "4d444d80-2e52-410e-8a71-bfc1be39f9b6"
      },
      "execution_count": 302,
      "outputs": [
        {
          "output_type": "execute_result",
          "data": {
            "text/plain": [
              "tensor([0., 0., 0.,  ..., 0., 0., 0.])"
            ]
          },
          "metadata": {},
          "execution_count": 302
        }
      ]
    },
    {
      "cell_type": "code",
      "source": [
        "y.shape"
      ],
      "metadata": {
        "colab": {
          "base_uri": "https://localhost:8080/"
        },
        "id": "U5hgx3V45Noc",
        "outputId": "b3d8a298-ccca-411e-869d-9f38042ea026"
      },
      "execution_count": 303,
      "outputs": [
        {
          "output_type": "execute_result",
          "data": {
            "text/plain": [
              "torch.Size([50, 4499])"
            ]
          },
          "metadata": {},
          "execution_count": 303
        }
      ]
    },
    {
      "cell_type": "code",
      "source": [
        "(prob*y).sum()"
      ],
      "metadata": {
        "colab": {
          "base_uri": "https://localhost:8080/"
        },
        "id": "Q3LoQrma5gPe",
        "outputId": "27c20312-a2ce-4e3e-c438-8a0bb3789aa0"
      },
      "execution_count": 304,
      "outputs": [
        {
          "output_type": "execute_result",
          "data": {
            "text/plain": [
              "tensor(5.0145e-05)"
            ]
          },
          "metadata": {},
          "execution_count": 304
        }
      ]
    },
    {
      "cell_type": "code",
      "source": [
        "(y * y).sum((1))"
      ],
      "metadata": {
        "colab": {
          "base_uri": "https://localhost:8080/"
        },
        "id": "azdLNiE5483c",
        "outputId": "81a13252-38ab-4c5c-bb15-d48b02d371bb"
      },
      "execution_count": 313,
      "outputs": [
        {
          "output_type": "execute_result",
          "data": {
            "text/plain": [
              "tensor([ 3.,  6.,  6.,  3.,  6.,  6.,  6.,  3.,  6.,  2.,  1.,  3.,  1.,  1.,\n",
              "         1.,  3.,  1.,  3.,  3.,  2.,  3.,  3.,  3.,  3.,  6.,  3.,  3.,  3.,\n",
              "         3.,  1.,  3., 12.,  6.,  3.,  3.,  1.,  3.,  3.,  3.,  3.,  1.,  3.,\n",
              "         6.,  1.,  3.,  3.,  1.,  1.,  6.,  6.])"
            ]
          },
          "metadata": {},
          "execution_count": 313
        }
      ]
    },
    {
      "cell_type": "code",
      "source": [
        "-((prob[0] * y[0]) + 1e-8).log().mean()"
      ],
      "metadata": {
        "colab": {
          "base_uri": "https://localhost:8080/"
        },
        "id": "NkGYiuTK1ctz",
        "outputId": "7c8b848a-2850-444b-fb64-297464cb64b0"
      },
      "execution_count": 172,
      "outputs": [
        {
          "output_type": "execute_result",
          "data": {
            "text/plain": [
              "tensor(18.4207, grad_fn=<NegBackward0>)"
            ]
          },
          "metadata": {},
          "execution_count": 172
        }
      ]
    },
    {
      "cell_type": "code",
      "source": [
        "loss = -((prob+1e-8) * y).mean().log()"
      ],
      "metadata": {
        "id": "bgfix_U91ss9"
      },
      "execution_count": 154,
      "outputs": []
    },
    {
      "cell_type": "code",
      "source": [
        "# loss = -(prob * y).mean().log().mean()\n",
        "# loss"
      ],
      "metadata": {
        "id": "PRpKWQCnPqmd"
      },
      "execution_count": 155,
      "outputs": []
    },
    {
      "cell_type": "code",
      "source": [
        "# loss = -(prob * y).mean().log() + (prob @ prob.T).sum()\n",
        "# loss"
      ],
      "metadata": {
        "id": "f4EM1MaHMOq7"
      },
      "execution_count": 156,
      "outputs": []
    },
    {
      "cell_type": "code",
      "source": [
        "g = t.Generator().manual_seed(123123)\n",
        "m = x.shape[1]\n",
        "w1 = t.randn(m,100)\n",
        "b1 = t.randn(100)\n",
        "w2 = t.randn((100,x.shape[1]))\n",
        "b2 = t.randn(x.shape[1])\n",
        "parameters = [w1,w2,b1,b2]"
      ],
      "metadata": {
        "id": "B27po9QmMOoL"
      },
      "execution_count": 314,
      "outputs": []
    },
    {
      "cell_type": "code",
      "source": [
        "sum(p.nelement() for p in parameters)"
      ],
      "metadata": {
        "colab": {
          "base_uri": "https://localhost:8080/"
        },
        "id": "KPxaSqXjPJyx",
        "outputId": "59c6a0f5-b871-4a90-82c3-0b9594ed07e5"
      },
      "execution_count": 315,
      "outputs": [
        {
          "output_type": "execute_result",
          "data": {
            "text/plain": [
              "904399"
            ]
          },
          "metadata": {},
          "execution_count": 315
        }
      ]
    },
    {
      "cell_type": "code",
      "source": [
        "for p in parameters:\n",
        "    p.requires_grad = True"
      ],
      "metadata": {
        "id": "mMcGZgHdPJwA"
      },
      "execution_count": 316,
      "outputs": []
    },
    {
      "cell_type": "code",
      "source": [
        "# (x @ w1).max().item()"
      ],
      "metadata": {
        "id": "XPG5zW8S7-lZ"
      },
      "execution_count": 317,
      "outputs": []
    },
    {
      "cell_type": "code",
      "source": [
        "for _ in range(1000):\n",
        "    # forword\n",
        "    h1 = t.tanh((x @ w1)+ b1)\n",
        "    logits = h1 @ w2 + b2\n",
        "    counts = logits.exp()\n",
        "    prob = counts / counts.sum(1, keepdims=True)\n",
        "    # loss = -(prob * y).mean().log() + (prob @ prob.T).sum()\n",
        "    loss = (prob*y).sum()\n",
        "# loss\n",
        "    print(loss.item())\n",
        "    # backward\n",
        "    for p in parameters:\n",
        "        p.grad = None\n",
        "    loss.backward()\n",
        "    # update\n",
        "    for p in parameters:\n",
        "        p.data += 2* p.grad"
      ],
      "metadata": {
        "id": "8guyuLqZPJta",
        "colab": {
          "base_uri": "https://localhost:8080/"
        },
        "outputId": "1d4e275f-3d0e-4c1b-86f7-c24032bc0a3d"
      },
      "execution_count": null,
      "outputs": [
        {
          "output_type": "stream",
          "name": "stdout",
          "text": [
            "0.9999973773956299\n",
            "0.9999973773956299\n",
            "0.9999973773956299\n",
            "0.9999973773956299\n",
            "0.9999973773956299\n",
            "0.9999973773956299\n",
            "0.9999973773956299\n",
            "0.9999973773956299\n",
            "0.9999973773956299\n",
            "0.9999973773956299\n",
            "0.9999973773956299\n",
            "0.9999973773956299\n",
            "0.9999973773956299\n",
            "0.9999973773956299\n",
            "0.9999973773956299\n",
            "0.9999973773956299\n",
            "0.9999973773956299\n",
            "0.9999973773956299\n",
            "0.9999973773956299\n",
            "0.9999973773956299\n",
            "0.9999973773956299\n",
            "0.9999973773956299\n",
            "0.9999973773956299\n",
            "0.9999973773956299\n",
            "0.9999973773956299\n",
            "0.9999973773956299\n",
            "0.9999974370002747\n",
            "0.9999974370002747\n",
            "0.9999974966049194\n",
            "0.9999974966049194\n",
            "0.9999974966049194\n",
            "0.9999974966049194\n",
            "0.9999974966049194\n",
            "0.9999974966049194\n",
            "0.9999974966049194\n",
            "0.9999974966049194\n",
            "0.9999974966049194\n",
            "0.9999974966049194\n",
            "0.9999974966049194\n",
            "0.9999974966049194\n",
            "0.9999974966049194\n",
            "0.9999974966049194\n",
            "0.9999974966049194\n",
            "0.9999974966049194\n",
            "0.9999974966049194\n",
            "0.9999974966049194\n",
            "0.9999974966049194\n",
            "0.9999974966049194\n",
            "0.9999974966049194\n",
            "0.9999974966049194\n",
            "0.9999974966049194\n",
            "0.9999974966049194\n",
            "0.9999974966049194\n",
            "0.9999974966049194\n",
            "0.9999974966049194\n",
            "0.9999974966049194\n",
            "0.9999974966049194\n",
            "0.9999974966049194\n",
            "0.9999974966049194\n",
            "0.9999974966049194\n",
            "0.9999974966049194\n",
            "0.9999974966049194\n",
            "0.9999974966049194\n",
            "0.9999974966049194\n",
            "0.9999974966049194\n",
            "0.9999974966049194\n",
            "0.9999974966049194\n",
            "0.9999974966049194\n",
            "0.9999975562095642\n",
            "0.9999975562095642\n",
            "0.9999975562095642\n",
            "0.9999975562095642\n",
            "0.9999975562095642\n",
            "0.9999975562095642\n",
            "0.9999975562095642\n",
            "0.9999975562095642\n",
            "0.9999975562095642\n",
            "0.9999975562095642\n",
            "0.9999975562095642\n",
            "0.9999975562095642\n",
            "0.9999975562095642\n",
            "0.9999975562095642\n",
            "0.9999975562095642\n",
            "0.9999975562095642\n",
            "0.9999975562095642\n",
            "0.9999975562095642\n",
            "0.9999975562095642\n",
            "0.9999975562095642\n",
            "0.9999975562095642\n",
            "0.9999975562095642\n",
            "0.9999975562095642\n",
            "0.9999975562095642\n",
            "0.9999975562095642\n",
            "0.9999975562095642\n",
            "0.9999975562095642\n",
            "0.9999975562095642\n",
            "0.9999975562095642\n",
            "0.9999975562095642\n",
            "0.9999975562095642\n",
            "0.9999975562095642\n",
            "0.9999975562095642\n",
            "0.9999975562095642\n",
            "0.9999975562095642\n",
            "0.9999975562095642\n",
            "0.9999975562095642\n",
            "0.9999975562095642\n",
            "0.9999975562095642\n",
            "0.9999975562095642\n",
            "0.9999975562095642\n",
            "0.9999975562095642\n",
            "0.999997615814209\n",
            "0.999997615814209\n",
            "0.999997615814209\n",
            "0.999997615814209\n",
            "0.999997615814209\n",
            "0.999997615814209\n",
            "0.999997615814209\n",
            "0.999997615814209\n",
            "0.999997615814209\n",
            "0.999997615814209\n",
            "0.999997615814209\n",
            "0.999997615814209\n",
            "0.999997615814209\n",
            "0.999997615814209\n",
            "0.999997615814209\n",
            "0.999997615814209\n",
            "0.999997615814209\n",
            "0.999997615814209\n",
            "0.999997615814209\n",
            "0.999997615814209\n",
            "0.999997615814209\n",
            "0.999997615814209\n",
            "0.999997615814209\n",
            "0.999997615814209\n",
            "0.999997615814209\n",
            "0.999997615814209\n",
            "0.999997615814209\n",
            "0.999997615814209\n",
            "0.999997615814209\n",
            "0.999997615814209\n",
            "0.999997615814209\n",
            "0.999997615814209\n",
            "0.999997615814209\n",
            "0.999997615814209\n",
            "0.999997615814209\n",
            "0.999997615814209\n",
            "0.999997615814209\n",
            "0.999997615814209\n",
            "0.999997615814209\n",
            "0.999997615814209\n",
            "0.999997615814209\n",
            "0.999997615814209\n",
            "0.999997615814209\n",
            "0.9999976754188538\n",
            "0.9999976754188538\n",
            "0.9999976754188538\n",
            "0.9999976754188538\n",
            "0.9999976754188538\n",
            "0.9999976754188538\n",
            "0.9999976754188538\n",
            "0.9999976754188538\n",
            "0.9999976754188538\n",
            "0.9999976754188538\n",
            "0.9999976754188538\n",
            "0.9999976754188538\n",
            "0.9999976754188538\n",
            "0.9999976754188538\n",
            "0.9999976754188538\n",
            "0.9999976754188538\n",
            "0.9999976754188538\n",
            "0.9999976754188538\n",
            "0.9999976754188538\n",
            "0.9999976754188538\n",
            "0.9999976754188538\n",
            "0.9999976754188538\n",
            "0.9999976754188538\n",
            "0.9999976754188538\n",
            "0.9999976754188538\n",
            "0.9999976754188538\n",
            "0.9999976754188538\n",
            "0.9999976754188538\n",
            "0.9999976754188538\n",
            "0.9999976754188538\n",
            "0.9999976754188538\n",
            "0.9999976754188538\n",
            "0.9999976754188538\n",
            "0.9999976754188538\n",
            "0.9999976754188538\n",
            "0.9999976754188538\n",
            "0.9999976754188538\n",
            "0.9999976754188538\n",
            "0.9999976754188538\n",
            "0.9999976754188538\n",
            "0.9999976754188538\n",
            "0.9999976754188538\n",
            "0.9999976754188538\n",
            "0.9999976754188538\n",
            "0.9999976754188538\n",
            "0.9999977350234985\n",
            "0.9999977350234985\n",
            "0.9999977350234985\n",
            "0.9999977350234985\n",
            "0.9999977350234985\n",
            "0.9999977350234985\n",
            "0.9999977350234985\n",
            "0.9999977350234985\n",
            "0.9999977350234985\n",
            "0.9999977350234985\n",
            "0.9999977350234985\n",
            "0.9999977350234985\n",
            "0.9999977350234985\n",
            "0.9999977350234985\n",
            "0.9999977350234985\n",
            "0.9999977350234985\n",
            "0.9999977350234985\n",
            "0.9999977350234985\n",
            "0.9999977350234985\n",
            "0.9999977350234985\n",
            "0.9999977350234985\n",
            "0.9999977350234985\n",
            "0.9999977350234985\n",
            "0.9999977350234985\n",
            "0.9999977350234985\n",
            "0.9999977350234985\n",
            "0.9999977350234985\n",
            "0.9999977350234985\n",
            "0.9999977350234985\n",
            "0.9999977350234985\n",
            "0.9999977350234985\n",
            "0.9999977350234985\n",
            "0.9999977350234985\n",
            "0.9999977350234985\n",
            "0.9999977350234985\n",
            "0.9999977350234985\n",
            "0.9999977350234985\n",
            "0.9999977350234985\n",
            "0.9999977350234985\n",
            "0.9999977350234985\n",
            "0.9999977350234985\n",
            "0.9999977350234985\n",
            "0.9999977350234985\n",
            "0.9999977350234985\n",
            "0.9999977350234985\n",
            "0.9999977350234985\n",
            "0.9999977350234985\n",
            "0.9999977946281433\n",
            "0.9999977946281433\n",
            "0.9999977946281433\n",
            "0.9999977946281433\n",
            "0.9999977946281433\n",
            "0.9999977946281433\n",
            "0.9999977946281433\n",
            "0.9999977946281433\n",
            "0.9999977946281433\n",
            "0.9999977946281433\n",
            "0.9999977946281433\n",
            "0.9999977946281433\n",
            "0.9999977946281433\n",
            "0.9999977946281433\n",
            "0.9999977946281433\n",
            "0.9999977946281433\n",
            "0.9999977946281433\n",
            "0.9999977946281433\n",
            "0.9999977946281433\n",
            "0.9999977946281433\n",
            "0.9999977946281433\n",
            "0.9999977946281433\n",
            "0.9999977946281433\n",
            "0.9999977946281433\n",
            "0.9999977946281433\n",
            "0.9999977946281433\n",
            "0.9999977946281433\n",
            "0.9999977946281433\n",
            "0.9999977946281433\n",
            "0.9999977946281433\n",
            "0.9999977946281433\n",
            "0.9999977946281433\n",
            "0.9999977946281433\n",
            "0.9999977946281433\n",
            "0.9999977946281433\n",
            "0.9999977946281433\n",
            "0.9999977946281433\n",
            "0.9999977946281433\n",
            "0.9999977946281433\n",
            "0.9999977946281433\n",
            "0.9999977946281433\n",
            "0.9999977946281433\n",
            "0.9999977946281433\n",
            "0.9999977946281433\n",
            "0.9999977946281433\n",
            "0.9999977946281433\n",
            "0.9999977946281433\n",
            "0.9999977946281433\n",
            "0.9999977946281433\n",
            "0.9999977946281433\n",
            "0.9999978542327881\n",
            "0.9999978542327881\n",
            "0.9999978542327881\n",
            "0.9999978542327881\n",
            "0.9999978542327881\n",
            "0.9999978542327881\n",
            "0.9999978542327881\n",
            "0.9999978542327881\n",
            "0.9999978542327881\n",
            "0.9999978542327881\n",
            "0.9999978542327881\n",
            "0.9999978542327881\n",
            "0.9999978542327881\n",
            "0.9999978542327881\n",
            "0.9999978542327881\n",
            "0.9999978542327881\n",
            "0.9999978542327881\n",
            "0.9999978542327881\n",
            "0.9999978542327881\n",
            "0.9999978542327881\n",
            "0.9999978542327881\n",
            "0.9999978542327881\n",
            "0.9999978542327881\n",
            "0.9999978542327881\n",
            "0.9999978542327881\n",
            "0.9999978542327881\n",
            "0.9999978542327881\n",
            "0.9999978542327881\n",
            "0.9999978542327881\n",
            "0.9999978542327881\n",
            "0.9999978542327881\n",
            "0.9999978542327881\n",
            "0.9999978542327881\n",
            "0.9999978542327881\n",
            "0.9999978542327881\n",
            "0.9999978542327881\n",
            "0.9999978542327881\n",
            "0.9999978542327881\n",
            "0.9999978542327881\n",
            "0.9999978542327881\n",
            "0.9999978542327881\n",
            "0.9999978542327881\n",
            "0.9999978542327881\n",
            "0.9999978542327881\n",
            "0.9999978542327881\n",
            "0.9999978542327881\n",
            "0.9999978542327881\n",
            "0.9999978542327881\n",
            "0.9999978542327881\n",
            "0.9999978542327881\n",
            "0.9999978542327881\n",
            "0.9999978542327881\n",
            "0.9999979138374329\n",
            "0.9999979138374329\n",
            "0.9999979138374329\n",
            "0.9999979138374329\n",
            "0.9999979138374329\n",
            "0.9999979138374329\n",
            "0.9999979138374329\n",
            "0.9999979138374329\n",
            "0.9999979138374329\n",
            "0.9999979138374329\n",
            "0.9999979138374329\n",
            "0.9999979138374329\n",
            "0.9999979138374329\n",
            "0.9999979138374329\n",
            "0.9999979138374329\n",
            "0.9999979138374329\n",
            "0.9999979138374329\n",
            "0.9999979138374329\n",
            "0.9999979138374329\n",
            "0.9999979138374329\n",
            "0.9999979138374329\n",
            "0.9999979138374329\n",
            "0.9999979138374329\n",
            "0.9999979138374329\n",
            "0.9999979138374329\n",
            "0.9999979138374329\n",
            "0.9999979138374329\n",
            "0.9999979138374329\n",
            "0.9999979138374329\n",
            "0.9999979138374329\n",
            "0.9999979138374329\n",
            "0.9999979138374329\n",
            "0.9999979138374329\n",
            "0.9999979138374329\n",
            "0.9999979138374329\n",
            "0.9999979138374329\n",
            "0.9999979138374329\n",
            "0.9999979138374329\n",
            "0.9999979138374329\n",
            "0.9999979138374329\n",
            "0.9999979138374329\n",
            "0.9999979138374329\n",
            "0.9999979138374329\n",
            "0.9999979138374329\n",
            "0.9999979138374329\n",
            "0.9999979138374329\n"
          ]
        }
      ]
    },
    {
      "cell_type": "code",
      "source": [
        "for i in range(y.shape[0]):\n",
        "    print((prob[i] * y[i]).sum())"
      ],
      "metadata": {
        "id": "pPBQ6p3N2Mcp"
      },
      "execution_count": null,
      "outputs": []
    },
    {
      "cell_type": "code",
      "source": [
        "prob[13].argmax()"
      ],
      "metadata": {
        "colab": {
          "base_uri": "https://localhost:8080/"
        },
        "id": "oi63fXsP2xAP",
        "outputId": "62048815-fdf0-4069-80ea-f2c12fb1fb19"
      },
      "execution_count": 224,
      "outputs": [
        {
          "output_type": "execute_result",
          "data": {
            "text/plain": [
              "tensor(315)"
            ]
          },
          "metadata": {},
          "execution_count": 224
        }
      ]
    },
    {
      "cell_type": "code",
      "source": [
        "y.sum((1))"
      ],
      "metadata": {
        "colab": {
          "base_uri": "https://localhost:8080/"
        },
        "id": "vZl2veum2066",
        "outputId": "bd2c5607-fa3a-4c97-b3ea-215e9a254d27"
      },
      "execution_count": 226,
      "outputs": [
        {
          "output_type": "execute_result",
          "data": {
            "text/plain": [
              "tensor([ 3.,  6.,  6.,  3.,  6.,  6.,  6.,  3.,  6.,  3.,  3.,  3.,  1.,  1.,\n",
              "         1.,  3.,  1.,  3.,  3.,  2.,  3.,  3.,  3.,  3.,  6.,  3.,  3.,  3.,\n",
              "         3.,  1.,  3., 12.,  6.,  3.,  3.,  1.,  3.,  3.,  3.,  3.,  1.,  3.,\n",
              "         6.,  1.,  3.,  3.,  1.,  1.,  6.,  6.])"
            ]
          },
          "metadata": {},
          "execution_count": 226
        }
      ]
    },
    {
      "cell_type": "markdown",
      "source": [
        "# end"
      ],
      "metadata": {
        "id": "sPDPIbdXHsXq"
      }
    },
    {
      "cell_type": "code",
      "source": [
        "g = t.Generator().manual_seed(123123)"
      ],
      "metadata": {
        "id": "HXRCVID35N49"
      },
      "execution_count": null,
      "outputs": []
    },
    {
      "cell_type": "code",
      "source": [
        "C = t.randn((np.max(list(wtoi.values()))+1,2),generator=g)"
      ],
      "metadata": {
        "id": "IQ9S2UWa42xY"
      },
      "execution_count": null,
      "outputs": []
    },
    {
      "cell_type": "code",
      "source": [
        "# xtr,ytr,xva,yva = sentencestoi[0:200], keywordstoi[0:200],sentencestoi[200:], keywordstoi[200:]"
      ],
      "metadata": {
        "id": "VSnYyxgu6xY-"
      },
      "execution_count": null,
      "outputs": []
    },
    {
      "cell_type": "code",
      "source": [
        "# xtr.shape"
      ],
      "metadata": {
        "colab": {
          "base_uri": "https://localhost:8080/"
        },
        "id": "5jobbamz7Spl",
        "outputId": "9eeff950-d2a0-4565-e966-868a078cd5a2"
      },
      "execution_count": null,
      "outputs": [
        {
          "output_type": "execute_result",
          "data": {
            "text/plain": [
              "(90, 485)"
            ]
          },
          "metadata": {},
          "execution_count": 787
        }
      ]
    },
    {
      "cell_type": "code",
      "source": [
        "# C[xtr].shape[1]"
      ],
      "metadata": {
        "colab": {
          "base_uri": "https://localhost:8080/"
        },
        "id": "lliaxwfo5KkT",
        "outputId": "b015397e-5f6a-4088-81a5-3ef0a68f2c9a"
      },
      "execution_count": null,
      "outputs": [
        {
          "output_type": "execute_result",
          "data": {
            "text/plain": [
              "485"
            ]
          },
          "metadata": {},
          "execution_count": 788
        }
      ]
    },
    {
      "cell_type": "code",
      "source": [
        "# embed = C[xtr]"
      ],
      "metadata": {
        "id": "GEs4_cwo70qd"
      },
      "execution_count": null,
      "outputs": []
    },
    {
      "cell_type": "code",
      "source": [
        "# m = embed.shape[1] * embed.shape[2]\n",
        "m = x.shape[1]\n",
        "w1 = t.randn(m,100)\n",
        "b1 = t.randn(100)"
      ],
      "metadata": {
        "id": "s3WMCwSd7QiY"
      },
      "execution_count": null,
      "outputs": []
    },
    {
      "cell_type": "code",
      "source": [
        "w1"
      ],
      "metadata": {
        "colab": {
          "base_uri": "https://localhost:8080/"
        },
        "id": "tTfYkALq8dM3",
        "outputId": "a5667860-62d3-40a5-f56b-0fac7346af52"
      },
      "execution_count": null,
      "outputs": [
        {
          "output_type": "execute_result",
          "data": {
            "text/plain": [
              "tensor([[ 0.8219,  1.6563, -0.3728,  ..., -0.2972,  1.3428,  0.8600],\n",
              "        [ 0.2956,  0.6894, -1.3430,  ...,  1.1880,  0.7666, -0.4375],\n",
              "        [ 0.1818,  0.0613,  0.0638,  ..., -0.8759,  0.7356,  0.2571],\n",
              "        ...,\n",
              "        [ 0.7417, -1.6472,  1.9241,  ...,  0.2372, -0.7720,  1.4620],\n",
              "        [ 1.0619,  1.2266, -0.6172,  ..., -0.0421,  0.4968,  1.3983],\n",
              "        [-0.2746, -0.6542,  1.1550,  ..., -0.5001,  0.4979, -0.5875]])"
            ]
          },
          "metadata": {},
          "execution_count": 887
        }
      ]
    },
    {
      "cell_type": "code",
      "source": [
        "w1.shape"
      ],
      "metadata": {
        "colab": {
          "base_uri": "https://localhost:8080/"
        },
        "id": "4Z4zZKwq7vCd",
        "outputId": "cfd0e62f-5926-4f07-c2c9-c20e343618d5"
      },
      "execution_count": null,
      "outputs": [
        {
          "output_type": "execute_result",
          "data": {
            "text/plain": [
              "torch.Size([8047, 100])"
            ]
          },
          "metadata": {},
          "execution_count": 888
        }
      ]
    },
    {
      "cell_type": "code",
      "source": [
        "h1 = t.tanh(x @ w1 + b1)\n",
        "h1"
      ],
      "metadata": {
        "id": "KMrYoybK76Ly"
      },
      "execution_count": null,
      "outputs": []
    },
    {
      "cell_type": "code",
      "source": [
        "w2 = t.randn((100,np.max(list(wtoi.values()))+1))\n",
        "b2 = t.randn(np.max(list(wtoi.values()))+1)"
      ],
      "metadata": {
        "id": "xd0osVt18lIM"
      },
      "execution_count": null,
      "outputs": []
    },
    {
      "cell_type": "code",
      "source": [
        "logits = h1 @ w2 + b2"
      ],
      "metadata": {
        "id": "5Je3zRIk83ay"
      },
      "execution_count": null,
      "outputs": []
    },
    {
      "cell_type": "code",
      "source": [
        "logits.shape"
      ],
      "metadata": {
        "colab": {
          "base_uri": "https://localhost:8080/"
        },
        "id": "P0ujrgQ889mc",
        "outputId": "d154ecaa-3ca4-443e-ba8c-55bfcf835081"
      },
      "execution_count": null,
      "outputs": [
        {
          "output_type": "execute_result",
          "data": {
            "text/plain": [
              "torch.Size([90, 1262])"
            ]
          },
          "metadata": {},
          "execution_count": 796
        }
      ]
    },
    {
      "cell_type": "code",
      "source": [
        "counts = logits.exp()"
      ],
      "metadata": {
        "id": "2rWHtywd9PTV"
      },
      "execution_count": null,
      "outputs": []
    },
    {
      "cell_type": "code",
      "source": [
        "prob = counts / counts.sum(1, keepdims=True)"
      ],
      "metadata": {
        "id": "_wND3IYV9RRC"
      },
      "execution_count": null,
      "outputs": []
    },
    {
      "cell_type": "code",
      "source": [
        "prob.shape"
      ],
      "metadata": {
        "colab": {
          "base_uri": "https://localhost:8080/"
        },
        "id": "izIlgvDN9ZTF",
        "outputId": "3be1a355-5358-41fc-ba3f-07899ef41efd"
      },
      "execution_count": null,
      "outputs": [
        {
          "output_type": "execute_result",
          "data": {
            "text/plain": [
              "torch.Size([90, 1262])"
            ]
          },
          "metadata": {},
          "execution_count": 799
        }
      ]
    },
    {
      "cell_type": "code",
      "source": [
        "prob[0]"
      ],
      "metadata": {
        "colab": {
          "base_uri": "https://localhost:8080/"
        },
        "id": "HkeJohog9g4d",
        "outputId": "84dc279d-11fd-4cef-c4cc-5bb205bc4c30"
      },
      "execution_count": null,
      "outputs": [
        {
          "output_type": "execute_result",
          "data": {
            "text/plain": [
              "tensor([6.2145e-18, 3.3509e-14, 1.0166e-13,  ..., 8.6480e-15, 2.1248e-17,\n",
              "        1.1600e-10])"
            ]
          },
          "metadata": {},
          "execution_count": 800
        }
      ]
    },
    {
      "cell_type": "code",
      "source": [
        "prob[0].shape"
      ],
      "metadata": {
        "colab": {
          "base_uri": "https://localhost:8080/"
        },
        "id": "Fg1MUWj79irV",
        "outputId": "6057a177-f0aa-41f7-a1b0-e5320c665c67"
      },
      "execution_count": null,
      "outputs": [
        {
          "output_type": "execute_result",
          "data": {
            "text/plain": [
              "torch.Size([1262])"
            ]
          },
          "metadata": {},
          "execution_count": 801
        }
      ]
    },
    {
      "cell_type": "code",
      "source": [
        "ytrs = t.zeros((90,prob[0].shape[0]))\n",
        "for i,j in enumerate(ytrs):\n",
        "    for k in ytr[i]:\n",
        "        if k > 0:\n",
        "            ytrs[i][k] = 1\n",
        "\n"
      ],
      "metadata": {
        "id": "kiQ5hNctJ_Hq"
      },
      "execution_count": null,
      "outputs": []
    },
    {
      "cell_type": "code",
      "source": [
        "# del log"
      ],
      "metadata": {
        "id": "kk8cnjH7AcLN"
      },
      "execution_count": null,
      "outputs": []
    },
    {
      "cell_type": "code",
      "source": [
        "prob.shape"
      ],
      "metadata": {
        "colab": {
          "base_uri": "https://localhost:8080/"
        },
        "id": "yTJph_IrJ_Zv",
        "outputId": "197a8ac1-6830-4bfe-9552-4a426d0d683d"
      },
      "execution_count": null,
      "outputs": [
        {
          "output_type": "execute_result",
          "data": {
            "text/plain": [
              "torch.Size([90, 1262])"
            ]
          },
          "metadata": {},
          "execution_count": 804
        }
      ]
    },
    {
      "cell_type": "code",
      "source": [
        "ytrs.shape"
      ],
      "metadata": {
        "colab": {
          "base_uri": "https://localhost:8080/"
        },
        "id": "4VtqbOGhKDkC",
        "outputId": "72d4f485-0c53-475d-cd86-ab00dce56fca"
      },
      "execution_count": null,
      "outputs": [
        {
          "output_type": "execute_result",
          "data": {
            "text/plain": [
              "torch.Size([90, 1262])"
            ]
          },
          "metadata": {},
          "execution_count": 805
        }
      ]
    },
    {
      "cell_type": "code",
      "source": [
        "g = t.Generator().manual_seed(123123)\n",
        "C = t.randn((np.max(list(wtoi.values()))+1,2),generator=g)\n",
        "m = embed.shape[1] * embed.shape[2]\n",
        "w1 = t.randn(m,100)\n",
        "b1 = t.randn(100)\n",
        "\n",
        "# h1\n",
        "w2 = t.randn((100,np.max(list(wtoi.values()))+1))\n",
        "b2 = t.randn(np.max(list(wtoi.values()))+1)\n",
        "parameters = [C,w1,w2,b1,b2]"
      ],
      "metadata": {
        "id": "N0acG4UdRvDV"
      },
      "execution_count": null,
      "outputs": []
    },
    {
      "cell_type": "code",
      "source": [
        "sum(p.nelement() for p in parameters)"
      ],
      "metadata": {
        "colab": {
          "base_uri": "https://localhost:8080/"
        },
        "id": "6MdinHnxTwl_",
        "outputId": "68e3a7b3-8b6f-4272-beee-35d6cf8794df"
      },
      "execution_count": null,
      "outputs": [
        {
          "output_type": "execute_result",
          "data": {
            "text/plain": [
              "227086"
            ]
          },
          "metadata": {},
          "execution_count": 807
        }
      ]
    },
    {
      "cell_type": "code",
      "source": [
        "for p in parameters:\n",
        "    p.requires_grad = True"
      ],
      "metadata": {
        "id": "or2b_mmJUwYv"
      },
      "execution_count": null,
      "outputs": []
    },
    {
      "cell_type": "code",
      "source": [
        "# s = t.max((ytrs * prob))\n",
        "s = 1e-3\n",
        "s"
      ],
      "metadata": {
        "colab": {
          "base_uri": "https://localhost:8080/"
        },
        "id": "4I-j9s07AB_7",
        "outputId": "883b38c5-487c-4a0c-f1b7-bd8c4495ba4c"
      },
      "execution_count": null,
      "outputs": [
        {
          "output_type": "execute_result",
          "data": {
            "text/plain": [
              "0.001"
            ]
          },
          "metadata": {},
          "execution_count": 809
        }
      ]
    },
    {
      "cell_type": "code",
      "source": [
        "ytrs += 1e-9"
      ],
      "metadata": {
        "id": "F4Mm8uqABnf1"
      },
      "execution_count": null,
      "outputs": []
    },
    {
      "cell_type": "code",
      "source": [
        "# prob[0][168] = 1"
      ],
      "metadata": {
        "id": "K3bPG6usBuJD"
      },
      "execution_count": null,
      "outputs": []
    },
    {
      "cell_type": "code",
      "source": [
        "loss = -(ytrs * prob).log().mean()\n",
        "loss"
      ],
      "metadata": {
        "colab": {
          "base_uri": "https://localhost:8080/"
        },
        "id": "WtsXjj-RBPzV",
        "outputId": "6632aa59-012b-4346-fcee-6ea6742e6f31"
      },
      "execution_count": null,
      "outputs": [
        {
          "output_type": "execute_result",
          "data": {
            "text/plain": [
              "tensor(54.3600)"
            ]
          },
          "metadata": {},
          "execution_count": 815
        }
      ]
    },
    {
      "cell_type": "code",
      "source": [
        "# -((ytrs * prob) + s).log().mean()"
      ],
      "metadata": {
        "id": "vew-dduAANOB"
      },
      "execution_count": null,
      "outputs": []
    },
    {
      "cell_type": "code",
      "source": [
        "for _ in range(10000):\n",
        "    # forword\n",
        "    embed = C[xtr]\n",
        "    h1 = t.tanh(embed.view(-1,2*485) @ w1 + b1)\n",
        "    logits = h1 @ w2 + b2\n",
        "    counts = logits.exp()\n",
        "    prob = counts / counts.sum(1, keepdims=True)\n",
        "    loss = -((ytrs * prob)).log().mean()\n",
        "# loss\n",
        "    print(loss.item())\n",
        "    # backward\n",
        "    for p in parameters:\n",
        "        p.grad = None\n",
        "    loss.backward()\n",
        "    # update\n",
        "    for p in parameters:\n",
        "        p.data += -10 * p.grad"
      ],
      "metadata": {
        "id": "2p47qiuwTial"
      },
      "execution_count": null,
      "outputs": []
    }
  ]
}