{
  "nbformat": 4,
  "nbformat_minor": 0,
  "metadata": {
    "colab": {
      "provenance": [],
      "mount_file_id": "1Eg0x09-ur0c_T1TTqx6wZZNuYFlOFI1T",
      "authorship_tag": "ABX9TyOxVeA6+PIpdRtO6j2aGNiC",
      "include_colab_link": true
    },
    "kernelspec": {
      "name": "python3",
      "display_name": "Python 3"
    },
    "language_info": {
      "name": "python"
    }
  },
  "cells": [
    {
      "cell_type": "markdown",
      "metadata": {
        "id": "view-in-github",
        "colab_type": "text"
      },
      "source": [
        "<a href=\"https://colab.research.google.com/github/RedBatProject/Roshan-Project/blob/main/Roshan_2.ipynb\" target=\"_parent\"><img src=\"https://colab.research.google.com/assets/colab-badge.svg\" alt=\"Open In Colab\"/></a>"
      ]
    },
    {
      "cell_type": "markdown",
      "source": [
        "# roshan 2"
      ],
      "metadata": {
        "id": "ijmsb22IxT52"
      }
    },
    {
      "cell_type": "code",
      "execution_count": 1,
      "metadata": {
        "id": "BOjQlGzvcWZu"
      },
      "outputs": [],
      "source": [
        "import pandas as pd\n",
        "import numpy as np\n",
        "import seaborn as sns\n",
        "import matplotlib.pyplot as plt"
      ]
    },
    {
      "cell_type": "code",
      "source": [
        "df = pd.read_csv('/content/drive/MyDrive/Roshan Project/d/data_cleaned_9.csv')\n",
        "df"
      ],
      "metadata": {
        "colab": {
          "base_uri": "https://localhost:8080/",
          "height": 1000
        },
        "id": "iZFRzx2icoO0",
        "outputId": "a71515ce-d1c4-410a-eba2-463b6168f283"
      },
      "execution_count": 2,
      "outputs": [
        {
          "output_type": "execute_result",
          "data": {
            "text/plain": [
              "      id                                               body  \\\n",
              "0      1  این نوشتار بر آن است تا با بررسی فقه الحدیثی ک...   \n",
              "1      2  چکیده:           این پژوهش براساس چارچوب نظری ...   \n",
              "2      3  فهم معانی عمیق و تدبر در آیات قرآن کریم برای ب...   \n",
              "3      4  آزادی موهبتی است الهی که خدای متعال به انسان ع...   \n",
              "4      5  یکی از نکاتی که توجه پژوهشگران اندیشه‌های سیاس...   \n",
              "..   ...                                                ...   \n",
              "445  446  پژوهش حاضر با هدف بررسی رابطه رضایت شغلی با تع...   \n",
              "446  447  سازمان ملل متحد در دهه های اخیر، با تغییر ساخت...   \n",
              "447  448  تفسیرهای فقهی از قدیمی‌ترین تفاسیری هستند که ا...   \n",
              "448  449  هدف از انجام این تحقیق بررسی تاثیر کیفیت زندگی...   \n",
              "449  450  هدف از پژوهش حاضر تبیین رابطه بین جهت گیری زند...   \n",
              "\n",
              "                                              keywords  \\\n",
              "0    فقه الحدیث,معانی الاخبار,روش فقه الحدیثی,چینش ...   \n",
              "1    سید محمد خاتمی,آدریان لفت ویچ,پیتر ایوانز,دولت...   \n",
              "2               جایگاه آرا تفسیری,محمد یزدی,ترجمه قرآن   \n",
              "3    محدودیت بازدارنده,آزادی بیان,بدعت,دین,ارتداد,ک...   \n",
              "4    آزادی,محمد تقی مصباح یزدی,مرتضی مطهری,دموکراسی...   \n",
              "..                                                 ...   \n",
              "445  شیراز,ارزیابی عمل‌کرد,کارکنان,عمل‌کرد شغل,تعهد...   \n",
              "446  کمیسیون حقوق‌بشر,حقوق‌بشر در ایران,بررسی دوره‌...   \n",
              "447      استنباط,کنز العرفان,آیات الاحکام,قواعد تفسیری   \n",
              "448  مدل  ,نوع دوستی,رفتار شهروندی سازمانی,تواضع,کی...   \n",
              "449  کارکنان,عمل‌کرد شغل,جهت‌گیری زندگی,دانشگاه آزا...   \n",
              "\n",
              "                                       cleaned_comment  \\\n",
              "0    این نوشتار بر آن است تا با بررسی فقه الحدیثی ک...   \n",
              "1    چکیده           این پژوهش براساس چارچوب نظری د...   \n",
              "2    فهم معانی عمیق و تدبر در آیات قرآن کریم برای ب...   \n",
              "3    آزادی موهبتی است الهی که خدای متعال به انسان ع...   \n",
              "4    یکی از نکاتی که توجه پژوهشگران اندیشه‌های سیاس...   \n",
              "..                                                 ...   \n",
              "445  پژوهش حاضر با هدف بررسی رابطه رضایت شغلی با تع...   \n",
              "446  سازمان ملل متحد در دهه های اخیر با تغییر ساختا...   \n",
              "447  تفسیرهای فقهی از قدیمی‌ترین تفاسیری هستند که ا...   \n",
              "448  هدف از انجام این تحقیق بررسی تاثیر کیفیت زندگی...   \n",
              "449  هدف از پژوهش حاضر تبیین رابطه بین جهت گیری زند...   \n",
              "\n",
              "                                              textrank  \\\n",
              "0    مبانی فقه الحدیثی شیخ صدوق,روایات نتیجه ذیل,رو...   \n",
              "1    سیاست خارجی توسعه سیاسی,رویکرد توسعه‌ای دولت‌ه...   \n",
              "2    ترجمه قرآن کریم محمد یزدی بیان,ترجمه قرآن محمد...   \n",
              "3    آزادی بیان و,و بیان آزادی,و امه علیهم السلام,آ...   \n",
              "4    اصل آزادی بیان موضع,توحید مجال بیان عقاید,نوع ...   \n",
              "..                                                 ...   \n",
              "445  رضایت شغلی کارکنان کمیته امداد شهرستان شیراز,ع...   \n",
              "446  شورای حقوق بشر دارای تفاوت‌های,تصمیمات شورای ح...   \n",
              "447   تفسیر آیات,تفسیرهای فقهی,قواعد تفسیر,تفسیری مفسر   \n",
              "448  رفتار شهروندی سازمانی شامل نوع‌دوستی جوانمردی,...   \n",
              "449  بین مولفه‌های متغیر کیفیت زندگی کاری مولفه‌های...   \n",
              "\n",
              "                                                single  \\\n",
              "0    جمله مبانی فقه الحدیثی شیخ صدوق اعتقاد,بررسی ف...   \n",
              "1    مبانی فکری دولت عدالت محور موجب اتخاذ رویکرد م...   \n",
              "2    ترجمه قرآن کریم محمد یزدی بیان موارد اختلاف,عن...   \n",
              "3    بیان آزادی قلم,آزادی بیان,پیامبر امه معصوم وخد...   \n",
              "4    نشیب‌های متعدد ساختار سیاسی جدیدی,تثیر نوع تفس...   \n",
              "..                                                 ...   \n",
              "445  عملکرد شغلی کارکنان کمیته امداد امام خمینیره ش...   \n",
              "446  تصمیمات شورای حقوق بشر,نهاد تازه تسیس شورای حق...   \n",
              "447  حال حاضر اثر ارزشمند فاضل مقداد کنز العرفان فی...   \n",
              "448  تحقیق کارکنان اداره کل کمیته امداد امام خمینی ...   \n",
              "449  بین ابعاد کیفیت زندگی کاری مقدار متغیر توسعه ق...   \n",
              "\n",
              "                                                 topic  \\\n",
              "0    شیخ صدوق ره,مبانی,رد روایات اعتقاد,نتایج علمی,...   \n",
              "1    سیاست خارجی اولویت توسعه سیاسی,توسعه,نهادهای م...   \n",
              "2          مستلزم ترجمه,آیات قرآن ابراز,آیات قرآن کریم   \n",
              "3    دین,آزادی موهبتی,انسان عطا,اسلام,آزادی قلم,قال...   \n",
              "4    سیاسی,دین,مرتضی مطهری,نفی آزادی ری,تفسیر,متفکر...   \n",
              "..                                                 ...   \n",
              "445  تعهد سازمانی,هدف بررسی رابطه رضایت شغلی,کارکنا...   \n",
              "446  تشکیل کمیسیون حقوق بشر,ساختار,عملکرد,کمیسیون,ح...   \n",
              "447  قواعد متقنی,تفسیر آیات کریمه,تفسیر شناسایی,است...   \n",
              "448  بررسی مجدد,پایایی,روایی,پژوهش پرسشنامه استاندا...   \n",
              "449  آمار توصیفی,آزمون ضریب همبستگی پیرسون,رگرسیون ...   \n",
              "\n",
              "                                                tf-idf  \\\n",
              "0    ['شیخ', 'فقه', 'خویش', 'روایات', 'حیطه', 'بیانی']   \n",
              "1    ['دولت', 'به توسعه', 'توسعه', 'هفتم', 'در سیاست']   \n",
              "2                          ['ترجمه', 'تفسیری', 'محمد']   \n",
              "3    ['آزادی', 'قلم', 'بیان می', 'قال به', 'بیان', ...   \n",
              "4    ['عقاید', 'آزادی', 'خاصی از', 'خاصی', 'اندیشه'...   \n",
              "..                                                 ...   \n",
              "445  ['عملکرد شغلی', 'کمیته امداد', 'امداد', 'رضایت...   \n",
              "446    ['حقوق بشر', 'تصمیمات', 'شورای', 'بشر', 'حقوق']   \n",
              "447    ['قواعد', 'در نظر گرفتن', 'نظر گرفتن', 'گرفتن']   \n",
              "448  ['کمیته امداد امام خمینی', 'امداد امام خمینی',...   \n",
              "449  ['عملکرد شغلی', 'کیفیت زندگی', 'کاری', 'کارکنا...   \n",
              "\n",
              "                                              tf-idf-1  \\\n",
              "0    ['الحدیثی', 'فقه الحدیثی', 'صدوق', 'شیخ صدوق',...   \n",
              "1    ['دولت های', 'نهادهای مدنی', 'دولت های هفتم هش...   \n",
              "2                    ['ترجمه', 'در ترجمه', 'ترجمه ای']   \n",
              "3    ['آزادی بیان', 'آزادی', 'آزادی نطق', 'نطق', 'ش...   \n",
              "4    ['اندیشه سیاسی', 'متفکری', 'اندیشه سیاسی آن', ...   \n",
              "..                                                 ...   \n",
              "445  ['شهرستان شیراز', 'کمیته امداد شهرستان شیراز',...   \n",
              "446  ['شورای حقوق', 'شورای حقوق بشر', 'حقوق بشر', '...   \n",
              "447  ['قواعد', 'نظر گرفتن', 'در نظر گرفتن', 'نباشد ...   \n",
              "448  ['محاسبه گردیده است', 'کل کمیته امداد', 'امام ...   \n",
              "449  ['گیری زندگی', 'زندگی کاری', 'کیفیت زندگی کاری...   \n",
              "\n",
              "                                              position  \\\n",
              "0     الحدیثی,صدوق,روش شیخ,نوشتار,روایات,روش تبیینی وی   \n",
              "1    پژوهش,توسعه,اولویت توسعه,توسعه سیاسی,سیاست خار...   \n",
              "2                                    تدبر,تدبر آنان,چه   \n",
              "3     بیان آزادی,آزادی,انسان,بیان,موهبتی,اسلام,عطا,دین   \n",
              "4    دین,نکاتی,تفسیر,آن تفسیر,تفسیر محمدتقی مصباح,نشان   \n",
              "..                                                 ...   \n",
              "445  شیراز,نفر,صورت,استفاده,امام,پرسشنامه,پرسشنامه ...   \n",
              "446                       بشر,ساختار,برجای,تغییرات,سال   \n",
              "447                        تدوین,تفاسیر,الحکام,تفاسیری   \n",
              "448                     تحقیق,روش تحقیق,هدف,امام,خمینی   \n",
              "449    هدف,رابطه,زندگی,کیفیت زندگی,ابعادجهت گیری زندگی   \n",
              "\n",
              "                                          multipartite  \n",
              "0    مبانی,شیخ صدوق ره,دنبال روایت قید,پژوهش,مواقعی...  \n",
              "1       پژوهش,توسعه,نهادهای مدنی,توجه,احزاب سیاسی حرکت  \n",
              "2                       آیات قرآن کریم,تدبر,مترجم قرآن  \n",
              "3    آزادی موهبتی,انسان عطا,الهی,خدای متعال,دین,اسل...  \n",
              "4    دینی,مرتضی مطهری,مبحث آزادی عقیده,متفکری دین,ت...  \n",
              "..                                                 ...  \n",
              "445  هدف بررسی رابطه رضایت شغلی,تعهد سازمانی,پژوهش ...  \n",
              "446  فعالیتهای حقوق بشری برجای,ساختار,عملکرد,کمیسیو...  \n",
              "447  تفسیرهای فقهی,قواعد متقنی,تفسیر آیات کریمه,مبن...  \n",
              "448  تحقیق پرسشنامه,بررسی مجدد,روایی,پایایی,پژوهش پ...  \n",
              "449  آمار توصیفی,آزمون ضریب همبستگی پیرسون,رگرسیون ...  \n",
              "\n",
              "[450 rows x 11 columns]"
            ],
            "text/html": [
              "\n",
              "\n",
              "  <div id=\"df-a66296e0-6fdc-41a0-b38c-872921782c21\">\n",
              "    <div class=\"colab-df-container\">\n",
              "      <div>\n",
              "<style scoped>\n",
              "    .dataframe tbody tr th:only-of-type {\n",
              "        vertical-align: middle;\n",
              "    }\n",
              "\n",
              "    .dataframe tbody tr th {\n",
              "        vertical-align: top;\n",
              "    }\n",
              "\n",
              "    .dataframe thead th {\n",
              "        text-align: right;\n",
              "    }\n",
              "</style>\n",
              "<table border=\"1\" class=\"dataframe\">\n",
              "  <thead>\n",
              "    <tr style=\"text-align: right;\">\n",
              "      <th></th>\n",
              "      <th>id</th>\n",
              "      <th>body</th>\n",
              "      <th>keywords</th>\n",
              "      <th>cleaned_comment</th>\n",
              "      <th>textrank</th>\n",
              "      <th>single</th>\n",
              "      <th>topic</th>\n",
              "      <th>tf-idf</th>\n",
              "      <th>tf-idf-1</th>\n",
              "      <th>position</th>\n",
              "      <th>multipartite</th>\n",
              "    </tr>\n",
              "  </thead>\n",
              "  <tbody>\n",
              "    <tr>\n",
              "      <th>0</th>\n",
              "      <td>1</td>\n",
              "      <td>این نوشتار بر آن است تا با بررسی فقه الحدیثی ک...</td>\n",
              "      <td>فقه الحدیث,معانی الاخبار,روش فقه الحدیثی,چینش ...</td>\n",
              "      <td>این نوشتار بر آن است تا با بررسی فقه الحدیثی ک...</td>\n",
              "      <td>مبانی فقه الحدیثی شیخ صدوق,روایات نتیجه ذیل,رو...</td>\n",
              "      <td>جمله مبانی فقه الحدیثی شیخ صدوق اعتقاد,بررسی ف...</td>\n",
              "      <td>شیخ صدوق ره,مبانی,رد روایات اعتقاد,نتایج علمی,...</td>\n",
              "      <td>['شیخ', 'فقه', 'خویش', 'روایات', 'حیطه', 'بیانی']</td>\n",
              "      <td>['الحدیثی', 'فقه الحدیثی', 'صدوق', 'شیخ صدوق',...</td>\n",
              "      <td>الحدیثی,صدوق,روش شیخ,نوشتار,روایات,روش تبیینی وی</td>\n",
              "      <td>مبانی,شیخ صدوق ره,دنبال روایت قید,پژوهش,مواقعی...</td>\n",
              "    </tr>\n",
              "    <tr>\n",
              "      <th>1</th>\n",
              "      <td>2</td>\n",
              "      <td>چکیده:           این پژوهش براساس چارچوب نظری ...</td>\n",
              "      <td>سید محمد خاتمی,آدریان لفت ویچ,پیتر ایوانز,دولت...</td>\n",
              "      <td>چکیده           این پژوهش براساس چارچوب نظری د...</td>\n",
              "      <td>سیاست خارجی توسعه سیاسی,رویکرد توسعه‌ای دولت‌ه...</td>\n",
              "      <td>مبانی فکری دولت عدالت محور موجب اتخاذ رویکرد م...</td>\n",
              "      <td>سیاست خارجی اولویت توسعه سیاسی,توسعه,نهادهای م...</td>\n",
              "      <td>['دولت', 'به توسعه', 'توسعه', 'هفتم', 'در سیاست']</td>\n",
              "      <td>['دولت های', 'نهادهای مدنی', 'دولت های هفتم هش...</td>\n",
              "      <td>پژوهش,توسعه,اولویت توسعه,توسعه سیاسی,سیاست خار...</td>\n",
              "      <td>پژوهش,توسعه,نهادهای مدنی,توجه,احزاب سیاسی حرکت</td>\n",
              "    </tr>\n",
              "    <tr>\n",
              "      <th>2</th>\n",
              "      <td>3</td>\n",
              "      <td>فهم معانی عمیق و تدبر در آیات قرآن کریم برای ب...</td>\n",
              "      <td>جایگاه آرا تفسیری,محمد یزدی,ترجمه قرآن</td>\n",
              "      <td>فهم معانی عمیق و تدبر در آیات قرآن کریم برای ب...</td>\n",
              "      <td>ترجمه قرآن کریم محمد یزدی بیان,ترجمه قرآن محمد...</td>\n",
              "      <td>ترجمه قرآن کریم محمد یزدی بیان موارد اختلاف,عن...</td>\n",
              "      <td>مستلزم ترجمه,آیات قرآن ابراز,آیات قرآن کریم</td>\n",
              "      <td>['ترجمه', 'تفسیری', 'محمد']</td>\n",
              "      <td>['ترجمه', 'در ترجمه', 'ترجمه ای']</td>\n",
              "      <td>تدبر,تدبر آنان,چه</td>\n",
              "      <td>آیات قرآن کریم,تدبر,مترجم قرآن</td>\n",
              "    </tr>\n",
              "    <tr>\n",
              "      <th>3</th>\n",
              "      <td>4</td>\n",
              "      <td>آزادی موهبتی است الهی که خدای متعال به انسان ع...</td>\n",
              "      <td>محدودیت بازدارنده,آزادی بیان,بدعت,دین,ارتداد,ک...</td>\n",
              "      <td>آزادی موهبتی است الهی که خدای متعال به انسان ع...</td>\n",
              "      <td>آزادی بیان و,و بیان آزادی,و امه علیهم السلام,آ...</td>\n",
              "      <td>بیان آزادی قلم,آزادی بیان,پیامبر امه معصوم وخد...</td>\n",
              "      <td>دین,آزادی موهبتی,انسان عطا,اسلام,آزادی قلم,قال...</td>\n",
              "      <td>['آزادی', 'قلم', 'بیان می', 'قال به', 'بیان', ...</td>\n",
              "      <td>['آزادی بیان', 'آزادی', 'آزادی نطق', 'نطق', 'ش...</td>\n",
              "      <td>بیان آزادی,آزادی,انسان,بیان,موهبتی,اسلام,عطا,دین</td>\n",
              "      <td>آزادی موهبتی,انسان عطا,الهی,خدای متعال,دین,اسل...</td>\n",
              "    </tr>\n",
              "    <tr>\n",
              "      <th>4</th>\n",
              "      <td>5</td>\n",
              "      <td>یکی از نکاتی که توجه پژوهشگران اندیشه‌های سیاس...</td>\n",
              "      <td>آزادی,محمد تقی مصباح یزدی,مرتضی مطهری,دموکراسی...</td>\n",
              "      <td>یکی از نکاتی که توجه پژوهشگران اندیشه‌های سیاس...</td>\n",
              "      <td>اصل آزادی بیان موضع,توحید مجال بیان عقاید,نوع ...</td>\n",
              "      <td>نشیب‌های متعدد ساختار سیاسی جدیدی,تثیر نوع تفس...</td>\n",
              "      <td>سیاسی,دین,مرتضی مطهری,نفی آزادی ری,تفسیر,متفکر...</td>\n",
              "      <td>['عقاید', 'آزادی', 'خاصی از', 'خاصی', 'اندیشه'...</td>\n",
              "      <td>['اندیشه سیاسی', 'متفکری', 'اندیشه سیاسی آن', ...</td>\n",
              "      <td>دین,نکاتی,تفسیر,آن تفسیر,تفسیر محمدتقی مصباح,نشان</td>\n",
              "      <td>دینی,مرتضی مطهری,مبحث آزادی عقیده,متفکری دین,ت...</td>\n",
              "    </tr>\n",
              "    <tr>\n",
              "      <th>...</th>\n",
              "      <td>...</td>\n",
              "      <td>...</td>\n",
              "      <td>...</td>\n",
              "      <td>...</td>\n",
              "      <td>...</td>\n",
              "      <td>...</td>\n",
              "      <td>...</td>\n",
              "      <td>...</td>\n",
              "      <td>...</td>\n",
              "      <td>...</td>\n",
              "      <td>...</td>\n",
              "    </tr>\n",
              "    <tr>\n",
              "      <th>445</th>\n",
              "      <td>446</td>\n",
              "      <td>پژوهش حاضر با هدف بررسی رابطه رضایت شغلی با تع...</td>\n",
              "      <td>شیراز,ارزیابی عمل‌کرد,کارکنان,عمل‌کرد شغل,تعهد...</td>\n",
              "      <td>پژوهش حاضر با هدف بررسی رابطه رضایت شغلی با تع...</td>\n",
              "      <td>رضایت شغلی کارکنان کمیته امداد شهرستان شیراز,ع...</td>\n",
              "      <td>عملکرد شغلی کارکنان کمیته امداد امام خمینیره ش...</td>\n",
              "      <td>تعهد سازمانی,هدف بررسی رابطه رضایت شغلی,کارکنا...</td>\n",
              "      <td>['عملکرد شغلی', 'کمیته امداد', 'امداد', 'رضایت...</td>\n",
              "      <td>['شهرستان شیراز', 'کمیته امداد شهرستان شیراز',...</td>\n",
              "      <td>شیراز,نفر,صورت,استفاده,امام,پرسشنامه,پرسشنامه ...</td>\n",
              "      <td>هدف بررسی رابطه رضایت شغلی,تعهد سازمانی,پژوهش ...</td>\n",
              "    </tr>\n",
              "    <tr>\n",
              "      <th>446</th>\n",
              "      <td>447</td>\n",
              "      <td>سازمان ملل متحد در دهه های اخیر، با تغییر ساخت...</td>\n",
              "      <td>کمیسیون حقوق‌بشر,حقوق‌بشر در ایران,بررسی دوره‌...</td>\n",
              "      <td>سازمان ملل متحد در دهه های اخیر با تغییر ساختا...</td>\n",
              "      <td>شورای حقوق بشر دارای تفاوت‌های,تصمیمات شورای ح...</td>\n",
              "      <td>تصمیمات شورای حقوق بشر,نهاد تازه تسیس شورای حق...</td>\n",
              "      <td>تشکیل کمیسیون حقوق بشر,ساختار,عملکرد,کمیسیون,ح...</td>\n",
              "      <td>['حقوق بشر', 'تصمیمات', 'شورای', 'بشر', 'حقوق']</td>\n",
              "      <td>['شورای حقوق', 'شورای حقوق بشر', 'حقوق بشر', '...</td>\n",
              "      <td>بشر,ساختار,برجای,تغییرات,سال</td>\n",
              "      <td>فعالیتهای حقوق بشری برجای,ساختار,عملکرد,کمیسیو...</td>\n",
              "    </tr>\n",
              "    <tr>\n",
              "      <th>447</th>\n",
              "      <td>448</td>\n",
              "      <td>تفسیرهای فقهی از قدیمی‌ترین تفاسیری هستند که ا...</td>\n",
              "      <td>استنباط,کنز العرفان,آیات الاحکام,قواعد تفسیری</td>\n",
              "      <td>تفسیرهای فقهی از قدیمی‌ترین تفاسیری هستند که ا...</td>\n",
              "      <td>تفسیر آیات,تفسیرهای فقهی,قواعد تفسیر,تفسیری مفسر</td>\n",
              "      <td>حال حاضر اثر ارزشمند فاضل مقداد کنز العرفان فی...</td>\n",
              "      <td>قواعد متقنی,تفسیر آیات کریمه,تفسیر شناسایی,است...</td>\n",
              "      <td>['قواعد', 'در نظر گرفتن', 'نظر گرفتن', 'گرفتن']</td>\n",
              "      <td>['قواعد', 'نظر گرفتن', 'در نظر گرفتن', 'نباشد ...</td>\n",
              "      <td>تدوین,تفاسیر,الحکام,تفاسیری</td>\n",
              "      <td>تفسیرهای فقهی,قواعد متقنی,تفسیر آیات کریمه,مبن...</td>\n",
              "    </tr>\n",
              "    <tr>\n",
              "      <th>448</th>\n",
              "      <td>449</td>\n",
              "      <td>هدف از انجام این تحقیق بررسی تاثیر کیفیت زندگی...</td>\n",
              "      <td>مدل  ,نوع دوستی,رفتار شهروندی سازمانی,تواضع,کی...</td>\n",
              "      <td>هدف از انجام این تحقیق بررسی تاثیر کیفیت زندگی...</td>\n",
              "      <td>رفتار شهروندی سازمانی شامل نوع‌دوستی جوانمردی,...</td>\n",
              "      <td>تحقیق کارکنان اداره کل کمیته امداد امام خمینی ...</td>\n",
              "      <td>بررسی مجدد,پایایی,روایی,پژوهش پرسشنامه استاندا...</td>\n",
              "      <td>['کمیته امداد امام خمینی', 'امداد امام خمینی',...</td>\n",
              "      <td>['محاسبه گردیده است', 'کل کمیته امداد', 'امام ...</td>\n",
              "      <td>تحقیق,روش تحقیق,هدف,امام,خمینی</td>\n",
              "      <td>تحقیق پرسشنامه,بررسی مجدد,روایی,پایایی,پژوهش پ...</td>\n",
              "    </tr>\n",
              "    <tr>\n",
              "      <th>449</th>\n",
              "      <td>450</td>\n",
              "      <td>هدف از پژوهش حاضر تبیین رابطه بین جهت گیری زند...</td>\n",
              "      <td>کارکنان,عمل‌کرد شغل,جهت‌گیری زندگی,دانشگاه آزا...</td>\n",
              "      <td>هدف از پژوهش حاضر تبیین رابطه بین جهت گیری زند...</td>\n",
              "      <td>بین مولفه‌های متغیر کیفیت زندگی کاری مولفه‌های...</td>\n",
              "      <td>بین ابعاد کیفیت زندگی کاری مقدار متغیر توسعه ق...</td>\n",
              "      <td>آمار توصیفی,آزمون ضریب همبستگی پیرسون,رگرسیون ...</td>\n",
              "      <td>['عملکرد شغلی', 'کیفیت زندگی', 'کاری', 'کارکنا...</td>\n",
              "      <td>['گیری زندگی', 'زندگی کاری', 'کیفیت زندگی کاری...</td>\n",
              "      <td>هدف,رابطه,زندگی,کیفیت زندگی,ابعادجهت گیری زندگی</td>\n",
              "      <td>آمار توصیفی,آزمون ضریب همبستگی پیرسون,رگرسیون ...</td>\n",
              "    </tr>\n",
              "  </tbody>\n",
              "</table>\n",
              "<p>450 rows × 11 columns</p>\n",
              "</div>\n",
              "      <button class=\"colab-df-convert\" onclick=\"convertToInteractive('df-a66296e0-6fdc-41a0-b38c-872921782c21')\"\n",
              "              title=\"Convert this dataframe to an interactive table.\"\n",
              "              style=\"display:none;\">\n",
              "\n",
              "  <svg xmlns=\"http://www.w3.org/2000/svg\" height=\"24px\"viewBox=\"0 0 24 24\"\n",
              "       width=\"24px\">\n",
              "    <path d=\"M0 0h24v24H0V0z\" fill=\"none\"/>\n",
              "    <path d=\"M18.56 5.44l.94 2.06.94-2.06 2.06-.94-2.06-.94-.94-2.06-.94 2.06-2.06.94zm-11 1L8.5 8.5l.94-2.06 2.06-.94-2.06-.94L8.5 2.5l-.94 2.06-2.06.94zm10 10l.94 2.06.94-2.06 2.06-.94-2.06-.94-.94-2.06-.94 2.06-2.06.94z\"/><path d=\"M17.41 7.96l-1.37-1.37c-.4-.4-.92-.59-1.43-.59-.52 0-1.04.2-1.43.59L10.3 9.45l-7.72 7.72c-.78.78-.78 2.05 0 2.83L4 21.41c.39.39.9.59 1.41.59.51 0 1.02-.2 1.41-.59l7.78-7.78 2.81-2.81c.8-.78.8-2.07 0-2.86zM5.41 20L4 18.59l7.72-7.72 1.47 1.35L5.41 20z\"/>\n",
              "  </svg>\n",
              "      </button>\n",
              "\n",
              "\n",
              "\n",
              "    <div id=\"df-e38e30bd-2818-460f-8067-1292f7f40d70\">\n",
              "      <button class=\"colab-df-quickchart\" onclick=\"quickchart('df-e38e30bd-2818-460f-8067-1292f7f40d70')\"\n",
              "              title=\"Suggest charts.\"\n",
              "              style=\"display:none;\">\n",
              "\n",
              "<svg xmlns=\"http://www.w3.org/2000/svg\" height=\"24px\"viewBox=\"0 0 24 24\"\n",
              "     width=\"24px\">\n",
              "    <g>\n",
              "        <path d=\"M19 3H5c-1.1 0-2 .9-2 2v14c0 1.1.9 2 2 2h14c1.1 0 2-.9 2-2V5c0-1.1-.9-2-2-2zM9 17H7v-7h2v7zm4 0h-2V7h2v10zm4 0h-2v-4h2v4z\"/>\n",
              "    </g>\n",
              "</svg>\n",
              "      </button>\n",
              "    </div>\n",
              "\n",
              "<style>\n",
              "  .colab-df-quickchart {\n",
              "    background-color: #E8F0FE;\n",
              "    border: none;\n",
              "    border-radius: 50%;\n",
              "    cursor: pointer;\n",
              "    display: none;\n",
              "    fill: #1967D2;\n",
              "    height: 32px;\n",
              "    padding: 0 0 0 0;\n",
              "    width: 32px;\n",
              "  }\n",
              "\n",
              "  .colab-df-quickchart:hover {\n",
              "    background-color: #E2EBFA;\n",
              "    box-shadow: 0px 1px 2px rgba(60, 64, 67, 0.3), 0px 1px 3px 1px rgba(60, 64, 67, 0.15);\n",
              "    fill: #174EA6;\n",
              "  }\n",
              "\n",
              "  [theme=dark] .colab-df-quickchart {\n",
              "    background-color: #3B4455;\n",
              "    fill: #D2E3FC;\n",
              "  }\n",
              "\n",
              "  [theme=dark] .colab-df-quickchart:hover {\n",
              "    background-color: #434B5C;\n",
              "    box-shadow: 0px 1px 3px 1px rgba(0, 0, 0, 0.15);\n",
              "    filter: drop-shadow(0px 1px 2px rgba(0, 0, 0, 0.3));\n",
              "    fill: #FFFFFF;\n",
              "  }\n",
              "</style>\n",
              "\n",
              "    <script>\n",
              "      async function quickchart(key) {\n",
              "        const containerElement = document.querySelector('#' + key);\n",
              "        const charts = await google.colab.kernel.invokeFunction(\n",
              "            'suggestCharts', [key], {});\n",
              "      }\n",
              "    </script>\n",
              "\n",
              "      <script>\n",
              "\n",
              "function displayQuickchartButton(domScope) {\n",
              "  let quickchartButtonEl =\n",
              "    domScope.querySelector('#df-e38e30bd-2818-460f-8067-1292f7f40d70 button.colab-df-quickchart');\n",
              "  quickchartButtonEl.style.display =\n",
              "    google.colab.kernel.accessAllowed ? 'block' : 'none';\n",
              "}\n",
              "\n",
              "        displayQuickchartButton(document);\n",
              "      </script>\n",
              "      <style>\n",
              "    .colab-df-container {\n",
              "      display:flex;\n",
              "      flex-wrap:wrap;\n",
              "      gap: 12px;\n",
              "    }\n",
              "\n",
              "    .colab-df-convert {\n",
              "      background-color: #E8F0FE;\n",
              "      border: none;\n",
              "      border-radius: 50%;\n",
              "      cursor: pointer;\n",
              "      display: none;\n",
              "      fill: #1967D2;\n",
              "      height: 32px;\n",
              "      padding: 0 0 0 0;\n",
              "      width: 32px;\n",
              "    }\n",
              "\n",
              "    .colab-df-convert:hover {\n",
              "      background-color: #E2EBFA;\n",
              "      box-shadow: 0px 1px 2px rgba(60, 64, 67, 0.3), 0px 1px 3px 1px rgba(60, 64, 67, 0.15);\n",
              "      fill: #174EA6;\n",
              "    }\n",
              "\n",
              "    [theme=dark] .colab-df-convert {\n",
              "      background-color: #3B4455;\n",
              "      fill: #D2E3FC;\n",
              "    }\n",
              "\n",
              "    [theme=dark] .colab-df-convert:hover {\n",
              "      background-color: #434B5C;\n",
              "      box-shadow: 0px 1px 3px 1px rgba(0, 0, 0, 0.15);\n",
              "      filter: drop-shadow(0px 1px 2px rgba(0, 0, 0, 0.3));\n",
              "      fill: #FFFFFF;\n",
              "    }\n",
              "  </style>\n",
              "\n",
              "      <script>\n",
              "        const buttonEl =\n",
              "          document.querySelector('#df-a66296e0-6fdc-41a0-b38c-872921782c21 button.colab-df-convert');\n",
              "        buttonEl.style.display =\n",
              "          google.colab.kernel.accessAllowed ? 'block' : 'none';\n",
              "\n",
              "        async function convertToInteractive(key) {\n",
              "          const element = document.querySelector('#df-a66296e0-6fdc-41a0-b38c-872921782c21');\n",
              "          const dataTable =\n",
              "            await google.colab.kernel.invokeFunction('convertToInteractive',\n",
              "                                                     [key], {});\n",
              "          if (!dataTable) return;\n",
              "\n",
              "          const docLinkHtml = 'Like what you see? Visit the ' +\n",
              "            '<a target=\"_blank\" href=https://colab.research.google.com/notebooks/data_table.ipynb>data table notebook</a>'\n",
              "            + ' to learn more about interactive tables.';\n",
              "          element.innerHTML = '';\n",
              "          dataTable['output_type'] = 'display_data';\n",
              "          await google.colab.output.renderOutput(dataTable, element);\n",
              "          const docLink = document.createElement('div');\n",
              "          docLink.innerHTML = docLinkHtml;\n",
              "          element.appendChild(docLink);\n",
              "        }\n",
              "      </script>\n",
              "    </div>\n",
              "  </div>\n"
            ]
          },
          "metadata": {},
          "execution_count": 2
        }
      ]
    },
    {
      "cell_type": "code",
      "source": [
        "df.columns"
      ],
      "metadata": {
        "colab": {
          "base_uri": "https://localhost:8080/"
        },
        "id": "xMr-YXiUc4rh",
        "outputId": "6855869a-3622-4b20-c72c-6a37ac17d82e"
      },
      "execution_count": 6,
      "outputs": [
        {
          "output_type": "execute_result",
          "data": {
            "text/plain": [
              "Index(['body', 'keywords', 'cleaned_comment', 'textrank', 'single', 'topic',\n",
              "       'tf-idf', 'tf-idf-1', 'position', 'multipartite'],\n",
              "      dtype='object')"
            ]
          },
          "metadata": {},
          "execution_count": 6
        }
      ]
    },
    {
      "cell_type": "code",
      "source": [
        "df.columns = ['body', 'keywords', 'cleaned_body', 'textRank', 'singleRank', 'topicRank','tf-idf', 'tf-idf-1', 'positionRank', 'multipartiteRank']"
      ],
      "metadata": {
        "colab": {
          "base_uri": "https://localhost:8080/",
          "height": 324
        },
        "id": "4TvEZJY3c6Y9",
        "outputId": "1ca076db-e418-4ca9-cdbe-43c7185ecccb"
      },
      "execution_count": 166,
      "outputs": [
        {
          "output_type": "error",
          "ename": "ValueError",
          "evalue": "ignored",
          "traceback": [
            "\u001b[0;31m---------------------------------------------------------------------------\u001b[0m",
            "\u001b[0;31mValueError\u001b[0m                                Traceback (most recent call last)",
            "\u001b[0;32m<ipython-input-166-7ee37c758a69>\u001b[0m in \u001b[0;36m<cell line: 1>\u001b[0;34m()\u001b[0m\n\u001b[0;32m----> 1\u001b[0;31m \u001b[0mdf\u001b[0m\u001b[0;34m.\u001b[0m\u001b[0mcolumns\u001b[0m \u001b[0;34m=\u001b[0m \u001b[0;34m[\u001b[0m\u001b[0;34m'body'\u001b[0m\u001b[0;34m,\u001b[0m \u001b[0;34m'keywords'\u001b[0m\u001b[0;34m,\u001b[0m \u001b[0;34m'cleaned_body'\u001b[0m\u001b[0;34m,\u001b[0m \u001b[0;34m'textRank'\u001b[0m\u001b[0;34m,\u001b[0m \u001b[0;34m'singleRank'\u001b[0m\u001b[0;34m,\u001b[0m \u001b[0;34m'topicRank'\u001b[0m\u001b[0;34m,\u001b[0m \u001b[0;34m'tf-idf-1'\u001b[0m\u001b[0;34m,\u001b[0m \u001b[0;34m'positionRank'\u001b[0m\u001b[0;34m,\u001b[0m \u001b[0;34m'multipartiteRank'\u001b[0m\u001b[0;34m]\u001b[0m\u001b[0;34m\u001b[0m\u001b[0;34m\u001b[0m\u001b[0m\n\u001b[0m",
            "\u001b[0;32m/usr/local/lib/python3.10/dist-packages/pandas/core/generic.py\u001b[0m in \u001b[0;36m__setattr__\u001b[0;34m(self, name, value)\u001b[0m\n\u001b[1;32m   5913\u001b[0m         \u001b[0;32mtry\u001b[0m\u001b[0;34m:\u001b[0m\u001b[0;34m\u001b[0m\u001b[0;34m\u001b[0m\u001b[0m\n\u001b[1;32m   5914\u001b[0m             \u001b[0mobject\u001b[0m\u001b[0;34m.\u001b[0m\u001b[0m__getattribute__\u001b[0m\u001b[0;34m(\u001b[0m\u001b[0mself\u001b[0m\u001b[0;34m,\u001b[0m \u001b[0mname\u001b[0m\u001b[0;34m)\u001b[0m\u001b[0;34m\u001b[0m\u001b[0;34m\u001b[0m\u001b[0m\n\u001b[0;32m-> 5915\u001b[0;31m             \u001b[0;32mreturn\u001b[0m \u001b[0mobject\u001b[0m\u001b[0;34m.\u001b[0m\u001b[0m__setattr__\u001b[0m\u001b[0;34m(\u001b[0m\u001b[0mself\u001b[0m\u001b[0;34m,\u001b[0m \u001b[0mname\u001b[0m\u001b[0;34m,\u001b[0m \u001b[0mvalue\u001b[0m\u001b[0;34m)\u001b[0m\u001b[0;34m\u001b[0m\u001b[0;34m\u001b[0m\u001b[0m\n\u001b[0m\u001b[1;32m   5916\u001b[0m         \u001b[0;32mexcept\u001b[0m \u001b[0mAttributeError\u001b[0m\u001b[0;34m:\u001b[0m\u001b[0;34m\u001b[0m\u001b[0;34m\u001b[0m\u001b[0m\n\u001b[1;32m   5917\u001b[0m             \u001b[0;32mpass\u001b[0m\u001b[0;34m\u001b[0m\u001b[0;34m\u001b[0m\u001b[0m\n",
            "\u001b[0;32m/usr/local/lib/python3.10/dist-packages/pandas/_libs/properties.pyx\u001b[0m in \u001b[0;36mpandas._libs.properties.AxisProperty.__set__\u001b[0;34m()\u001b[0m\n",
            "\u001b[0;32m/usr/local/lib/python3.10/dist-packages/pandas/core/generic.py\u001b[0m in \u001b[0;36m_set_axis\u001b[0;34m(self, axis, labels)\u001b[0m\n\u001b[1;32m    821\u001b[0m     \u001b[0;32mdef\u001b[0m \u001b[0m_set_axis\u001b[0m\u001b[0;34m(\u001b[0m\u001b[0mself\u001b[0m\u001b[0;34m,\u001b[0m \u001b[0maxis\u001b[0m\u001b[0;34m:\u001b[0m \u001b[0mint\u001b[0m\u001b[0;34m,\u001b[0m \u001b[0mlabels\u001b[0m\u001b[0;34m:\u001b[0m \u001b[0mAnyArrayLike\u001b[0m \u001b[0;34m|\u001b[0m \u001b[0mlist\u001b[0m\u001b[0;34m)\u001b[0m \u001b[0;34m->\u001b[0m \u001b[0;32mNone\u001b[0m\u001b[0;34m:\u001b[0m\u001b[0;34m\u001b[0m\u001b[0;34m\u001b[0m\u001b[0m\n\u001b[1;32m    822\u001b[0m         \u001b[0mlabels\u001b[0m \u001b[0;34m=\u001b[0m \u001b[0mensure_index\u001b[0m\u001b[0;34m(\u001b[0m\u001b[0mlabels\u001b[0m\u001b[0;34m)\u001b[0m\u001b[0;34m\u001b[0m\u001b[0;34m\u001b[0m\u001b[0m\n\u001b[0;32m--> 823\u001b[0;31m         \u001b[0mself\u001b[0m\u001b[0;34m.\u001b[0m\u001b[0m_mgr\u001b[0m\u001b[0;34m.\u001b[0m\u001b[0mset_axis\u001b[0m\u001b[0;34m(\u001b[0m\u001b[0maxis\u001b[0m\u001b[0;34m,\u001b[0m \u001b[0mlabels\u001b[0m\u001b[0;34m)\u001b[0m\u001b[0;34m\u001b[0m\u001b[0;34m\u001b[0m\u001b[0m\n\u001b[0m\u001b[1;32m    824\u001b[0m         \u001b[0mself\u001b[0m\u001b[0;34m.\u001b[0m\u001b[0m_clear_item_cache\u001b[0m\u001b[0;34m(\u001b[0m\u001b[0;34m)\u001b[0m\u001b[0;34m\u001b[0m\u001b[0;34m\u001b[0m\u001b[0m\n\u001b[1;32m    825\u001b[0m \u001b[0;34m\u001b[0m\u001b[0m\n",
            "\u001b[0;32m/usr/local/lib/python3.10/dist-packages/pandas/core/internals/managers.py\u001b[0m in \u001b[0;36mset_axis\u001b[0;34m(self, axis, new_labels)\u001b[0m\n\u001b[1;32m    228\u001b[0m     \u001b[0;32mdef\u001b[0m \u001b[0mset_axis\u001b[0m\u001b[0;34m(\u001b[0m\u001b[0mself\u001b[0m\u001b[0;34m,\u001b[0m \u001b[0maxis\u001b[0m\u001b[0;34m:\u001b[0m \u001b[0mint\u001b[0m\u001b[0;34m,\u001b[0m \u001b[0mnew_labels\u001b[0m\u001b[0;34m:\u001b[0m \u001b[0mIndex\u001b[0m\u001b[0;34m)\u001b[0m \u001b[0;34m->\u001b[0m \u001b[0;32mNone\u001b[0m\u001b[0;34m:\u001b[0m\u001b[0;34m\u001b[0m\u001b[0;34m\u001b[0m\u001b[0m\n\u001b[1;32m    229\u001b[0m         \u001b[0;31m# Caller is responsible for ensuring we have an Index object.\u001b[0m\u001b[0;34m\u001b[0m\u001b[0;34m\u001b[0m\u001b[0m\n\u001b[0;32m--> 230\u001b[0;31m         \u001b[0mself\u001b[0m\u001b[0;34m.\u001b[0m\u001b[0m_validate_set_axis\u001b[0m\u001b[0;34m(\u001b[0m\u001b[0maxis\u001b[0m\u001b[0;34m,\u001b[0m \u001b[0mnew_labels\u001b[0m\u001b[0;34m)\u001b[0m\u001b[0;34m\u001b[0m\u001b[0;34m\u001b[0m\u001b[0m\n\u001b[0m\u001b[1;32m    231\u001b[0m         \u001b[0mself\u001b[0m\u001b[0;34m.\u001b[0m\u001b[0maxes\u001b[0m\u001b[0;34m[\u001b[0m\u001b[0maxis\u001b[0m\u001b[0;34m]\u001b[0m \u001b[0;34m=\u001b[0m \u001b[0mnew_labels\u001b[0m\u001b[0;34m\u001b[0m\u001b[0;34m\u001b[0m\u001b[0m\n\u001b[1;32m    232\u001b[0m \u001b[0;34m\u001b[0m\u001b[0m\n",
            "\u001b[0;32m/usr/local/lib/python3.10/dist-packages/pandas/core/internals/base.py\u001b[0m in \u001b[0;36m_validate_set_axis\u001b[0;34m(self, axis, new_labels)\u001b[0m\n\u001b[1;32m     68\u001b[0m \u001b[0;34m\u001b[0m\u001b[0m\n\u001b[1;32m     69\u001b[0m         \u001b[0;32melif\u001b[0m \u001b[0mnew_len\u001b[0m \u001b[0;34m!=\u001b[0m \u001b[0mold_len\u001b[0m\u001b[0;34m:\u001b[0m\u001b[0;34m\u001b[0m\u001b[0;34m\u001b[0m\u001b[0m\n\u001b[0;32m---> 70\u001b[0;31m             raise ValueError(\n\u001b[0m\u001b[1;32m     71\u001b[0m                 \u001b[0;34mf\"Length mismatch: Expected axis has {old_len} elements, new \"\u001b[0m\u001b[0;34m\u001b[0m\u001b[0;34m\u001b[0m\u001b[0m\n\u001b[1;32m     72\u001b[0m                 \u001b[0;34mf\"values have {new_len} elements\"\u001b[0m\u001b[0;34m\u001b[0m\u001b[0;34m\u001b[0m\u001b[0m\n",
            "\u001b[0;31mValueError\u001b[0m: Length mismatch: Expected axis has 10 elements, new values have 9 elements"
          ]
        }
      ]
    },
    {
      "cell_type": "code",
      "source": [
        "df.to_csv('/content/drive/MyDrive/Roshan Project/d/data_cleaned_11.csv',index=False)"
      ],
      "metadata": {
        "id": "Xy3XelMRdM-7"
      },
      "execution_count": 160,
      "outputs": []
    },
    {
      "cell_type": "code",
      "source": [
        "df"
      ],
      "metadata": {
        "colab": {
          "base_uri": "https://localhost:8080/",
          "height": 1000
        },
        "id": "KRjY5puGdSmx",
        "outputId": "142f19e1-095c-479e-8ec9-7fbef0e2bbbe"
      },
      "execution_count": 9,
      "outputs": [
        {
          "output_type": "execute_result",
          "data": {
            "text/plain": [
              "                                                  body  \\\n",
              "0    این نوشتار بر آن است تا با بررسی فقه الحدیثی ک...   \n",
              "1    چکیده:           این پژوهش براساس چارچوب نظری ...   \n",
              "2    فهم معانی عمیق و تدبر در آیات قرآن کریم برای ب...   \n",
              "3    آزادی موهبتی است الهی که خدای متعال به انسان ع...   \n",
              "4    یکی از نکاتی که توجه پژوهشگران اندیشه‌های سیاس...   \n",
              "..                                                 ...   \n",
              "445  پژوهش حاضر با هدف بررسی رابطه رضایت شغلی با تع...   \n",
              "446  سازمان ملل متحد در دهه های اخیر، با تغییر ساخت...   \n",
              "447  تفسیرهای فقهی از قدیمی‌ترین تفاسیری هستند که ا...   \n",
              "448  هدف از انجام این تحقیق بررسی تاثیر کیفیت زندگی...   \n",
              "449  هدف از پژوهش حاضر تبیین رابطه بین جهت گیری زند...   \n",
              "\n",
              "                                              keywords  \\\n",
              "0    فقه الحدیث,معانی الاخبار,روش فقه الحدیثی,چینش ...   \n",
              "1    سید محمد خاتمی,آدریان لفت ویچ,پیتر ایوانز,دولت...   \n",
              "2               جایگاه آرا تفسیری,محمد یزدی,ترجمه قرآن   \n",
              "3    محدودیت بازدارنده,آزادی بیان,بدعت,دین,ارتداد,ک...   \n",
              "4    آزادی,محمد تقی مصباح یزدی,مرتضی مطهری,دموکراسی...   \n",
              "..                                                 ...   \n",
              "445  شیراز,ارزیابی عمل‌کرد,کارکنان,عمل‌کرد شغل,تعهد...   \n",
              "446  کمیسیون حقوق‌بشر,حقوق‌بشر در ایران,بررسی دوره‌...   \n",
              "447      استنباط,کنز العرفان,آیات الاحکام,قواعد تفسیری   \n",
              "448  مدل  ,نوع دوستی,رفتار شهروندی سازمانی,تواضع,کی...   \n",
              "449  کارکنان,عمل‌کرد شغل,جهت‌گیری زندگی,دانشگاه آزا...   \n",
              "\n",
              "                                          cleaned_body  \\\n",
              "0    این نوشتار بر آن است تا با بررسی فقه الحدیثی ک...   \n",
              "1    چکیده           این پژوهش براساس چارچوب نظری د...   \n",
              "2    فهم معانی عمیق و تدبر در آیات قرآن کریم برای ب...   \n",
              "3    آزادی موهبتی است الهی که خدای متعال به انسان ع...   \n",
              "4    یکی از نکاتی که توجه پژوهشگران اندیشه‌های سیاس...   \n",
              "..                                                 ...   \n",
              "445  پژوهش حاضر با هدف بررسی رابطه رضایت شغلی با تع...   \n",
              "446  سازمان ملل متحد در دهه های اخیر با تغییر ساختا...   \n",
              "447  تفسیرهای فقهی از قدیمی‌ترین تفاسیری هستند که ا...   \n",
              "448  هدف از انجام این تحقیق بررسی تاثیر کیفیت زندگی...   \n",
              "449  هدف از پژوهش حاضر تبیین رابطه بین جهت گیری زند...   \n",
              "\n",
              "                                              textRank  \\\n",
              "0    مبانی فقه الحدیثی شیخ صدوق,روایات نتیجه ذیل,رو...   \n",
              "1    سیاست خارجی توسعه سیاسی,رویکرد توسعه‌ای دولت‌ه...   \n",
              "2    ترجمه قرآن کریم محمد یزدی بیان,ترجمه قرآن محمد...   \n",
              "3    آزادی بیان و,و بیان آزادی,و امه علیهم السلام,آ...   \n",
              "4    اصل آزادی بیان موضع,توحید مجال بیان عقاید,نوع ...   \n",
              "..                                                 ...   \n",
              "445  رضایت شغلی کارکنان کمیته امداد شهرستان شیراز,ع...   \n",
              "446  شورای حقوق بشر دارای تفاوت‌های,تصمیمات شورای ح...   \n",
              "447   تفسیر آیات,تفسیرهای فقهی,قواعد تفسیر,تفسیری مفسر   \n",
              "448  رفتار شهروندی سازمانی شامل نوع‌دوستی جوانمردی,...   \n",
              "449  بین مولفه‌های متغیر کیفیت زندگی کاری مولفه‌های...   \n",
              "\n",
              "                                            singleRank  \\\n",
              "0    جمله مبانی فقه الحدیثی شیخ صدوق اعتقاد,بررسی ف...   \n",
              "1    مبانی فکری دولت عدالت محور موجب اتخاذ رویکرد م...   \n",
              "2    ترجمه قرآن کریم محمد یزدی بیان موارد اختلاف,عن...   \n",
              "3    بیان آزادی قلم,آزادی بیان,پیامبر امه معصوم وخد...   \n",
              "4    نشیب‌های متعدد ساختار سیاسی جدیدی,تثیر نوع تفس...   \n",
              "..                                                 ...   \n",
              "445  عملکرد شغلی کارکنان کمیته امداد امام خمینیره ش...   \n",
              "446  تصمیمات شورای حقوق بشر,نهاد تازه تسیس شورای حق...   \n",
              "447  حال حاضر اثر ارزشمند فاضل مقداد کنز العرفان فی...   \n",
              "448  تحقیق کارکنان اداره کل کمیته امداد امام خمینی ...   \n",
              "449  بین ابعاد کیفیت زندگی کاری مقدار متغیر توسعه ق...   \n",
              "\n",
              "                                             topicRank  \\\n",
              "0    شیخ صدوق ره,مبانی,رد روایات اعتقاد,نتایج علمی,...   \n",
              "1    سیاست خارجی اولویت توسعه سیاسی,توسعه,نهادهای م...   \n",
              "2          مستلزم ترجمه,آیات قرآن ابراز,آیات قرآن کریم   \n",
              "3    دین,آزادی موهبتی,انسان عطا,اسلام,آزادی قلم,قال...   \n",
              "4    سیاسی,دین,مرتضی مطهری,نفی آزادی ری,تفسیر,متفکر...   \n",
              "..                                                 ...   \n",
              "445  تعهد سازمانی,هدف بررسی رابطه رضایت شغلی,کارکنا...   \n",
              "446  تشکیل کمیسیون حقوق بشر,ساختار,عملکرد,کمیسیون,ح...   \n",
              "447  قواعد متقنی,تفسیر آیات کریمه,تفسیر شناسایی,است...   \n",
              "448  بررسی مجدد,پایایی,روایی,پژوهش پرسشنامه استاندا...   \n",
              "449  آمار توصیفی,آزمون ضریب همبستگی پیرسون,رگرسیون ...   \n",
              "\n",
              "                                                tf-idf  \\\n",
              "0    ['شیخ', 'فقه', 'خویش', 'روایات', 'حیطه', 'بیانی']   \n",
              "1    ['دولت', 'به توسعه', 'توسعه', 'هفتم', 'در سیاست']   \n",
              "2                          ['ترجمه', 'تفسیری', 'محمد']   \n",
              "3    ['آزادی', 'قلم', 'بیان می', 'قال به', 'بیان', ...   \n",
              "4    ['عقاید', 'آزادی', 'خاصی از', 'خاصی', 'اندیشه'...   \n",
              "..                                                 ...   \n",
              "445  ['عملکرد شغلی', 'کمیته امداد', 'امداد', 'رضایت...   \n",
              "446    ['حقوق بشر', 'تصمیمات', 'شورای', 'بشر', 'حقوق']   \n",
              "447    ['قواعد', 'در نظر گرفتن', 'نظر گرفتن', 'گرفتن']   \n",
              "448  ['کمیته امداد امام خمینی', 'امداد امام خمینی',...   \n",
              "449  ['عملکرد شغلی', 'کیفیت زندگی', 'کاری', 'کارکنا...   \n",
              "\n",
              "                                              tf-idf-1  \\\n",
              "0    ['الحدیثی', 'فقه الحدیثی', 'صدوق', 'شیخ صدوق',...   \n",
              "1    ['دولت های', 'نهادهای مدنی', 'دولت های هفتم هش...   \n",
              "2                    ['ترجمه', 'در ترجمه', 'ترجمه ای']   \n",
              "3    ['آزادی بیان', 'آزادی', 'آزادی نطق', 'نطق', 'ش...   \n",
              "4    ['اندیشه سیاسی', 'متفکری', 'اندیشه سیاسی آن', ...   \n",
              "..                                                 ...   \n",
              "445  ['شهرستان شیراز', 'کمیته امداد شهرستان شیراز',...   \n",
              "446  ['شورای حقوق', 'شورای حقوق بشر', 'حقوق بشر', '...   \n",
              "447  ['قواعد', 'نظر گرفتن', 'در نظر گرفتن', 'نباشد ...   \n",
              "448  ['محاسبه گردیده است', 'کل کمیته امداد', 'امام ...   \n",
              "449  ['گیری زندگی', 'زندگی کاری', 'کیفیت زندگی کاری...   \n",
              "\n",
              "                                          positionRank  \\\n",
              "0     الحدیثی,صدوق,روش شیخ,نوشتار,روایات,روش تبیینی وی   \n",
              "1    پژوهش,توسعه,اولویت توسعه,توسعه سیاسی,سیاست خار...   \n",
              "2                                    تدبر,تدبر آنان,چه   \n",
              "3     بیان آزادی,آزادی,انسان,بیان,موهبتی,اسلام,عطا,دین   \n",
              "4    دین,نکاتی,تفسیر,آن تفسیر,تفسیر محمدتقی مصباح,نشان   \n",
              "..                                                 ...   \n",
              "445  شیراز,نفر,صورت,استفاده,امام,پرسشنامه,پرسشنامه ...   \n",
              "446                       بشر,ساختار,برجای,تغییرات,سال   \n",
              "447                        تدوین,تفاسیر,الحکام,تفاسیری   \n",
              "448                     تحقیق,روش تحقیق,هدف,امام,خمینی   \n",
              "449    هدف,رابطه,زندگی,کیفیت زندگی,ابعادجهت گیری زندگی   \n",
              "\n",
              "                                      multipartiteRank  \n",
              "0    مبانی,شیخ صدوق ره,دنبال روایت قید,پژوهش,مواقعی...  \n",
              "1       پژوهش,توسعه,نهادهای مدنی,توجه,احزاب سیاسی حرکت  \n",
              "2                       آیات قرآن کریم,تدبر,مترجم قرآن  \n",
              "3    آزادی موهبتی,انسان عطا,الهی,خدای متعال,دین,اسل...  \n",
              "4    دینی,مرتضی مطهری,مبحث آزادی عقیده,متفکری دین,ت...  \n",
              "..                                                 ...  \n",
              "445  هدف بررسی رابطه رضایت شغلی,تعهد سازمانی,پژوهش ...  \n",
              "446  فعالیتهای حقوق بشری برجای,ساختار,عملکرد,کمیسیو...  \n",
              "447  تفسیرهای فقهی,قواعد متقنی,تفسیر آیات کریمه,مبن...  \n",
              "448  تحقیق پرسشنامه,بررسی مجدد,روایی,پایایی,پژوهش پ...  \n",
              "449  آمار توصیفی,آزمون ضریب همبستگی پیرسون,رگرسیون ...  \n",
              "\n",
              "[450 rows x 10 columns]"
            ],
            "text/html": [
              "\n",
              "\n",
              "  <div id=\"df-ba529ec7-98c7-4b8d-bd75-48c4368dd4c9\">\n",
              "    <div class=\"colab-df-container\">\n",
              "      <div>\n",
              "<style scoped>\n",
              "    .dataframe tbody tr th:only-of-type {\n",
              "        vertical-align: middle;\n",
              "    }\n",
              "\n",
              "    .dataframe tbody tr th {\n",
              "        vertical-align: top;\n",
              "    }\n",
              "\n",
              "    .dataframe thead th {\n",
              "        text-align: right;\n",
              "    }\n",
              "</style>\n",
              "<table border=\"1\" class=\"dataframe\">\n",
              "  <thead>\n",
              "    <tr style=\"text-align: right;\">\n",
              "      <th></th>\n",
              "      <th>body</th>\n",
              "      <th>keywords</th>\n",
              "      <th>cleaned_body</th>\n",
              "      <th>textRank</th>\n",
              "      <th>singleRank</th>\n",
              "      <th>topicRank</th>\n",
              "      <th>tf-idf</th>\n",
              "      <th>tf-idf-1</th>\n",
              "      <th>positionRank</th>\n",
              "      <th>multipartiteRank</th>\n",
              "    </tr>\n",
              "  </thead>\n",
              "  <tbody>\n",
              "    <tr>\n",
              "      <th>0</th>\n",
              "      <td>این نوشتار بر آن است تا با بررسی فقه الحدیثی ک...</td>\n",
              "      <td>فقه الحدیث,معانی الاخبار,روش فقه الحدیثی,چینش ...</td>\n",
              "      <td>این نوشتار بر آن است تا با بررسی فقه الحدیثی ک...</td>\n",
              "      <td>مبانی فقه الحدیثی شیخ صدوق,روایات نتیجه ذیل,رو...</td>\n",
              "      <td>جمله مبانی فقه الحدیثی شیخ صدوق اعتقاد,بررسی ف...</td>\n",
              "      <td>شیخ صدوق ره,مبانی,رد روایات اعتقاد,نتایج علمی,...</td>\n",
              "      <td>['شیخ', 'فقه', 'خویش', 'روایات', 'حیطه', 'بیانی']</td>\n",
              "      <td>['الحدیثی', 'فقه الحدیثی', 'صدوق', 'شیخ صدوق',...</td>\n",
              "      <td>الحدیثی,صدوق,روش شیخ,نوشتار,روایات,روش تبیینی وی</td>\n",
              "      <td>مبانی,شیخ صدوق ره,دنبال روایت قید,پژوهش,مواقعی...</td>\n",
              "    </tr>\n",
              "    <tr>\n",
              "      <th>1</th>\n",
              "      <td>چکیده:           این پژوهش براساس چارچوب نظری ...</td>\n",
              "      <td>سید محمد خاتمی,آدریان لفت ویچ,پیتر ایوانز,دولت...</td>\n",
              "      <td>چکیده           این پژوهش براساس چارچوب نظری د...</td>\n",
              "      <td>سیاست خارجی توسعه سیاسی,رویکرد توسعه‌ای دولت‌ه...</td>\n",
              "      <td>مبانی فکری دولت عدالت محور موجب اتخاذ رویکرد م...</td>\n",
              "      <td>سیاست خارجی اولویت توسعه سیاسی,توسعه,نهادهای م...</td>\n",
              "      <td>['دولت', 'به توسعه', 'توسعه', 'هفتم', 'در سیاست']</td>\n",
              "      <td>['دولت های', 'نهادهای مدنی', 'دولت های هفتم هش...</td>\n",
              "      <td>پژوهش,توسعه,اولویت توسعه,توسعه سیاسی,سیاست خار...</td>\n",
              "      <td>پژوهش,توسعه,نهادهای مدنی,توجه,احزاب سیاسی حرکت</td>\n",
              "    </tr>\n",
              "    <tr>\n",
              "      <th>2</th>\n",
              "      <td>فهم معانی عمیق و تدبر در آیات قرآن کریم برای ب...</td>\n",
              "      <td>جایگاه آرا تفسیری,محمد یزدی,ترجمه قرآن</td>\n",
              "      <td>فهم معانی عمیق و تدبر در آیات قرآن کریم برای ب...</td>\n",
              "      <td>ترجمه قرآن کریم محمد یزدی بیان,ترجمه قرآن محمد...</td>\n",
              "      <td>ترجمه قرآن کریم محمد یزدی بیان موارد اختلاف,عن...</td>\n",
              "      <td>مستلزم ترجمه,آیات قرآن ابراز,آیات قرآن کریم</td>\n",
              "      <td>['ترجمه', 'تفسیری', 'محمد']</td>\n",
              "      <td>['ترجمه', 'در ترجمه', 'ترجمه ای']</td>\n",
              "      <td>تدبر,تدبر آنان,چه</td>\n",
              "      <td>آیات قرآن کریم,تدبر,مترجم قرآن</td>\n",
              "    </tr>\n",
              "    <tr>\n",
              "      <th>3</th>\n",
              "      <td>آزادی موهبتی است الهی که خدای متعال به انسان ع...</td>\n",
              "      <td>محدودیت بازدارنده,آزادی بیان,بدعت,دین,ارتداد,ک...</td>\n",
              "      <td>آزادی موهبتی است الهی که خدای متعال به انسان ع...</td>\n",
              "      <td>آزادی بیان و,و بیان آزادی,و امه علیهم السلام,آ...</td>\n",
              "      <td>بیان آزادی قلم,آزادی بیان,پیامبر امه معصوم وخد...</td>\n",
              "      <td>دین,آزادی موهبتی,انسان عطا,اسلام,آزادی قلم,قال...</td>\n",
              "      <td>['آزادی', 'قلم', 'بیان می', 'قال به', 'بیان', ...</td>\n",
              "      <td>['آزادی بیان', 'آزادی', 'آزادی نطق', 'نطق', 'ش...</td>\n",
              "      <td>بیان آزادی,آزادی,انسان,بیان,موهبتی,اسلام,عطا,دین</td>\n",
              "      <td>آزادی موهبتی,انسان عطا,الهی,خدای متعال,دین,اسل...</td>\n",
              "    </tr>\n",
              "    <tr>\n",
              "      <th>4</th>\n",
              "      <td>یکی از نکاتی که توجه پژوهشگران اندیشه‌های سیاس...</td>\n",
              "      <td>آزادی,محمد تقی مصباح یزدی,مرتضی مطهری,دموکراسی...</td>\n",
              "      <td>یکی از نکاتی که توجه پژوهشگران اندیشه‌های سیاس...</td>\n",
              "      <td>اصل آزادی بیان موضع,توحید مجال بیان عقاید,نوع ...</td>\n",
              "      <td>نشیب‌های متعدد ساختار سیاسی جدیدی,تثیر نوع تفس...</td>\n",
              "      <td>سیاسی,دین,مرتضی مطهری,نفی آزادی ری,تفسیر,متفکر...</td>\n",
              "      <td>['عقاید', 'آزادی', 'خاصی از', 'خاصی', 'اندیشه'...</td>\n",
              "      <td>['اندیشه سیاسی', 'متفکری', 'اندیشه سیاسی آن', ...</td>\n",
              "      <td>دین,نکاتی,تفسیر,آن تفسیر,تفسیر محمدتقی مصباح,نشان</td>\n",
              "      <td>دینی,مرتضی مطهری,مبحث آزادی عقیده,متفکری دین,ت...</td>\n",
              "    </tr>\n",
              "    <tr>\n",
              "      <th>...</th>\n",
              "      <td>...</td>\n",
              "      <td>...</td>\n",
              "      <td>...</td>\n",
              "      <td>...</td>\n",
              "      <td>...</td>\n",
              "      <td>...</td>\n",
              "      <td>...</td>\n",
              "      <td>...</td>\n",
              "      <td>...</td>\n",
              "      <td>...</td>\n",
              "    </tr>\n",
              "    <tr>\n",
              "      <th>445</th>\n",
              "      <td>پژوهش حاضر با هدف بررسی رابطه رضایت شغلی با تع...</td>\n",
              "      <td>شیراز,ارزیابی عمل‌کرد,کارکنان,عمل‌کرد شغل,تعهد...</td>\n",
              "      <td>پژوهش حاضر با هدف بررسی رابطه رضایت شغلی با تع...</td>\n",
              "      <td>رضایت شغلی کارکنان کمیته امداد شهرستان شیراز,ع...</td>\n",
              "      <td>عملکرد شغلی کارکنان کمیته امداد امام خمینیره ش...</td>\n",
              "      <td>تعهد سازمانی,هدف بررسی رابطه رضایت شغلی,کارکنا...</td>\n",
              "      <td>['عملکرد شغلی', 'کمیته امداد', 'امداد', 'رضایت...</td>\n",
              "      <td>['شهرستان شیراز', 'کمیته امداد شهرستان شیراز',...</td>\n",
              "      <td>شیراز,نفر,صورت,استفاده,امام,پرسشنامه,پرسشنامه ...</td>\n",
              "      <td>هدف بررسی رابطه رضایت شغلی,تعهد سازمانی,پژوهش ...</td>\n",
              "    </tr>\n",
              "    <tr>\n",
              "      <th>446</th>\n",
              "      <td>سازمان ملل متحد در دهه های اخیر، با تغییر ساخت...</td>\n",
              "      <td>کمیسیون حقوق‌بشر,حقوق‌بشر در ایران,بررسی دوره‌...</td>\n",
              "      <td>سازمان ملل متحد در دهه های اخیر با تغییر ساختا...</td>\n",
              "      <td>شورای حقوق بشر دارای تفاوت‌های,تصمیمات شورای ح...</td>\n",
              "      <td>تصمیمات شورای حقوق بشر,نهاد تازه تسیس شورای حق...</td>\n",
              "      <td>تشکیل کمیسیون حقوق بشر,ساختار,عملکرد,کمیسیون,ح...</td>\n",
              "      <td>['حقوق بشر', 'تصمیمات', 'شورای', 'بشر', 'حقوق']</td>\n",
              "      <td>['شورای حقوق', 'شورای حقوق بشر', 'حقوق بشر', '...</td>\n",
              "      <td>بشر,ساختار,برجای,تغییرات,سال</td>\n",
              "      <td>فعالیتهای حقوق بشری برجای,ساختار,عملکرد,کمیسیو...</td>\n",
              "    </tr>\n",
              "    <tr>\n",
              "      <th>447</th>\n",
              "      <td>تفسیرهای فقهی از قدیمی‌ترین تفاسیری هستند که ا...</td>\n",
              "      <td>استنباط,کنز العرفان,آیات الاحکام,قواعد تفسیری</td>\n",
              "      <td>تفسیرهای فقهی از قدیمی‌ترین تفاسیری هستند که ا...</td>\n",
              "      <td>تفسیر آیات,تفسیرهای فقهی,قواعد تفسیر,تفسیری مفسر</td>\n",
              "      <td>حال حاضر اثر ارزشمند فاضل مقداد کنز العرفان فی...</td>\n",
              "      <td>قواعد متقنی,تفسیر آیات کریمه,تفسیر شناسایی,است...</td>\n",
              "      <td>['قواعد', 'در نظر گرفتن', 'نظر گرفتن', 'گرفتن']</td>\n",
              "      <td>['قواعد', 'نظر گرفتن', 'در نظر گرفتن', 'نباشد ...</td>\n",
              "      <td>تدوین,تفاسیر,الحکام,تفاسیری</td>\n",
              "      <td>تفسیرهای فقهی,قواعد متقنی,تفسیر آیات کریمه,مبن...</td>\n",
              "    </tr>\n",
              "    <tr>\n",
              "      <th>448</th>\n",
              "      <td>هدف از انجام این تحقیق بررسی تاثیر کیفیت زندگی...</td>\n",
              "      <td>مدل  ,نوع دوستی,رفتار شهروندی سازمانی,تواضع,کی...</td>\n",
              "      <td>هدف از انجام این تحقیق بررسی تاثیر کیفیت زندگی...</td>\n",
              "      <td>رفتار شهروندی سازمانی شامل نوع‌دوستی جوانمردی,...</td>\n",
              "      <td>تحقیق کارکنان اداره کل کمیته امداد امام خمینی ...</td>\n",
              "      <td>بررسی مجدد,پایایی,روایی,پژوهش پرسشنامه استاندا...</td>\n",
              "      <td>['کمیته امداد امام خمینی', 'امداد امام خمینی',...</td>\n",
              "      <td>['محاسبه گردیده است', 'کل کمیته امداد', 'امام ...</td>\n",
              "      <td>تحقیق,روش تحقیق,هدف,امام,خمینی</td>\n",
              "      <td>تحقیق پرسشنامه,بررسی مجدد,روایی,پایایی,پژوهش پ...</td>\n",
              "    </tr>\n",
              "    <tr>\n",
              "      <th>449</th>\n",
              "      <td>هدف از پژوهش حاضر تبیین رابطه بین جهت گیری زند...</td>\n",
              "      <td>کارکنان,عمل‌کرد شغل,جهت‌گیری زندگی,دانشگاه آزا...</td>\n",
              "      <td>هدف از پژوهش حاضر تبیین رابطه بین جهت گیری زند...</td>\n",
              "      <td>بین مولفه‌های متغیر کیفیت زندگی کاری مولفه‌های...</td>\n",
              "      <td>بین ابعاد کیفیت زندگی کاری مقدار متغیر توسعه ق...</td>\n",
              "      <td>آمار توصیفی,آزمون ضریب همبستگی پیرسون,رگرسیون ...</td>\n",
              "      <td>['عملکرد شغلی', 'کیفیت زندگی', 'کاری', 'کارکنا...</td>\n",
              "      <td>['گیری زندگی', 'زندگی کاری', 'کیفیت زندگی کاری...</td>\n",
              "      <td>هدف,رابطه,زندگی,کیفیت زندگی,ابعادجهت گیری زندگی</td>\n",
              "      <td>آمار توصیفی,آزمون ضریب همبستگی پیرسون,رگرسیون ...</td>\n",
              "    </tr>\n",
              "  </tbody>\n",
              "</table>\n",
              "<p>450 rows × 10 columns</p>\n",
              "</div>\n",
              "      <button class=\"colab-df-convert\" onclick=\"convertToInteractive('df-ba529ec7-98c7-4b8d-bd75-48c4368dd4c9')\"\n",
              "              title=\"Convert this dataframe to an interactive table.\"\n",
              "              style=\"display:none;\">\n",
              "\n",
              "  <svg xmlns=\"http://www.w3.org/2000/svg\" height=\"24px\"viewBox=\"0 0 24 24\"\n",
              "       width=\"24px\">\n",
              "    <path d=\"M0 0h24v24H0V0z\" fill=\"none\"/>\n",
              "    <path d=\"M18.56 5.44l.94 2.06.94-2.06 2.06-.94-2.06-.94-.94-2.06-.94 2.06-2.06.94zm-11 1L8.5 8.5l.94-2.06 2.06-.94-2.06-.94L8.5 2.5l-.94 2.06-2.06.94zm10 10l.94 2.06.94-2.06 2.06-.94-2.06-.94-.94-2.06-.94 2.06-2.06.94z\"/><path d=\"M17.41 7.96l-1.37-1.37c-.4-.4-.92-.59-1.43-.59-.52 0-1.04.2-1.43.59L10.3 9.45l-7.72 7.72c-.78.78-.78 2.05 0 2.83L4 21.41c.39.39.9.59 1.41.59.51 0 1.02-.2 1.41-.59l7.78-7.78 2.81-2.81c.8-.78.8-2.07 0-2.86zM5.41 20L4 18.59l7.72-7.72 1.47 1.35L5.41 20z\"/>\n",
              "  </svg>\n",
              "      </button>\n",
              "\n",
              "\n",
              "\n",
              "    <div id=\"df-33e5ee2a-c3b8-420e-9fa5-e1d79d5c7594\">\n",
              "      <button class=\"colab-df-quickchart\" onclick=\"quickchart('df-33e5ee2a-c3b8-420e-9fa5-e1d79d5c7594')\"\n",
              "              title=\"Suggest charts.\"\n",
              "              style=\"display:none;\">\n",
              "\n",
              "<svg xmlns=\"http://www.w3.org/2000/svg\" height=\"24px\"viewBox=\"0 0 24 24\"\n",
              "     width=\"24px\">\n",
              "    <g>\n",
              "        <path d=\"M19 3H5c-1.1 0-2 .9-2 2v14c0 1.1.9 2 2 2h14c1.1 0 2-.9 2-2V5c0-1.1-.9-2-2-2zM9 17H7v-7h2v7zm4 0h-2V7h2v10zm4 0h-2v-4h2v4z\"/>\n",
              "    </g>\n",
              "</svg>\n",
              "      </button>\n",
              "    </div>\n",
              "\n",
              "<style>\n",
              "  .colab-df-quickchart {\n",
              "    background-color: #E8F0FE;\n",
              "    border: none;\n",
              "    border-radius: 50%;\n",
              "    cursor: pointer;\n",
              "    display: none;\n",
              "    fill: #1967D2;\n",
              "    height: 32px;\n",
              "    padding: 0 0 0 0;\n",
              "    width: 32px;\n",
              "  }\n",
              "\n",
              "  .colab-df-quickchart:hover {\n",
              "    background-color: #E2EBFA;\n",
              "    box-shadow: 0px 1px 2px rgba(60, 64, 67, 0.3), 0px 1px 3px 1px rgba(60, 64, 67, 0.15);\n",
              "    fill: #174EA6;\n",
              "  }\n",
              "\n",
              "  [theme=dark] .colab-df-quickchart {\n",
              "    background-color: #3B4455;\n",
              "    fill: #D2E3FC;\n",
              "  }\n",
              "\n",
              "  [theme=dark] .colab-df-quickchart:hover {\n",
              "    background-color: #434B5C;\n",
              "    box-shadow: 0px 1px 3px 1px rgba(0, 0, 0, 0.15);\n",
              "    filter: drop-shadow(0px 1px 2px rgba(0, 0, 0, 0.3));\n",
              "    fill: #FFFFFF;\n",
              "  }\n",
              "</style>\n",
              "\n",
              "    <script>\n",
              "      async function quickchart(key) {\n",
              "        const containerElement = document.querySelector('#' + key);\n",
              "        const charts = await google.colab.kernel.invokeFunction(\n",
              "            'suggestCharts', [key], {});\n",
              "      }\n",
              "    </script>\n",
              "\n",
              "      <script>\n",
              "\n",
              "function displayQuickchartButton(domScope) {\n",
              "  let quickchartButtonEl =\n",
              "    domScope.querySelector('#df-33e5ee2a-c3b8-420e-9fa5-e1d79d5c7594 button.colab-df-quickchart');\n",
              "  quickchartButtonEl.style.display =\n",
              "    google.colab.kernel.accessAllowed ? 'block' : 'none';\n",
              "}\n",
              "\n",
              "        displayQuickchartButton(document);\n",
              "      </script>\n",
              "      <style>\n",
              "    .colab-df-container {\n",
              "      display:flex;\n",
              "      flex-wrap:wrap;\n",
              "      gap: 12px;\n",
              "    }\n",
              "\n",
              "    .colab-df-convert {\n",
              "      background-color: #E8F0FE;\n",
              "      border: none;\n",
              "      border-radius: 50%;\n",
              "      cursor: pointer;\n",
              "      display: none;\n",
              "      fill: #1967D2;\n",
              "      height: 32px;\n",
              "      padding: 0 0 0 0;\n",
              "      width: 32px;\n",
              "    }\n",
              "\n",
              "    .colab-df-convert:hover {\n",
              "      background-color: #E2EBFA;\n",
              "      box-shadow: 0px 1px 2px rgba(60, 64, 67, 0.3), 0px 1px 3px 1px rgba(60, 64, 67, 0.15);\n",
              "      fill: #174EA6;\n",
              "    }\n",
              "\n",
              "    [theme=dark] .colab-df-convert {\n",
              "      background-color: #3B4455;\n",
              "      fill: #D2E3FC;\n",
              "    }\n",
              "\n",
              "    [theme=dark] .colab-df-convert:hover {\n",
              "      background-color: #434B5C;\n",
              "      box-shadow: 0px 1px 3px 1px rgba(0, 0, 0, 0.15);\n",
              "      filter: drop-shadow(0px 1px 2px rgba(0, 0, 0, 0.3));\n",
              "      fill: #FFFFFF;\n",
              "    }\n",
              "  </style>\n",
              "\n",
              "      <script>\n",
              "        const buttonEl =\n",
              "          document.querySelector('#df-ba529ec7-98c7-4b8d-bd75-48c4368dd4c9 button.colab-df-convert');\n",
              "        buttonEl.style.display =\n",
              "          google.colab.kernel.accessAllowed ? 'block' : 'none';\n",
              "\n",
              "        async function convertToInteractive(key) {\n",
              "          const element = document.querySelector('#df-ba529ec7-98c7-4b8d-bd75-48c4368dd4c9');\n",
              "          const dataTable =\n",
              "            await google.colab.kernel.invokeFunction('convertToInteractive',\n",
              "                                                     [key], {});\n",
              "          if (!dataTable) return;\n",
              "\n",
              "          const docLinkHtml = 'Like what you see? Visit the ' +\n",
              "            '<a target=\"_blank\" href=https://colab.research.google.com/notebooks/data_table.ipynb>data table notebook</a>'\n",
              "            + ' to learn more about interactive tables.';\n",
              "          element.innerHTML = '';\n",
              "          dataTable['output_type'] = 'display_data';\n",
              "          await google.colab.output.renderOutput(dataTable, element);\n",
              "          const docLink = document.createElement('div');\n",
              "          docLink.innerHTML = docLinkHtml;\n",
              "          element.appendChild(docLink);\n",
              "        }\n",
              "      </script>\n",
              "    </div>\n",
              "  </div>\n"
            ]
          },
          "metadata": {},
          "execution_count": 9
        }
      ]
    },
    {
      "cell_type": "code",
      "source": [
        "df.columns"
      ],
      "metadata": {
        "colab": {
          "base_uri": "https://localhost:8080/"
        },
        "id": "nwWM4al-deVx",
        "outputId": "ffe56955-d544-49cf-f2bd-53db2ac10ab3"
      },
      "execution_count": 10,
      "outputs": [
        {
          "output_type": "execute_result",
          "data": {
            "text/plain": [
              "Index(['body', 'keywords', 'cleaned_body', 'textRank', 'singleRank',\n",
              "       'topicRank', 'tf-idf', 'tf-idf-1', 'positionRank', 'multipartiteRank'],\n",
              "      dtype='object')"
            ]
          },
          "metadata": {},
          "execution_count": 10
        }
      ]
    },
    {
      "cell_type": "code",
      "source": [
        "top = ['textRank', 'singleRank',\n",
        "       'topicRank', 'tf-idf-1', 'positionRank', 'multipartiteRank']"
      ],
      "metadata": {
        "id": "aMIgRWGIdbi4"
      },
      "execution_count": 167,
      "outputs": []
    },
    {
      "cell_type": "code",
      "source": [
        "kk = 0\n",
        "for i in df['keywords']:\n",
        "    kk += len(i.split(','))\n",
        "print('number of all keyword:',kk)"
      ],
      "metadata": {
        "colab": {
          "base_uri": "https://localhost:8080/"
        },
        "id": "oilyjkmzds-Q",
        "outputId": "1b7aa3d8-24ca-41a6-ad81-a899687b407e"
      },
      "execution_count": 12,
      "outputs": [
        {
          "output_type": "stream",
          "name": "stdout",
          "text": [
            "number of all keyword: 2663\n"
          ]
        }
      ]
    },
    {
      "cell_type": "code",
      "source": [
        "print('If we choose exact words\\n\\n')\n",
        "for c in top:\n",
        "    kk1 = 0\n",
        "    for j,i in zip(df['keywords'],df[c]):\n",
        "        for i1 in i.split(','):\n",
        "            # print(j.split(','))\n",
        "            if i1 in j.split(','):\n",
        "                # print(i1)\n",
        "                kk1 += 1\n",
        "    re = kk1/kk\n",
        "    print('Recall {:<23} {:.3f}'.format(c,re))\n",
        "    kk2 = 0\n",
        "    for i,j in zip(df['keywords'],df[c]):\n",
        "        for i1 in i.split(','):\n",
        "            # print(j.split(','))\n",
        "            if i1 in j.split(','):\n",
        "                # print(i1)\n",
        "                kk2 += 1\n",
        "    pr = kk2/kk\n",
        "    print('Precision {:<20} {:.3f}'.format(c,pr))\n",
        "    try:\n",
        "        f1 = (2*(pr*re)/(pr+re))\n",
        "    except:\n",
        "        f1 = 0\n",
        "    print('F1 score {:<21} {:.3f}'.format(c,f1))\n",
        "    print(\"####################################\")"
      ],
      "metadata": {
        "colab": {
          "base_uri": "https://localhost:8080/"
        },
        "id": "3Ats4y3ZdauT",
        "outputId": "fa6682c1-ff55-4349-9224-69e08ab686a9"
      },
      "execution_count": 17,
      "outputs": [
        {
          "output_type": "stream",
          "name": "stdout",
          "text": [
            "If we choose exact words\n",
            "\n",
            "\n",
            "Recall keywords                1.000\n",
            "Precision keywords             1.000\n",
            "F1 score keywords              1.000\n",
            "####################################\n",
            "Recall textRank                0.067\n",
            "Precision textRank             0.069\n",
            "F1 score textRank              0.068\n",
            "####################################\n",
            "Recall singleRank              0.026\n",
            "Precision singleRank           0.028\n",
            "F1 score singleRank            0.027\n",
            "####################################\n",
            "Recall topicRank               0.103\n",
            "Precision topicRank            0.107\n",
            "F1 score topicRank             0.105\n",
            "####################################\n",
            "Recall tf-idf                  0.000\n",
            "Precision tf-idf               0.000\n",
            "F1 score tf-idf                0.000\n",
            "####################################\n",
            "Recall tf-idf-1                0.000\n",
            "Precision tf-idf-1             0.000\n",
            "F1 score tf-idf-1              0.000\n",
            "####################################\n",
            "Recall positionRank            0.066\n",
            "Precision positionRank         0.066\n",
            "F1 score positionRank          0.066\n",
            "####################################\n",
            "Recall multipartiteRank        0.110\n",
            "Precision multipartiteRank     0.113\n",
            "F1 score multipartiteRank      0.112\n",
            "####################################\n"
          ]
        }
      ]
    },
    {
      "cell_type": "code",
      "source": [
        "print('If we do not choose exact words\\n\\n')\n",
        "for c in top:\n",
        "    kk1 = 0\n",
        "    for j,i in zip(df['keywords'],df[c]):\n",
        "        for i1 in i.split(','):\n",
        "            # print(j.split(','))\n",
        "            if i1 in j:\n",
        "                # print(i1)\n",
        "                kk1 += 1\n",
        "    re = kk1/kk\n",
        "    print('Recall {:<23} {:.3f}'.format(c,re))\n",
        "    kk2 = 0\n",
        "    for i,j in zip(df['keywords'],df[c]):\n",
        "        for i1 in i.split(','):\n",
        "            # print(j.split(','))\n",
        "            if i1 in j:\n",
        "                # print(i1)\n",
        "                kk2 += 1\n",
        "    pr = kk2/kk\n",
        "    print('Precision {:<20} {:.3f}'.format(c,pr))\n",
        "    f1 = (2*(pr*re)/(pr+re))\n",
        "    print('F1 score {:<21} {:.3f}'.format(c,f1))\n",
        "    print(\"####################################\")"
      ],
      "metadata": {
        "colab": {
          "base_uri": "https://localhost:8080/"
        },
        "id": "Rpo2uQjwduSC",
        "outputId": "325ef365-7739-4a0d-e679-10b805bbbf36"
      },
      "execution_count": 15,
      "outputs": [
        {
          "output_type": "stream",
          "name": "stdout",
          "text": [
            "If we do not choose exact words\n",
            "\n",
            "\n",
            "Recall keywords                1.000\n",
            "Precision keywords             1.000\n",
            "F1 score keywords              1.000\n",
            "####################################\n",
            "Recall textRank                0.099\n",
            "Precision textRank             0.278\n",
            "F1 score textRank              0.146\n",
            "####################################\n",
            "Recall singleRank              0.034\n",
            "Precision singleRank           0.454\n",
            "F1 score singleRank            0.063\n",
            "####################################\n",
            "Recall topicRank               0.188\n",
            "Precision topicRank            0.271\n",
            "F1 score topicRank             0.222\n",
            "####################################\n",
            "Recall tf-idf                  0.000\n",
            "Precision tf-idf               0.111\n",
            "F1 score tf-idf                0.000\n",
            "####################################\n",
            "Recall tf-idf-1                0.000\n",
            "Precision tf-idf-1             0.256\n",
            "F1 score tf-idf-1              0.000\n",
            "####################################\n",
            "Recall positionRank            0.273\n",
            "Precision positionRank         0.095\n",
            "F1 score positionRank          0.141\n",
            "####################################\n",
            "Recall multipartiteRank        0.195\n",
            "Precision multipartiteRank     0.262\n",
            "F1 score multipartiteRank      0.224\n",
            "####################################\n"
          ]
        }
      ]
    },
    {
      "cell_type": "markdown",
      "source": [
        "![image.png](data:image/png;base64,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)"
      ],
      "metadata": {
        "id": "QgJUf59ie_A6"
      }
    },
    {
      "cell_type": "code",
      "source": [],
      "metadata": {
        "id": "viOBBEvpxLY_"
      },
      "execution_count": null,
      "outputs": []
    },
    {
      "cell_type": "code",
      "source": [],
      "metadata": {
        "id": "lkQnfvtdxLWL"
      },
      "execution_count": null,
      "outputs": []
    },
    {
      "cell_type": "code",
      "source": [],
      "metadata": {
        "id": "ZRJW5uocxLUB"
      },
      "execution_count": null,
      "outputs": []
    },
    {
      "cell_type": "code",
      "source": [
        "e = pd.DataFrame()\n",
        "print('Exact match\\n\\n')\n",
        "for c in top:\n",
        "    tp = 0\n",
        "    fn = 0\n",
        "    fp = 0\n",
        "    for i,j in zip(df['keywords'],df[c]):\n",
        "        for j1 in j.split(','):\n",
        "            if j1 in i.split(','):\n",
        "                tp += 1\n",
        "            else:\n",
        "                fp += 1\n",
        "\n",
        "        for i1 in i.split(','):\n",
        "            if i1 not in j.split(','):\n",
        "                fn +=1\n",
        "    pr = tp / (tp + fn)\n",
        "    re = tp / (tp + fp)\n",
        "    print('for {:<20} precision: {:<10.5f} recall: {:.5f}'.format(c,pr,re))\n",
        "    e[c] = [pr,re]"
      ],
      "metadata": {
        "colab": {
          "base_uri": "https://localhost:8080/"
        },
        "id": "x38kFVxMfSbk",
        "outputId": "74b439b0-0faf-4171-fa75-24999a646261"
      },
      "execution_count": 168,
      "outputs": [
        {
          "output_type": "stream",
          "name": "stdout",
          "text": [
            "Exact match\n",
            "\n",
            "\n",
            "for textRank             precision: 0.06702    recall: 0.06684\n",
            "for singleRank           precision: 0.02634    recall: 0.02629\n",
            "for topicRank            precision: 0.10362    recall: 0.10331\n",
            "for tf-idf-1             precision: 0.05867    recall: 0.05858\n",
            "for positionRank         precision: 0.06612    recall: 0.06609\n",
            "for multipartiteRank     precision: 0.11040    recall: 0.11007\n"
          ]
        }
      ]
    },
    {
      "cell_type": "code",
      "source": [
        "tp,fn,fp"
      ],
      "metadata": {
        "colab": {
          "base_uri": "https://localhost:8080/"
        },
        "id": "lv5NvF6Yz8Bs",
        "outputId": "701123fe-9636-4762-fddf-eb82ad258353"
      },
      "execution_count": 162,
      "outputs": [
        {
          "output_type": "execute_result",
          "data": {
            "text/plain": [
              "(293, 2361, 2369)"
            ]
          },
          "metadata": {},
          "execution_count": 162
        }
      ]
    },
    {
      "cell_type": "code",
      "source": [
        "ne = pd.DataFrame()\n",
        "print('not Exact match\\n\\n')\n",
        "for c in top:\n",
        "    tp = 0\n",
        "    fn = 0\n",
        "    fp = 0\n",
        "    for i,j in zip(df['keywords'],df[c]):\n",
        "        for j1 in j.split(','):\n",
        "            if j1 in i:\n",
        "                tp += 1\n",
        "            else:\n",
        "                fp += 1\n",
        "\n",
        "        for i1 in i.split(','):\n",
        "            if i1 not in j:\n",
        "                fn +=1\n",
        "    pr = tp / (tp + fn)\n",
        "    re = tp / (tp + fp)\n",
        "    print('# {:<20} precision: {:<10.5f} recall: {:.5f}'.format(c,pr,re))\n",
        "    ne[c] = [pr,re]"
      ],
      "metadata": {
        "colab": {
          "base_uri": "https://localhost:8080/"
        },
        "id": "8mG-SHLLjqTO",
        "outputId": "6c4da119-56f0-4a52-9dfe-5f2f1c331e7f"
      },
      "execution_count": 169,
      "outputs": [
        {
          "output_type": "stream",
          "name": "stdout",
          "text": [
            "not Exact match\n",
            "\n",
            "\n",
            "# textRank             precision: 0.12026    recall: 0.09876\n",
            "# singleRank           precision: 0.05825    recall: 0.03380\n",
            "# topicRank            precision: 0.20508    recall: 0.18820\n",
            "# tf-idf-1             precision: 0.25132    recall: 0.24972\n",
            "# positionRank         precision: 0.23192    recall: 0.27338\n",
            "# multipartiteRank     precision: 0.20902    recall: 0.19497\n"
          ]
        }
      ]
    },
    {
      "cell_type": "code",
      "source": [
        "tp,fn,fp"
      ],
      "metadata": {
        "colab": {
          "base_uri": "https://localhost:8080/"
        },
        "id": "zrdFkQNVzO2T",
        "outputId": "cfa8de49-59fd-4724-acad-c0627f6f6c78"
      },
      "execution_count": 131,
      "outputs": [
        {
          "output_type": "execute_result",
          "data": {
            "text/plain": [
              "(519, 1964, 2143)"
            ]
          },
          "metadata": {},
          "execution_count": 131
        }
      ]
    },
    {
      "cell_type": "code",
      "source": [
        "# ne['cleaned_body'] = [0.80586,0.82666]\n",
        "# e['cleaned_body'] = [0.80586,0.82666]"
      ],
      "metadata": {
        "id": "XIVBj5Tml0ur"
      },
      "execution_count": 132,
      "outputs": []
    },
    {
      "cell_type": "code",
      "source": [
        "e.index = ['precision','recall']\n",
        "ne.index = ['precision','recall']"
      ],
      "metadata": {
        "id": "Cxhy5ggdkF4l"
      },
      "execution_count": 170,
      "outputs": []
    },
    {
      "cell_type": "code",
      "source": [
        "fig = plt.figure(dpi=200)\n",
        "e.T.plot(figsize=(16,6),marker='p',grid=True,ax=plt.gca())\n",
        "# plt.hlines(0.80586,7,0,label='precision')\n",
        "# plt.hlines(0.82666,7,0,label='recall',color='orange')\n",
        "plt.title('Precision and recall (exact match)',fontsize=16)\n",
        "plt.xlabel('key-word extraction methods',fontsize=12)\n",
        "plt.ylabel('value',fontsize=12)\n",
        "plt.xticks(fontsize=10)\n",
        "plt.savefig('./precision_recal_e.png',bbox_inches='tight')"
      ],
      "metadata": {
        "colab": {
          "base_uri": "https://localhost:8080/",
          "height": 647
        },
        "id": "8BDYt4BBkPGw",
        "outputId": "09f497db-e630-402f-b35d-8688c089f5a4"
      },
      "execution_count": 194,
      "outputs": [
        {
          "output_type": "display_data",
          "data": {
            "text/plain": [
              "<Figure size 3200x1200 with 1 Axes>"
            ],
            "image/png": "[encoded data removed]"
          },
          "metadata": {}
        }
      ]
    },
    {
      "cell_type": "code",
      "source": [
        "df.columns"
      ],
      "metadata": {
        "colab": {
          "base_uri": "https://localhost:8080/"
        },
        "id": "xbTFh-3Mks-t",
        "outputId": "6ef351c9-a7c1-4779-b12a-94d03f100477"
      },
      "execution_count": 62,
      "outputs": [
        {
          "output_type": "execute_result",
          "data": {
            "text/plain": [
              "Index(['body', 'keywords', 'cleaned_body', 'textRank', 'singleRank',\n",
              "       'topicRank', 'tf-idf', 'tf-idf-1', 'positionRank', 'multipartiteRank'],\n",
              "      dtype='object')"
            ]
          },
          "metadata": {},
          "execution_count": 62
        }
      ]
    },
    {
      "cell_type": "code",
      "source": [
        "# tp = 0\n",
        "# fn = 0\n",
        "# fp = 0\n",
        "# c = 'cleaned_body'\n",
        "# for j,i in zip(df['keywords'],df[c]):\n",
        "# # for j,i in zip(df['keywords'],df[c]):\n",
        "#     # print('keyword: ',i,'\\n',f'{c}: ',j)\n",
        "#     # print('\\n\\n')\n",
        "#     for k in j.split(','):\n",
        "#         if k in i:\n",
        "#             tp += 1\n",
        "#         else:\n",
        "#             fn += 1\n",
        "#     for k in i.split(','):\n",
        "#         if k in j:\n",
        "#             pass\n",
        "#         else:\n",
        "#             fp +=1\n",
        "# try:\n",
        "#     pr = tp / (tp + fn)\n",
        "# except:\n",
        "#     pr = 1\n",
        "# try:\n",
        "#     re = tp / (tp + fp)\n",
        "# except:\n",
        "#     re = 1\n",
        "# print('for {:<20} precision: {:<10.5f} recall: {:.5f}'.format(c,pr,re))\n",
        "# # e[c] = [pr,re]"
      ],
      "metadata": {
        "colab": {
          "base_uri": "https://localhost:8080/"
        },
        "id": "oaAstzpokgBY",
        "outputId": "5ccaaac1-4c7e-4887-fda5-55f49e52d49e"
      },
      "execution_count": 70,
      "outputs": [
        {
          "output_type": "stream",
          "name": "stdout",
          "text": [
            "for cleaned_body         precision: 0.80586    recall: 0.82666\n"
          ]
        }
      ]
    },
    {
      "cell_type": "code",
      "source": [],
      "metadata": {
        "colab": {
          "base_uri": "https://localhost:8080/"
        },
        "id": "2seo1y2Slp7J",
        "outputId": "8c096b07-9fe1-4adc-b6ad-91c6473b56b6"
      },
      "execution_count": 101,
      "outputs": [
        {
          "output_type": "stream",
          "name": "stdout",
          "text": [
            "for keywords             precision: 1.00000    recall: 1.00000\n",
            "for textRank             precision: 0.27751    recall: 0.23543\n",
            "for singleRank           precision: 0.45362    recall: 0.31949\n",
            "for topicRank            precision: 0.27075    recall: 0.25017\n",
            "for tf-idf               precision: 0.11115    recall: 0.10003\n",
            "for tf-idf-1             precision: 0.25610    recall: 0.20389\n",
            "for positionRank         precision: 0.09463    recall: 0.11523\n",
            "for multipartiteRank     precision: 0.26249    recall: 0.24595\n"
          ]
        }
      ]
    },
    {
      "cell_type": "code",
      "source": [],
      "metadata": {
        "id": "S--vksUfvm6_"
      },
      "execution_count": null,
      "outputs": []
    },
    {
      "cell_type": "markdown",
      "source": [
        "# we have a problem with precision and recall"
      ],
      "metadata": {
        "id": "qRVRSfFJxMeO"
      }
    },
    {
      "cell_type": "markdown",
      "source": [
        "![image.png](data:image/png;base64,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)"
      ],
      "metadata": {
        "id": "vNkzNiyNxXvZ"
      }
    },
    {
      "cell_type": "code",
      "source": [
        "# in df[c][0] and are in df['keywords'] are tp\n",
        "# in df[c][0] and are not in df['keywords'] are fp\n",
        "# in df['keywords'] and are not in df[c][0]are fn\n",
        "#"
      ],
      "metadata": {
        "colab": {
          "base_uri": "https://localhost:8080/",
          "height": 34
        },
        "id": "eIHQJHK5xikC",
        "outputId": "32a3206b-0a78-4ecb-c945-39dcf682f27d"
      },
      "execution_count": 103,
      "outputs": [
        {
          "output_type": "execute_result",
          "data": {
            "text/plain": [
              "'مبانی,شیخ صدوق ره,دنبال روایت قید,پژوهش,مواقعی,نتایج علمی'"
            ],
            "application/vnd.google.colaboratory.intrinsic+json": {
              "type": "string"
            }
          },
          "metadata": {},
          "execution_count": 103
        }
      ]
    },
    {
      "cell_type": "code",
      "source": [
        "for c in top:\n",
        "    tp = 0\n",
        "    fn = 0\n",
        "    fp = 0\n",
        "    for i,j in zip(df['keywords'],df[c]):\n",
        "        for j1 in j.split(','):\n",
        "            if j1 in i:\n",
        "                tp += 1\n",
        "            else:\n",
        "                fp += 1\n",
        "\n",
        "        for i1 in i.split(','):\n",
        "            if i1 not in j.split(','):\n",
        "                fn +=1\n",
        "    try:\n",
        "        pr = tp / (tp + fn)\n",
        "    except:\n",
        "        pr = 1\n",
        "    try:\n",
        "        re = tp / (tp + fp)\n",
        "    except:\n",
        "        re = 1\n",
        "    print('for {:<20} precision: {:<10.5f} recall: {:.5f}'.format(c,pr,re))\n",
        "\n",
        "    # break"
      ],
      "metadata": {
        "colab": {
          "base_uri": "https://localhost:8080/"
        },
        "id": "fmzhIjT8xQoB",
        "outputId": "858e5fd7-75e2-461d-c466-a9168704955d"
      },
      "execution_count": 104,
      "outputs": [
        {
          "output_type": "stream",
          "name": "stdout",
          "text": [
            "for keywords             precision: 1.00000    recall: 1.00000\n",
            "for textRank             precision: 0.09595    recall: 0.09876\n",
            "for singleRank           precision: 0.03361    recall: 0.03380\n",
            "for topicRank            precision: 0.17396    recall: 0.18820\n",
            "for tf-idf               precision: 0.00000    recall: 0.00000\n",
            "for tf-idf-1             precision: 0.00000    recall: 0.00000\n",
            "for positionRank         precision: 0.22651    recall: 0.27338\n",
            "for multipartiteRank     precision: 0.18021    recall: 0.19497\n"
          ]
        }
      ]
    },
    {
      "cell_type": "code",
      "source": [
        "for c in top:\n",
        "    tp = 0\n",
        "    fn = 0\n",
        "    fp = 0\n",
        "    for j,i in zip(df['keywords'],df[c]):\n",
        "    # for j,i in zip(df['keywords'],df[c]):\n",
        "        i2j = []\n",
        "        j2i = []\n",
        "        # print('keyword: ',i,'\\n',f'{c}: ',j)\n",
        "        # print('\\n\\n')\n",
        "        for k in j.split(','):\n",
        "            if k in i:\n",
        "                tp += 1\n",
        "                # i2j.append(k)\n",
        "                pass\n",
        "            else:\n",
        "                fn += 1\n",
        "        for k in i.split(','):\n",
        "            if k in j:\n",
        "                # tp += 1\n",
        "                pass\n",
        "            else:\n",
        "                fp +=1\n",
        "    try:\n",
        "        pr = tp / (tp + fn)\n",
        "    except:\n",
        "        pr = 1\n",
        "    try:\n",
        "        re = tp / (tp + fp)\n",
        "    except:\n",
        "        re = 1\n",
        "    print('for {:<20} precision: {:<10.5f} recall: {:.5f}'.format(c,pr,re))\n",
        "\n",
        "    # break"
      ],
      "metadata": {
        "id": "RGaQ2hXbyIxA"
      },
      "execution_count": null,
      "outputs": []
    },
    {
      "cell_type": "code",
      "source": [
        "l2 = 'چجحخهعغفقثصضگکمنتالبیسشوپدذرزطظژء آ ب پ ت ث ج چ ه خ د ذ ر ز ژ س ش ص ض ط ظ ع غ ف ق ک گ ل م ن و  , ه ی \\u200c  '\n",
        "def rnalph2(k):\n",
        "    kk = ''\n",
        "    for i,j in enumerate(k):\n",
        "        if (j in l2)|(j == ','):\n",
        "            kk = kk + j\n",
        "        else:pass\n",
        "    return kk\n",
        "    df['tf-idf'] = df['tf-idf'].apply(rnalph2)\n",
        "df['tf-idf'][0]"
      ],
      "metadata": {
        "id": "ifhTfn-r3Hiw"
      },
      "execution_count": null,
      "outputs": []
    }
  ]
}